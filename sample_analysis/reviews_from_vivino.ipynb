{
 "cells": [
  {
   "cell_type": "markdown",
   "id": "4d7058aa",
   "metadata": {},
   "source": [
    "# Initialization:"
   ]
  },
  {
   "cell_type": "code",
   "execution_count": 1,
   "id": "3af8c605",
   "metadata": {
    "ExecuteTime": {
     "end_time": "2023-03-05T17:36:27.488520Z",
     "start_time": "2023-03-05T17:36:19.258681Z"
    }
   },
   "outputs": [],
   "source": [
    "import pandas as pd\n",
    "import re\n",
    "from datetime import datetime\n",
    "from tqdm import tqdm\n",
    "import json\n",
    "from glob import glob\n",
    "import emoji\n",
    "import math\n",
    "import matplotlib.pyplot as plt\n",
    "import requests\n",
    "from bs4 import BeautifulSoup\n",
    "import numpy as np\n",
    "import vivino\n",
    "from sklearn.utils import shuffle\n",
    "\n",
    "import spacy\n",
    "nlp = spacy.load('en_core_web_sm-wine', disable=['better'])\n",
    "\n",
    "TOKEN = 'PRICETOKEN'\n",
    "\n",
    "\n",
    "folder_raw_vivino = './raw_vivino_data/'\n",
    "folder_vivino = './vivino_data/'\n",
    "keep_columns = [\n",
    "    'rating',\n",
    "    'note',\n",
    "    'language',\n",
    "    'created_at',\n",
    "    'user.id',\n",
    "    'user.seo_name',\n",
    "    'user.alias',\n",
    "    'user.statistics.followers_count',\n",
    "    'user.statistics.followings_count',\n",
    "    'user.statistics.ratings_count',\n",
    "    'user.statistics.ratings_sum',\n",
    "    'user.statistics.reviews_count',\n",
    "    'vintage.id',\n",
    "    'vintage.seo_name',\n",
    "    'vintage.name',\n",
    "    'vintage.statistics.status',\n",
    "    'vintage.image.location',\n",
    "    'vintage.statistics.ratings_count',\n",
    "    'vintage.statistics.ratings_average',\n",
    "    'vintage.statistics.reviews_count',\n",
    "    'vintage.wine.name',\n",
    "    'vintage.wine.region.name',\n",
    "    'vintage.wine.region.country.name',\n",
    "    'vintage.wine.winery.name',\n",
    "    'vintage.wine.winery.statistics.ratings_count',\n",
    "    'vintage.wine.winery.statistics.ratings_average',\n",
    "    'vintage.wine.winery.statistics.labels_count',\n",
    "    'vintage.wine.winery.statistics.wines_count',\n",
    "    'flavor_word_matches',\n",
    "    'activity.statistics.likes_count',\n",
    "    'activity.statistics.comments_count',\n",
    "    'vintage.year',\n",
    "]\n",
    "rename_columns = [\n",
    "    'ratings',\n",
    "    'reviews',\n",
    "    'language',\n",
    "    'time',\n",
    "    'user.id',\n",
    "    'user.user',\n",
    "    'user.name',\n",
    "    'user.followers_count',\n",
    "    'user.followings_count',\n",
    "    'user.ratings_count',\n",
    "    'user.ratings_sum',\n",
    "    'user.reviews_count',\n",
    "    'vintage.id',\n",
    "    'vintage.seo',\n",
    "    'vintage.name',\n",
    "    'vintage.status',\n",
    "    'vintage.image',\n",
    "    'wine.ratings_count',\n",
    "    'wine.ratings_average',\n",
    "    'wine.reviews_count',\n",
    "    'wine.name',\n",
    "    'wine.region',\n",
    "    'wine.country',\n",
    "    'winery.name',\n",
    "    'winery.ratings_count',\n",
    "    'winery.ratings_average',\n",
    "    'winery.labels_count',\n",
    "    'winery.wines_count',\n",
    "    'flavours',\n",
    "    'likes_count',\n",
    "    'comments_count',\n",
    "    'vintage.year',\n",
    "]\n",
    "\n",
    "rename_dict = dict(zip(keep_columns, rename_columns))"
   ]
  },
  {
   "cell_type": "markdown",
   "id": "b87287cf",
   "metadata": {},
   "source": [
    "# NLP Pre-processing"
   ]
  },
  {
   "cell_type": "markdown",
   "id": "e95628a6",
   "metadata": {},
   "source": [
    "## Reviews with a single $ symbol"
   ]
  },
  {
   "cell_type": "code",
   "execution_count": 2,
   "id": "0871514d",
   "metadata": {
    "ExecuteTime": {
     "end_time": "2023-03-05T17:36:27.504520Z",
     "start_time": "2023-03-05T17:36:27.490520Z"
    }
   },
   "outputs": [],
   "source": [
    "folder_vivino = './vivino_data/'\n",
    "#fname_list = [f.replace('\\\\', '/') for f in glob(folder_vivino + 'vivino_*')]\n",
    "#users = set([])\n",
    "\n",
    "def has_numbers(inputString):\n",
    "    try:\n",
    "        return bool(re.search(r'\\d', inputString))\n",
    "    except:\n",
    "        #print('FAILURE:', inputString, type(inputString))\n",
    "        return False\n",
    "\n",
    "def has_single_dollarsign(inputString):\n",
    "    try:\n",
    "        num = inputString.lower().count('$')\n",
    "        if num == 1:\n",
    "            return True\n",
    "        return False\n",
    "    except:\n",
    "        #print('FAILURE:', inputString, type(inputString))\n",
    "        return False"
   ]
  },
  {
   "cell_type": "code",
   "execution_count": 3,
   "id": "79531cad",
   "metadata": {
    "ExecuteTime": {
     "end_time": "2023-03-05T17:39:39.670486Z",
     "start_time": "2023-03-05T17:36:29.567810Z"
    },
    "scrolled": true
   },
   "outputs": [
    {
     "name": "stderr",
     "output_type": "stream",
     "text": [
      "100%|██████████| 6955/6955 [03:01<00:00, 38.26it/s]\n"
     ]
    },
    {
     "name": "stdout",
     "output_type": "stream",
     "text": [
      "Number of reviews: 53888\n",
      "Number of unique bottles: 3957\n"
     ]
    }
   ],
   "source": [
    "fname_list = glob(folder_vivino + 'vivino_*')\n",
    "reviews = []\n",
    "ratings = []\n",
    "num_reviews = 0\n",
    "col_names = pd.read_csv(fname_list[0], encoding='utf-8-sig').columns\n",
    "df_master = pd.DataFrame(columns=col_names)\n",
    "\n",
    "df_list = []\n",
    "\n",
    "for fname in tqdm(fname_list):\n",
    "    df = pd.read_csv(fname, encoding='utf-8-sig')\n",
    "    df['Vivino ID'] = int(fname.split('_')[-1].split('.')[0])  #Get Vivino ID\n",
    "    df = df[(df['reviews'].apply(has_numbers))\n",
    "            & (df['reviews'].apply(has_single_dollarsign))\n",
    "            & (df['detected_language'] == 'ENGLISH')]\n",
    "    df_list.append(df)\n",
    "df_master = pd.concat(df_list, ignore_index=True)\n",
    "df_master.to_csv('master_vivino.csv', encoding='utf-8-sig')\n",
    "print('Number of reviews:', len(df_master))\n",
    "print('Number of unique bottles:', len(df_master['Vivino ID'].unique()))"
   ]
  },
  {
   "cell_type": "markdown",
   "id": "adc93fb7",
   "metadata": {},
   "source": [
    "### Plot histogram results of reviews containing numbers and a single $ symbol"
   ]
  },
  {
   "cell_type": "code",
   "execution_count": 4,
   "id": "4c1f1408",
   "metadata": {
    "ExecuteTime": {
     "end_time": "2023-03-05T17:40:35.822996Z",
     "start_time": "2023-03-05T17:40:35.175793Z"
    }
   },
   "outputs": [],
   "source": [
    "df_master = pd.read_csv('./master_vivino.csv', encoding='utf-8-sig')"
   ]
  },
  {
   "cell_type": "code",
   "execution_count": 5,
   "id": "1648db69",
   "metadata": {
    "ExecuteTime": {
     "end_time": "2023-03-05T17:40:36.057808Z",
     "start_time": "2023-03-05T17:40:35.825184Z"
    }
   },
   "outputs": [
    {
     "data": {
      "image/png": "[encoded data removed]",
      "text/plain": [
       "<Figure size 640x480 with 1 Axes>"
      ]
     },
     "metadata": {},
     "output_type": "display_data"
    }
   ],
   "source": [
    "plt.hist(df_master['ratings'], align='left', bins=9, edgecolor='black', linewidth=0.5)\n",
    "plt.xlabel('Rating')\n",
    "plt.ylabel('Count')\n",
    "d = df_master['ratings'].describe()\n",
    "plt.axvline(d[1],label=f'mean={str(d[1])[0:5]}', c = 'r')\n",
    "plt.legend()\n",
    "\n",
    "onestar = df_master[(df_master['ratings']<=2)]['ratings'].count()\n",
    "fivestar = df_master[(df_master['ratings']>=4)]['ratings'].count()"
   ]
  },
  {
   "cell_type": "code",
   "execution_count": 6,
   "id": "1b48e4fd",
   "metadata": {
    "ExecuteTime": {
     "end_time": "2023-03-05T17:40:38.489312Z",
     "start_time": "2023-03-05T17:40:37.992609Z"
    }
   },
   "outputs": [
    {
     "name": "stdout",
     "output_type": "stream",
     "text": [
      "Number of bottles with >= 100 reviews: 83\n",
      "Number of bottles with  < 100 reviews: 3874\n"
     ]
    },
    {
     "data": {
      "text/plain": [
       "<matplotlib.legend.Legend at 0x15859074c40>"
      ]
     },
     "execution_count": 6,
     "metadata": {},
     "output_type": "execute_result"
    },
    {
     "data": {
      "image/png": "[encoded data removed]",
      "text/plain": [
       "<Figure size 640x480 with 1 Axes>"
      ]
     },
     "metadata": {},
     "output_type": "display_data"
    }
   ],
   "source": [
    "nbins = 50\n",
    "y = df_master.groupby(['Vivino ID'])['Vivino ID'].count()\n",
    "plt.hist(y,  bins=nbins, edgecolor='black', linewidth=0.5)\n",
    "# plt.xlim(0,10)\n",
    "plt.semilogy()\n",
    "# print(max(y))\n",
    "plt.xlabel('Number of reviews per bottle')\n",
    "plt.ylabel('Number of bottles')\n",
    "\n",
    "cut = 100\n",
    "print('Number of bottles with >=', cut, 'reviews:', len(y[(y >= cut)]))\n",
    "print('Number of bottles with  <', cut, 'reviews:', len(y[(y < cut)]))\n",
    "plt.axvline(cut, label=f'Num bottles with >={cut} reviews = {len(y[(y >= cut)])}', c = 'r')\n",
    "cut = 50\n",
    "plt.axvline(cut, label=f'Num bottles with >={cut} reviews = {len(y[(y >= cut)])}', c = 'k')\n",
    "plt.legend()"
   ]
  },
  {
   "cell_type": "markdown",
   "id": "a3b1ff85",
   "metadata": {},
   "source": [
    "## Keywords related to wine"
   ]
  },
  {
   "cell_type": "markdown",
   "id": "da59f0de",
   "metadata": {},
   "source": [
    "### Collect and save english reviews without numbers"
   ]
  },
  {
   "cell_type": "code",
   "execution_count": 7,
   "id": "514a9759",
   "metadata": {
    "ExecuteTime": {
     "end_time": "2023-03-05T17:43:50.524032Z",
     "start_time": "2023-03-05T17:40:43.321754Z"
    },
    "scrolled": true
   },
   "outputs": [
    {
     "name": "stderr",
     "output_type": "stream",
     "text": [
      "100%|██████████| 6955/6955 [01:48<00:00, 64.09it/s] \n"
     ]
    }
   ],
   "source": [
    "fname_list = glob(folder_vivino + 'vivino_*')\n",
    "reviews = []\n",
    "ratings = []\n",
    "num_reviews = 0\n",
    "col_names = pd.read_csv(fname_list[0], encoding='utf-8-sig').columns\n",
    "df_master = pd.DataFrame(columns=col_names)\n",
    "\n",
    "df_list = []\n",
    "\n",
    "for fname in tqdm(fname_list):\n",
    "    df = pd.read_csv(fname, encoding='utf-8-sig')\n",
    "    df['Vivino ID'] = int(fname.split('_')[-1].split('.')[0])  # Get Vivino ID\n",
    "    df = df[(~df['reviews'].apply(has_numbers))\n",
    "            & (df['detected_language'] == 'ENGLISH')]\n",
    "    df_list.append(df)\n",
    "df_english = pd.concat(df_list, ignore_index=True).astype(str)\n",
    "df_english.to_csv('english_nonumbers_vivino.csv', encoding='utf-8-sig')"
   ]
  },
  {
   "cell_type": "code",
   "execution_count": 8,
   "id": "aa56c4c7",
   "metadata": {
    "ExecuteTime": {
     "end_time": "2023-03-05T17:52:56.013355Z",
     "start_time": "2023-03-05T17:52:56.002962Z"
    }
   },
   "outputs": [
    {
     "data": {
      "text/plain": [
       "3208165"
      ]
     },
     "execution_count": 8,
     "metadata": {},
     "output_type": "execute_result"
    }
   ],
   "source": [
    "len(df_english)"
   ]
  },
  {
   "cell_type": "markdown",
   "id": "13a2fbfa",
   "metadata": {},
   "source": [
    "### Most interesting words in wine reviews: TF-IDF"
   ]
  },
  {
   "cell_type": "code",
   "execution_count": 9,
   "id": "645111c2",
   "metadata": {
    "ExecuteTime": {
     "end_time": "2023-03-05T17:52:59.863732Z",
     "start_time": "2023-03-05T17:52:59.089020Z"
    },
    "scrolled": true
   },
   "outputs": [],
   "source": [
    "from sklearn.feature_extraction.text import TfidfVectorizer\n",
    "from spacy.lang.en.stop_words import STOP_WORDS\n",
    "import spacy\n",
    "import re\n",
    "nlp = spacy.load(\"en_core_web_sm\")\n",
    "STOP_WORDS = STOP_WORDS.difference({'he', 'his', 'her', 'hers'})\n",
    "STOP_WORDS = STOP_WORDS.union({'ll', 've'})\n",
    "STOP_WORDS = STOP_WORDS.union({''})\n",
    "\n",
    "with open('spacy_stop_words_original.txt', 'w', encoding='utf-8') as f:\n",
    "    f.write('\\n'.join(STOP_WORDS))\n",
    "def tokenize_lemma(text):\n",
    "    return [re.sub('[^A-Za-z0-9]+', '', w.lemma_.lower().strip()) for w in nlp(text)]\n",
    "\n",
    "stop_words_lemma = set(tokenize_lemma(' '.join(sorted(STOP_WORDS))))"
   ]
  },
  {
   "cell_type": "code",
   "execution_count": 10,
   "id": "4f1e752b",
   "metadata": {
    "ExecuteTime": {
     "end_time": "2023-03-05T17:53:39.028708Z",
     "start_time": "2023-03-05T17:53:02.176864Z"
    }
   },
   "outputs": [
    {
     "name": "stderr",
     "output_type": "stream",
     "text": [
      "C:\\Users\\steph\\AppData\\Local\\Temp\\ipykernel_17672\\1538605931.py:1: DtypeWarning: Columns (33) have mixed types. Specify dtype option on import or set low_memory=False.\n",
      "  df_english = pd.read_csv('english_nonumbers_vivino.csv', encoding='utf-8-sig')\n"
     ]
    }
   ],
   "source": [
    "df_english = pd.read_csv('english_nonumbers_vivino.csv', encoding='utf-8-sig')"
   ]
  },
  {
   "cell_type": "code",
   "execution_count": 12,
   "id": "4d7b4b61",
   "metadata": {
    "ExecuteTime": {
     "end_time": "2023-03-05T18:00:59.374598Z",
     "start_time": "2023-03-05T18:00:59.371606Z"
    }
   },
   "outputs": [],
   "source": [
    "#nsamples = 100000\n",
    "#reviews_sent = [s.text for r in df_english['reviews'].astype(str).sample(n=nsamples) for s in nlp(r).sents]\n",
    "#len(reviews_sent)"
   ]
  },
  {
   "cell_type": "code",
   "execution_count": 13,
   "id": "667234fd",
   "metadata": {
    "ExecuteTime": {
     "end_time": "2023-03-05T18:11:47.899481Z",
     "start_time": "2023-03-05T18:01:03.015850Z"
    },
    "scrolled": true
   },
   "outputs": [
    {
     "name": "stderr",
     "output_type": "stream",
     "text": [
      "C:\\Users\\steph\\anaconda3\\lib\\site-packages\\sklearn\\feature_extraction\\text.py:516: UserWarning: The parameter 'token_pattern' will not be used since 'tokenizer' is not None'\n",
      "  warnings.warn(\n"
     ]
    },
    {
     "data": {
      "text/plain": [
       "array(['absolutely', 'acid', 'acidic', 'acidity', 'actually', 'add',\n",
       "       'affordable', 'aftertaste', 'age', 'aged', 'air', 'alcohol',\n",
       "       'almond', 'amarone', 'amazing', 'anise', 'apple', 'apricot',\n",
       "       'aroma', 'aromatic', 'average', 'awesome', 'bad', 'bake',\n",
       "       'balance', 'balanced', 'barrel', 'base', 'bbq', 'beautiful',\n",
       "       'beautifully', 'beef', 'berry', 'big', 'bit', 'bite', 'bitter',\n",
       "       'black', 'blackberry', 'blackcurrant', 'blanc', 'blend', 'blue',\n",
       "       'blueberry', 'bodied', 'body', 'bold', 'bordeaux', 'bottle',\n",
       "       'bouquet', 'box', 'bread', 'breath', 'breathe', 'bright', 'bring',\n",
       "       'brioche', 'brown', 'brunello', 'bubble', 'bubbly', 'burgundy',\n",
       "       'butter', 'buttery', 'buy', 'cab', 'cabernet', 'california',\n",
       "       'candy', 'caramel', 'cassis', 'cedar', 'cellar', 'champagne',\n",
       "       'character', 'characteristic', 'chard', 'chardonnay', 'cheap',\n",
       "       'cheer', 'cheese', 'cherry', 'chianti', 'chicken', 'chill',\n",
       "       'chocolate', 'choice', 'christmas', 'cigar', 'cinnamon', 'citrus',\n",
       "       'citrusy', 'classic', 'clean', 'clear', 'close', 'clove', 'cocoa',\n",
       "       'coffee', 'cold', 'color', 'colour', 'come', 'complex',\n",
       "       'complexity', 'cool', 'couple', 'cranberry', 'cream', 'creamy',\n",
       "       'crisp', 'currant', 'current', 'dark', 'day', 'de', 'decant',\n",
       "       'decent', 'deep', 'definitely', 'delicate', 'delicious',\n",
       "       'delightful', 'dense', 'depth', 'develop', 'different', 'dinner',\n",
       "       'disappoint', 'dish', 'dominate', 'drank', 'drink', 'drinkable',\n",
       "       'drinker', 'drinking', 'drop', 'dry', 'dryness', 'earth', 'earthy',\n",
       "       'easy', 'edge', 'elegant', 'end', 'enjoy', 'enjoyable',\n",
       "       'especially', 'evening', 'everyday', 'example', 'excellent',\n",
       "       'exceptional', 'expect', 'expensive', 'experience', 'extremely',\n",
       "       'fairly', 'family', 'fan', 'fantastic', 'favorite', 'favourite',\n",
       "       'feel', 'fig', 'find', 'fine', 'finish', 'firm', 'fish', 'flat',\n",
       "       'flavor', 'flavorful', 'flavour', 'floor', 'floral', 'flower',\n",
       "       'follow', 'food', 'forest', 'forward', 'french', 'fresh', 'friend',\n",
       "       'fruit', 'fruity', 'fun', 'garnet', 'gentle', 'gift', 'glass',\n",
       "       'god', 'golden', 'good', 'gooseberry', 'grape', 'grapefruit',\n",
       "       'grass', 'great', 'green', 'grill', 'half', 'happy', 'hard',\n",
       "       'harsh', 'heavy', 'herb', 'herbal', 'high', 'highly', 'hint',\n",
       "       'hit', 'hold', 'home', 'honey', 'hot', 'hour', 'house', 'hue',\n",
       "       'huge', 'incredible', 'inexpensive', 'integrate', 'intense',\n",
       "       'intensity', 'interesting', 'italian', 'jam', 'jammy', 'juice',\n",
       "       'juicy', 'kind', 'know', 'label', 'lack', 'lamb', 'layer',\n",
       "       'leather', 'leathery', 'leave', 'leg', 'lemon', 'length', 'let',\n",
       "       'level', 'licorice', 'light', 'lightly', 'like', 'lime', 'linger',\n",
       "       'liquorice', 'little', 'long', 'look', 'lot', 'love', 'lovely',\n",
       "       'low', 'lush', 'malbec', 'match', 'mature', 'maybe', 'meal',\n",
       "       'meat', 'med', 'medium', 'mellow', 'melon', 'merlot', 'mid',\n",
       "       'middle', 'mild', 'mineral', 'minerality', 'mint', 'mix', 'mocha',\n",
       "       'moderate', 'money', 'mouth', 'mouthfeel', 'mushroom', 'napa',\n",
       "       'need', 'new', 'nice', 'nicely', 'night', 'noir', 'nose', 'note',\n",
       "       'nutty', 'nz', 'oak', 'oaky', 'occasion', 'ok', 'okay', 'old',\n",
       "       'open', 'orange', 'outstanding', 'overall', 'overly', 'overpower',\n",
       "       'pair', 'pairing', 'palate', 'pale', 'palette', 'pallet', 'party',\n",
       "       'passion', 'pasta', 'peach', 'pear', 'peel', 'pepper', 'peppery',\n",
       "       'perfect', 'perfectly', 'pick', 'pineapple', 'pink', 'pinot',\n",
       "       'pizza', 'pleasant', 'plenty', 'plum', 'plus', 'point', 'pork',\n",
       "       'port', 'potential', 'power', 'powerful', 'prefer', 'present',\n",
       "       'pretty', 'price', 'probably', 'profile', 'prune', 'punch',\n",
       "       'purple', 'qpr', 'quality', 'raisin', 'range', 'raspberry',\n",
       "       'ready', 'real', 'reasonable', 'recommend', 'red', 'refreshing',\n",
       "       'region', 'remind', 'restaurant', 'rich', 'riesling', 'right',\n",
       "       'rioja', 'ripe', 'rise', 'roast', 'robust', 'ros', 'rose', 'round',\n",
       "       'rounded', 'ruby', 'salad', 'salmon', 'sauce', 'sauv', 'sauvignon',\n",
       "       'sav', 'savory', 'sb', 'scent', 'seafood', 'second', 'semi',\n",
       "       'serve', 'sharp', 'shiraz', 'short', 'silky', 'similar', 'simple',\n",
       "       'simply', 'sip', 'slight', 'slightly', 'small', 'smell', 'smoke',\n",
       "       'smokey', 'smoky', 'smooth', 'soft', 'solid', 'somewhat', 'sour',\n",
       "       'spanish', 'sparkle', 'special', 'spice', 'spicy', 'stand',\n",
       "       'start', 'steak', 'stew', 'stone', 'straw', 'strawberry', 'strong',\n",
       "       'structure', 'stuff', 'style', 'subtle', 'sugar', 'summer',\n",
       "       'super', 'superb', 'sure', 'surprise', 'surprisingly', 'sweet',\n",
       "       'sweetness', 'syrah', 'table', 'tangy', 'tanin', 'tannic',\n",
       "       'tannin', 'tart', 'taste', 'tasting', 'tasty', 'tea', 'texture',\n",
       "       'thick', 'thin', 'thing', 'think', 'time', 'toast', 'tobacco',\n",
       "       'tomato', 'tone', 'tongue', 'touch', 'treat', 'tropical', 'try',\n",
       "       'tuscan', 'typical', 'undertone', 'unique', 'usually', 'value',\n",
       "       'vanilla', 'velvet', 'velvety', 'vibrant', 'vine', 'vintage',\n",
       "       'violet', 'w', 'want', 'warm', 'way', 'wet', 'white', 'wife',\n",
       "       'wild', 'wine', 'winery', 'wonderful', 'wood', 'woody', 'work',\n",
       "       'world', 'worth', 'wow', 'wrong', 'year', 'yeast', 'yellow', 'yes',\n",
       "       'young', 'yum', 'yummy', 'zest', 'zin', 'zinfandel'], dtype=object)"
      ]
     },
     "execution_count": 13,
     "metadata": {},
     "output_type": "execute_result"
    }
   ],
   "source": [
    "ng_tfidf = TfidfVectorizer(ngram_range=(1, 1), stop_words=stop_words_lemma, max_features=500, tokenizer=tokenize_lemma)\n",
    "ng_tfidf.fit(df_english['reviews'].astype(str).sample(n=100000))\n",
    "tf_words = ng_tfidf.get_feature_names_out()\n",
    "tf_words"
   ]
  },
  {
   "cell_type": "code",
   "execution_count": 43,
   "id": "b999ccb6",
   "metadata": {
    "ExecuteTime": {
     "end_time": "2023-01-21T19:05:02.343736Z",
     "start_time": "2023-01-21T19:05:02.334723Z"
    }
   },
   "outputs": [],
   "source": [
    "with open('tfidf_words.txt', 'w') as f:\n",
    "    f.write('\\n'.join(tf_words))"
   ]
  },
  {
   "cell_type": "markdown",
   "id": "eba99fb2",
   "metadata": {},
   "source": [
    "## Sample reviews without stopwords:"
   ]
  },
  {
   "cell_type": "code",
   "execution_count": null,
   "id": "ab778b37",
   "metadata": {},
   "outputs": [],
   "source": [
    "# import spacy\n",
    "# nlp = spacy.load(\"en_core_web_sm\")\n",
    "# nlp.get_pipe('lemmatizer').cache = {}\n",
    "\n",
    "# def fix_lemma_rule(s):\n",
    "#    nlp.get_pipe('lemmatizer').lookups.get_table(\"lemma_exc\")[nlp(s)[0].pos_.lower()][s] = [s]\n",
    "# fix_lemma_rule('better')\n",
    "# nlp.to_disk('./en_core_web_sm-wine')"
   ]
  },
  {
   "cell_type": "code",
   "execution_count": 14,
   "id": "b0cad90f",
   "metadata": {
    "ExecuteTime": {
     "end_time": "2023-03-05T18:31:06.212960Z",
     "start_time": "2023-03-05T18:31:05.709850Z"
    }
   },
   "outputs": [],
   "source": [
    "import emoji\n",
    "from sklearn.feature_extraction.text import TfidfVectorizer\n",
    "from spacy.lang.en.stop_words import STOP_WORDS\n",
    "import spacy\n",
    "import re\n",
    "import pandas as pd\n",
    "nlp = spacy.load(\"en_core_web_sm-wine\")\n",
    "\n",
    "def tokenize_lemma(text):\n",
    "    return [re.sub('[^A-Za-z0-9]+', '', w.lemma_.lower().strip()) for w in nlp(emoji.replace_emoji(text))]\n"
   ]
  },
  {
   "cell_type": "code",
   "execution_count": 15,
   "id": "3db64bf9",
   "metadata": {
    "ExecuteTime": {
     "end_time": "2023-03-05T18:31:09.742211Z",
     "start_time": "2023-03-05T18:31:09.081831Z"
    }
   },
   "outputs": [],
   "source": [
    "df_money = pd.read_csv('master_vivino.csv', encoding='utf-8-sig')\n",
    "\n",
    "sample_reviews = list(df_money[(df_money['ratings']<3)]['reviews'].astype(str).sample(n=100))"
   ]
  },
  {
   "cell_type": "code",
   "execution_count": 16,
   "id": "181cbe5c",
   "metadata": {
    "ExecuteTime": {
     "end_time": "2023-03-05T18:31:09.757688Z",
     "start_time": "2023-03-05T18:31:09.744148Z"
    }
   },
   "outputs": [
    {
     "data": {
      "text/plain": [
       "3957"
      ]
     },
     "execution_count": 16,
     "metadata": {},
     "output_type": "execute_result"
    }
   ],
   "source": [
    "sum(df_money['Vivino ID'].value_counts()>0)"
   ]
  },
  {
   "cell_type": "code",
   "execution_count": 17,
   "id": "46864756",
   "metadata": {
    "ExecuteTime": {
     "end_time": "2023-03-05T18:31:10.231511Z",
     "start_time": "2023-03-05T18:31:09.759691Z"
    }
   },
   "outputs": [],
   "source": [
    "with open('wine_words.txt') as file:\n",
    "    stop_words_wine = [line.rstrip() for line in file]\n",
    "with open('custom_stop_words.txt') as file:\n",
    "    stop_words = [line.rstrip() for line in file]\n",
    "with open('vivino_stop_words.txt') as file:\n",
    "    stop_words_vivino = [line.rstrip() for line in file]\n",
    "STOP_WORDS = set(stop_words+stop_words_wine+stop_words_vivino)\n",
    "stop_words_lemma = set(tokenize_lemma(' '.join(sorted(STOP_WORDS))))\n"
   ]
  },
  {
   "cell_type": "code",
   "execution_count": 18,
   "id": "7c987a18",
   "metadata": {
    "ExecuteTime": {
     "end_time": "2023-03-05T18:31:10.422348Z",
     "start_time": "2023-03-05T18:31:10.298530Z"
    },
    "scrolled": true
   },
   "outputs": [
    {
     "name": "stdout",
     "output_type": "stream",
     "text": [
      "Barely worth $5\n",
      "['barely', 'worth', '5']\n",
      "\n",
      "I’ve had better $12.00 wines\n",
      "['well', '1200']\n",
      "\n",
      "Not bad for $6. First impression was nice. Dry, Dark Berries. But after that it falls Flat. This wine had No Finnish... I give it a 2.5 Overall, but 3.5 for Value... If there were only more Tannins to leave something on your palette... I'll buy it again at that price though...\n",
      "['not', 'bad', '6', 'impression', 'nice', 'dry', 'berries', 'but', 'after', 'fall', 'flat', 'no', 'finnish', '25', 'overall', 'but', '35', 'value', 'more', 'leave', 'palette', 'buy', 'again', 'price']\n",
      "\n",
      "Clean, clear, legs, unfiltered , cedar, jammy, licorice , cloves, best $45ish dollars for dinner.\n",
      "['clean', 'clear', 'unfiltered', 'good', '45ish', 'dollar']\n",
      "\n",
      "Dense, tannins and some oak. Hmm. Pretty raw. For years this was my favourite cab when it had to be a special occasion to spend $16 on wine. There are so many better cabs at this price, Jacobs Creek or Penfolds for instance, this just does not cut it any more. Reminds me of Zuccardi. Open the bottle a couple of hours ahead and it will mellow out nicely.\n",
      "['hmm', 'pretty', 'raw', 'favourite', 'special', 'occasion', 'spend', '16', 'many', 'well', 'price', 'jacobs', 'creek', 'penfolds', 'instance', 'not', 'cut', 'more', 'remind', 'zuccardi', 'open', 'couple', 'ahead', 'nicely']\n",
      "\n",
      "Tastes a bit fabricated. Can’t expect much more from $9 at Costco. Didn’t help that we opened this one after an Ode to Lulu.\n",
      "['taste', 'fabricate', 'not', 'expect', 'much', 'more', '9', 'not', 'help', 'open', 'after', 'ode', 'lulu']\n",
      "\n",
      "It's barely drinkable. Of course what to expect at $4.95 a bottle? There are better budget wines out there than this one.\n",
      "['barely', 'drinkable', 'course', 'expect', '495', 'well', 'budget', 'than']\n",
      "\n",
      "It's ok. Smokey lots of red fruits. Not really worth $15 tho.\n",
      "['ok', 'not', 'worth', '15', 'tho']\n",
      "\n",
      "Can't find any good word to describe it. $30 in a Hilton Garden Inn. Usually there is 4x markup, so makes this a 7,8 dollar wine in store, which is actually reasonable price.\n",
      "['not', 'good', 'word', 'describe', '30', 'hilton', 'inn', 'usually', '4x', 'markup', '78', 'dollar', 'actually', 'reasonable', 'price']\n",
      "\n",
      "Fruit forward, maybe needs a couple years. Cherry, blueberry, oak. Tastes like many $13 bottles.\n",
      "['forward', 'maybe', 'need', 'couple', 'taste', 'like', 'many', '13']\n",
      "\n"
     ]
    }
   ],
   "source": [
    "for s in sample_reviews[0:10]:\n",
    "    s = emoji.replace_emoji(s)\n",
    "    text_tokens = tokenize_lemma(s)\n",
    "    tokens_without_sw = [word for word in text_tokens if not word in STOP_WORDS]\n",
    "    print(s)\n",
    "    print(tokens_without_sw)\n",
    "    print()"
   ]
  },
  {
   "cell_type": "markdown",
   "id": "ace60696",
   "metadata": {
    "heading_collapsed": true
   },
   "source": [
    "### problems:\n",
    "\n",
    "I’ve tasted better $10 wines.\n",
    "['taste', 'well', '10']"
   ]
  },
  {
   "cell_type": "markdown",
   "id": "dd6a3cb5",
   "metadata": {},
   "source": [
    "## Get random positive and negative reviews with prices. Save for training data."
   ]
  },
  {
   "cell_type": "code",
   "execution_count": 19,
   "id": "59b1e63b",
   "metadata": {
    "ExecuteTime": {
     "end_time": "2023-03-05T18:31:39.492938Z",
     "start_time": "2023-03-05T18:31:38.810631Z"
    }
   },
   "outputs": [
    {
     "name": "stdout",
     "output_type": "stream",
     "text": [
      "2000 2000\n"
     ]
    }
   ],
   "source": [
    "df_money = pd.read_csv('master_vivino.csv', encoding='utf-8-sig')\n",
    "ndraw = 2000\n",
    "pos = df_money[(df_money['ratings']>3)][['reviews','ratings']].astype(str).sample(n=ndraw)\n",
    "neg = df_money[(df_money['ratings']<3)][['reviews','ratings']].astype(str).sample(n=ndraw)\n",
    "print(len(pos),len(neg))\n",
    "data = pd.concat([pos,neg], ignore_index=True)"
   ]
  },
  {
   "cell_type": "code",
   "execution_count": 20,
   "id": "63285682",
   "metadata": {
    "ExecuteTime": {
     "end_time": "2023-03-05T18:31:39.666195Z",
     "start_time": "2023-03-05T18:31:39.494842Z"
    }
   },
   "outputs": [],
   "source": [
    "df_data = pd.DataFrame({'reviews':data['reviews'], 'sentiment':['']*len(data)})\n",
    "df_data['reviews'] = df_data['reviews'].apply(emoji.replace_emoji)\n",
    "df_data = df_data.sample(len(df_data))\n",
    "df_data.to_csv('sample_reviews.csv', encoding='utf-8-sig')"
   ]
  },
  {
   "cell_type": "code",
   "execution_count": 21,
   "id": "fa55717a",
   "metadata": {
    "ExecuteTime": {
     "end_time": "2023-03-05T18:31:40.178704Z",
     "start_time": "2023-03-05T18:31:40.138703Z"
    }
   },
   "outputs": [],
   "source": [
    "data_h0 = data.copy(deep=True)\n",
    "def simple_sentiment(s):\n",
    "    s = float(s)\n",
    "    if s >3:\n",
    "        return 'Positive'\n",
    "    elif s < 3:\n",
    "        return 'Negative'\n",
    "    else:\n",
    "        return 'Neutral'\n",
    "import random\n",
    "data_h0['sentiment'] = data_h0['ratings'].apply(simple_sentiment)\n",
    "data_h0 = data_h0[['reviews','sentiment']]\n",
    "data_h0.sample(5)\n",
    "data_h0.to_csv('./survey_results/ratings_sentiment.csv', encoding='utf-8-sig')\n",
    "#data_h0['sentiment'].value_counts()"
   ]
  },
  {
   "cell_type": "markdown",
   "id": "4d04b408",
   "metadata": {},
   "source": [
    "## Reviews with Star-rating sentiments. 5 stars = pos, 1 star = neg"
   ]
  },
  {
   "cell_type": "code",
   "execution_count": 22,
   "id": "9d414cf2",
   "metadata": {
    "ExecuteTime": {
     "end_time": "2023-03-05T18:32:25.075508Z",
     "start_time": "2023-03-05T18:31:51.129572Z"
    }
   },
   "outputs": [
    {
     "name": "stderr",
     "output_type": "stream",
     "text": [
      "C:\\Users\\steph\\AppData\\Local\\Temp\\ipykernel_17672\\3070824384.py:2: DtypeWarning: Columns (33) have mixed types. Specify dtype option on import or set low_memory=False.\n",
      "  data = pd.read_csv('./english_nonumbers_vivino.csv', encoding='utf-8-sig')\n"
     ]
    }
   ],
   "source": [
    "data = pd.read_csv('./survey_results/master_survey.csv', encoding='utf-8-sig')\n",
    "data = pd.read_csv('./english_nonumbers_vivino.csv', encoding='utf-8-sig')"
   ]
  },
  {
   "cell_type": "code",
   "execution_count": 23,
   "id": "6ebed6f5",
   "metadata": {
    "ExecuteTime": {
     "end_time": "2023-03-05T18:32:25.090508Z",
     "start_time": "2023-03-05T18:32:25.078508Z"
    }
   },
   "outputs": [
    {
     "data": {
      "text/plain": [
       "Index(['Unnamed: 0.1', 'Unnamed: 0', 'ratings', 'reviews', 'language', 'time',\n",
       "       'user.id', 'user.user', 'user.name', 'user.followers_count',\n",
       "       'user.followings_count', 'user.ratings_count', 'user.ratings_sum',\n",
       "       'user.reviews_count', 'vintage.id', 'vintage.seo', 'vintage.name',\n",
       "       'vintage.status', 'vintage.image', 'wine.ratings_count',\n",
       "       'wine.ratings_average', 'wine.reviews_count', 'wine.name',\n",
       "       'wine.region', 'wine.country', 'winery.name', 'winery.ratings_count',\n",
       "       'winery.ratings_average', 'winery.labels_count', 'winery.wines_count',\n",
       "       'flavours', 'likes_count', 'comments_count', 'vintage.year',\n",
       "       'detected_language', 'Vivino ID'],\n",
       "      dtype='object')"
      ]
     },
     "execution_count": 23,
     "metadata": {},
     "output_type": "execute_result"
    }
   ],
   "source": [
    "len(data)\n",
    "data.columns"
   ]
  },
  {
   "cell_type": "code",
   "execution_count": 24,
   "id": "e77e6ead",
   "metadata": {
    "ExecuteTime": {
     "end_time": "2023-03-05T18:32:25.106510Z",
     "start_time": "2023-03-05T18:32:25.093509Z"
    }
   },
   "outputs": [],
   "source": [
    "data2 = data[0:1000000]"
   ]
  },
  {
   "cell_type": "code",
   "execution_count": 25,
   "id": "3ae0482f",
   "metadata": {
    "ExecuteTime": {
     "end_time": "2023-03-05T18:32:25.249034Z",
     "start_time": "2023-03-05T18:32:25.110510Z"
    }
   },
   "outputs": [
    {
     "name": "stdout",
     "output_type": "stream",
     "text": [
      "33127 142504\n"
     ]
    }
   ],
   "source": [
    "pos = data2[(data2['ratings']>=5)]\n",
    "neg = data2[(data2['ratings']<=2)]\n",
    "print(len(neg), len(pos))"
   ]
  },
  {
   "cell_type": "code",
   "execution_count": 26,
   "id": "d49001d9",
   "metadata": {
    "ExecuteTime": {
     "end_time": "2023-03-05T18:32:25.485031Z",
     "start_time": "2023-03-05T18:32:25.252031Z"
    }
   },
   "outputs": [
    {
     "name": "stderr",
     "output_type": "stream",
     "text": [
      "C:\\Users\\steph\\AppData\\Local\\Temp\\ipykernel_17672\\3832399575.py:1: SettingWithCopyWarning: \n",
      "A value is trying to be set on a copy of a slice from a DataFrame.\n",
      "Try using .loc[row_indexer,col_indexer] = value instead\n",
      "\n",
      "See the caveats in the documentation: https://pandas.pydata.org/pandas-docs/stable/user_guide/indexing.html#returning-a-view-versus-a-copy\n",
      "  pos['sentiment'] = 'positive'\n",
      "C:\\Users\\steph\\AppData\\Local\\Temp\\ipykernel_17672\\3832399575.py:2: SettingWithCopyWarning: \n",
      "A value is trying to be set on a copy of a slice from a DataFrame.\n",
      "Try using .loc[row_indexer,col_indexer] = value instead\n",
      "\n",
      "See the caveats in the documentation: https://pandas.pydata.org/pandas-docs/stable/user_guide/indexing.html#returning-a-view-versus-a-copy\n",
      "  neg['sentiment'] = 'negative'\n"
     ]
    }
   ],
   "source": [
    "pos['sentiment'] = 'positive'\n",
    "neg['sentiment'] = 'negative'\n",
    "pos = pos[0:len(neg)]\n",
    "df_starsentiment = pd.concat([pos,neg]).sample(frac=1).reset_index(drop=True)"
   ]
  },
  {
   "cell_type": "code",
   "execution_count": 27,
   "id": "dda95314",
   "metadata": {
    "ExecuteTime": {
     "end_time": "2023-03-05T18:32:25.628733Z",
     "start_time": "2023-03-05T18:32:25.487031Z"
    }
   },
   "outputs": [
    {
     "data": {
      "text/html": [
       "<div>\n",
       "<style scoped>\n",
       "    .dataframe tbody tr th:only-of-type {\n",
       "        vertical-align: middle;\n",
       "    }\n",
       "\n",
       "    .dataframe tbody tr th {\n",
       "        vertical-align: top;\n",
       "    }\n",
       "\n",
       "    .dataframe thead th {\n",
       "        text-align: right;\n",
       "    }\n",
       "</style>\n",
       "<table border=\"1\" class=\"dataframe\">\n",
       "  <thead>\n",
       "    <tr style=\"text-align: right;\">\n",
       "      <th></th>\n",
       "      <th>Unnamed: 0.1</th>\n",
       "      <th>Unnamed: 0</th>\n",
       "      <th>ratings</th>\n",
       "      <th>reviews</th>\n",
       "      <th>language</th>\n",
       "      <th>time</th>\n",
       "      <th>user.id</th>\n",
       "      <th>user.user</th>\n",
       "      <th>user.name</th>\n",
       "      <th>user.followers_count</th>\n",
       "      <th>...</th>\n",
       "      <th>winery.ratings_average</th>\n",
       "      <th>winery.labels_count</th>\n",
       "      <th>winery.wines_count</th>\n",
       "      <th>flavours</th>\n",
       "      <th>likes_count</th>\n",
       "      <th>comments_count</th>\n",
       "      <th>vintage.year</th>\n",
       "      <th>detected_language</th>\n",
       "      <th>Vivino ID</th>\n",
       "      <th>sentiment</th>\n",
       "    </tr>\n",
       "  </thead>\n",
       "  <tbody>\n",
       "    <tr>\n",
       "      <th>0</th>\n",
       "      <td>43217</td>\n",
       "      <td>4132</td>\n",
       "      <td>5.0</td>\n",
       "      <td>Great wine good doddy</td>\n",
       "      <td>en</td>\n",
       "      <td>2016-07-01 01:33:33+00:00</td>\n",
       "      <td>7015690</td>\n",
       "      <td>jhoannar</td>\n",
       "      <td>Jhoanna Rodriguez de Grullon</td>\n",
       "      <td>9.0</td>\n",
       "      <td>...</td>\n",
       "      <td>4.2</td>\n",
       "      <td>583513.0</td>\n",
       "      <td>10.0</td>\n",
       "      <td>[]</td>\n",
       "      <td>2.0</td>\n",
       "      <td>0.0</td>\n",
       "      <td>2010.0</td>\n",
       "      <td>ENGLISH</td>\n",
       "      <td>1098912</td>\n",
       "      <td>positive</td>\n",
       "    </tr>\n",
       "    <tr>\n",
       "      <th>1</th>\n",
       "      <td>78003</td>\n",
       "      <td>10561</td>\n",
       "      <td>5.0</td>\n",
       "      <td>Absolutely loved this crisp light pink rose.</td>\n",
       "      <td>en</td>\n",
       "      <td>2021-05-24 12:10:30+00:00</td>\n",
       "      <td>7991263</td>\n",
       "      <td>sylvia-carv</td>\n",
       "      <td>Syl</td>\n",
       "      <td>1.0</td>\n",
       "      <td>...</td>\n",
       "      <td>4.1</td>\n",
       "      <td>642830.0</td>\n",
       "      <td>14.0</td>\n",
       "      <td>[]</td>\n",
       "      <td>0.0</td>\n",
       "      <td>0.0</td>\n",
       "      <td>2020.0</td>\n",
       "      <td>ENGLISH</td>\n",
       "      <td>1104824</td>\n",
       "      <td>positive</td>\n",
       "    </tr>\n",
       "    <tr>\n",
       "      <th>2</th>\n",
       "      <td>175024</td>\n",
       "      <td>655</td>\n",
       "      <td>5.0</td>\n",
       "      <td>Full bodied, Fruity and Dry!</td>\n",
       "      <td>en</td>\n",
       "      <td>2021-03-01 23:44:26+00:00</td>\n",
       "      <td>26722790</td>\n",
       "      <td>kayla-king</td>\n",
       "      <td>Kayla King</td>\n",
       "      <td>1.0</td>\n",
       "      <td>...</td>\n",
       "      <td>3.9</td>\n",
       "      <td>705309.0</td>\n",
       "      <td>39.0</td>\n",
       "      <td>[]</td>\n",
       "      <td>0.0</td>\n",
       "      <td>0.0</td>\n",
       "      <td>NaN</td>\n",
       "      <td>ENGLISH</td>\n",
       "      <td>1128252</td>\n",
       "      <td>positive</td>\n",
       "    </tr>\n",
       "    <tr>\n",
       "      <th>3</th>\n",
       "      <td>37076</td>\n",
       "      <td>628</td>\n",
       "      <td>5.0</td>\n",
       "      <td>Very easy to drink wine, smooth and soft</td>\n",
       "      <td>en</td>\n",
       "      <td>2020-11-29 15:18:19+00:00</td>\n",
       "      <td>47340546</td>\n",
       "      <td>william.leung8</td>\n",
       "      <td>William Leung</td>\n",
       "      <td>0.0</td>\n",
       "      <td>...</td>\n",
       "      <td>4.4</td>\n",
       "      <td>52839.0</td>\n",
       "      <td>2.0</td>\n",
       "      <td>[]</td>\n",
       "      <td>0.0</td>\n",
       "      <td>0.0</td>\n",
       "      <td>1995.0</td>\n",
       "      <td>ENGLISH</td>\n",
       "      <td>1098770</td>\n",
       "      <td>positive</td>\n",
       "    </tr>\n",
       "    <tr>\n",
       "      <th>4</th>\n",
       "      <td>404558</td>\n",
       "      <td>32910</td>\n",
       "      <td>1.0</td>\n",
       "      <td>So disappointed about the rating for this wine...</td>\n",
       "      <td>en</td>\n",
       "      <td>2020-06-14 01:51:13+00:00</td>\n",
       "      <td>28621387</td>\n",
       "      <td>alcide.rodriguez</td>\n",
       "      <td>Arod</td>\n",
       "      <td>0.0</td>\n",
       "      <td>...</td>\n",
       "      <td>4.0</td>\n",
       "      <td>1476236.0</td>\n",
       "      <td>13.0</td>\n",
       "      <td>[]</td>\n",
       "      <td>0.0</td>\n",
       "      <td>0.0</td>\n",
       "      <td>2018.0</td>\n",
       "      <td>ENGLISH</td>\n",
       "      <td>1136137</td>\n",
       "      <td>negative</td>\n",
       "    </tr>\n",
       "    <tr>\n",
       "      <th>...</th>\n",
       "      <td>...</td>\n",
       "      <td>...</td>\n",
       "      <td>...</td>\n",
       "      <td>...</td>\n",
       "      <td>...</td>\n",
       "      <td>...</td>\n",
       "      <td>...</td>\n",
       "      <td>...</td>\n",
       "      <td>...</td>\n",
       "      <td>...</td>\n",
       "      <td>...</td>\n",
       "      <td>...</td>\n",
       "      <td>...</td>\n",
       "      <td>...</td>\n",
       "      <td>...</td>\n",
       "      <td>...</td>\n",
       "      <td>...</td>\n",
       "      <td>...</td>\n",
       "      <td>...</td>\n",
       "      <td>...</td>\n",
       "      <td>...</td>\n",
       "    </tr>\n",
       "    <tr>\n",
       "      <th>66249</th>\n",
       "      <td>382813</td>\n",
       "      <td>8957</td>\n",
       "      <td>1.0</td>\n",
       "      <td>Disgusting. Ridiculously sweet, wondering if t...</td>\n",
       "      <td>en</td>\n",
       "      <td>2021-12-21 23:53:27+00:00</td>\n",
       "      <td>38027606</td>\n",
       "      <td>srikanth.raju</td>\n",
       "      <td>Srikanth Raju</td>\n",
       "      <td>4.0</td>\n",
       "      <td>...</td>\n",
       "      <td>4.0</td>\n",
       "      <td>1476233.0</td>\n",
       "      <td>13.0</td>\n",
       "      <td>[]</td>\n",
       "      <td>1.0</td>\n",
       "      <td>0.0</td>\n",
       "      <td>NaN</td>\n",
       "      <td>ENGLISH</td>\n",
       "      <td>1136137</td>\n",
       "      <td>negative</td>\n",
       "    </tr>\n",
       "    <tr>\n",
       "      <th>66250</th>\n",
       "      <td>451307</td>\n",
       "      <td>2308</td>\n",
       "      <td>1.0</td>\n",
       "      <td>Terrible almost bitter taste</td>\n",
       "      <td>en</td>\n",
       "      <td>2020-09-26 15:59:36+00:00</td>\n",
       "      <td>32152038</td>\n",
       "      <td>alisa.timmins</td>\n",
       "      <td>Alisa Timmins</td>\n",
       "      <td>0.0</td>\n",
       "      <td>...</td>\n",
       "      <td>3.7</td>\n",
       "      <td>1354997.0</td>\n",
       "      <td>164.0</td>\n",
       "      <td>[]</td>\n",
       "      <td>0.0</td>\n",
       "      <td>0.0</td>\n",
       "      <td>2017.0</td>\n",
       "      <td>ENGLISH</td>\n",
       "      <td>1138025</td>\n",
       "      <td>negative</td>\n",
       "    </tr>\n",
       "    <tr>\n",
       "      <th>66251</th>\n",
       "      <td>58487</td>\n",
       "      <td>6219</td>\n",
       "      <td>5.0</td>\n",
       "      <td>very, very good!!</td>\n",
       "      <td>un</td>\n",
       "      <td>2018-03-08 01:20:28+00:00</td>\n",
       "      <td>26061812</td>\n",
       "      <td>pavel.starenda</td>\n",
       "      <td>Pavel Starenda</td>\n",
       "      <td>0.0</td>\n",
       "      <td>...</td>\n",
       "      <td>3.8</td>\n",
       "      <td>582309.0</td>\n",
       "      <td>34.0</td>\n",
       "      <td>[]</td>\n",
       "      <td>0.0</td>\n",
       "      <td>0.0</td>\n",
       "      <td>2011.0</td>\n",
       "      <td>ENGLISH</td>\n",
       "      <td>1100228</td>\n",
       "      <td>positive</td>\n",
       "    </tr>\n",
       "    <tr>\n",
       "      <th>66252</th>\n",
       "      <td>76460</td>\n",
       "      <td>8984</td>\n",
       "      <td>5.0</td>\n",
       "      <td>Delicious, light and fruity. Have wanted to tr...</td>\n",
       "      <td>en</td>\n",
       "      <td>2021-02-27 17:51:01+00:00</td>\n",
       "      <td>43568629</td>\n",
       "      <td>laura-summers1</td>\n",
       "      <td>Laura Summers</td>\n",
       "      <td>0.0</td>\n",
       "      <td>...</td>\n",
       "      <td>4.1</td>\n",
       "      <td>642830.0</td>\n",
       "      <td>14.0</td>\n",
       "      <td>[]</td>\n",
       "      <td>0.0</td>\n",
       "      <td>0.0</td>\n",
       "      <td>2019.0</td>\n",
       "      <td>ENGLISH</td>\n",
       "      <td>1104824</td>\n",
       "      <td>positive</td>\n",
       "    </tr>\n",
       "    <tr>\n",
       "      <th>66253</th>\n",
       "      <td>854592</td>\n",
       "      <td>857</td>\n",
       "      <td>2.0</td>\n",
       "      <td>Like most Sauvignon Blanc it smells and tastes...</td>\n",
       "      <td>en</td>\n",
       "      <td>2017-07-09 04:33:56+00:00</td>\n",
       "      <td>22721065</td>\n",
       "      <td>heidi.elizabeth</td>\n",
       "      <td>Heidi Elizabeth</td>\n",
       "      <td>0.0</td>\n",
       "      <td>...</td>\n",
       "      <td>3.8</td>\n",
       "      <td>611195.0</td>\n",
       "      <td>87.0</td>\n",
       "      <td>['cat pee']</td>\n",
       "      <td>0.0</td>\n",
       "      <td>0.0</td>\n",
       "      <td>2016.0</td>\n",
       "      <td>ENGLISH</td>\n",
       "      <td>1224837</td>\n",
       "      <td>negative</td>\n",
       "    </tr>\n",
       "  </tbody>\n",
       "</table>\n",
       "<p>66254 rows × 37 columns</p>\n",
       "</div>"
      ],
      "text/plain": [
       "       Unnamed: 0.1  Unnamed: 0  ratings  \\\n",
       "0             43217        4132      5.0   \n",
       "1             78003       10561      5.0   \n",
       "2            175024         655      5.0   \n",
       "3             37076         628      5.0   \n",
       "4            404558       32910      1.0   \n",
       "...             ...         ...      ...   \n",
       "66249        382813        8957      1.0   \n",
       "66250        451307        2308      1.0   \n",
       "66251         58487        6219      5.0   \n",
       "66252         76460        8984      5.0   \n",
       "66253        854592         857      2.0   \n",
       "\n",
       "                                                 reviews language  \\\n",
       "0                                  Great wine good doddy       en   \n",
       "1           Absolutely loved this crisp light pink rose.       en   \n",
       "2                           Full bodied, Fruity and Dry!       en   \n",
       "3               Very easy to drink wine, smooth and soft       en   \n",
       "4      So disappointed about the rating for this wine...       en   \n",
       "...                                                  ...      ...   \n",
       "66249  Disgusting. Ridiculously sweet, wondering if t...       en   \n",
       "66250                       Terrible almost bitter taste       en   \n",
       "66251                                  very, very good!!       un   \n",
       "66252  Delicious, light and fruity. Have wanted to tr...       en   \n",
       "66253  Like most Sauvignon Blanc it smells and tastes...       en   \n",
       "\n",
       "                            time   user.id         user.user  \\\n",
       "0      2016-07-01 01:33:33+00:00   7015690          jhoannar   \n",
       "1      2021-05-24 12:10:30+00:00   7991263       sylvia-carv   \n",
       "2      2021-03-01 23:44:26+00:00  26722790        kayla-king   \n",
       "3      2020-11-29 15:18:19+00:00  47340546    william.leung8   \n",
       "4      2020-06-14 01:51:13+00:00  28621387  alcide.rodriguez   \n",
       "...                          ...       ...               ...   \n",
       "66249  2021-12-21 23:53:27+00:00  38027606     srikanth.raju   \n",
       "66250  2020-09-26 15:59:36+00:00  32152038     alisa.timmins   \n",
       "66251  2018-03-08 01:20:28+00:00  26061812    pavel.starenda   \n",
       "66252  2021-02-27 17:51:01+00:00  43568629    laura-summers1   \n",
       "66253  2017-07-09 04:33:56+00:00  22721065   heidi.elizabeth   \n",
       "\n",
       "                          user.name  user.followers_count  ...  \\\n",
       "0      Jhoanna Rodriguez de Grullon                   9.0  ...   \n",
       "1                               Syl                   1.0  ...   \n",
       "2                        Kayla King                   1.0  ...   \n",
       "3                     William Leung                   0.0  ...   \n",
       "4                              Arod                   0.0  ...   \n",
       "...                             ...                   ...  ...   \n",
       "66249                 Srikanth Raju                   4.0  ...   \n",
       "66250                 Alisa Timmins                   0.0  ...   \n",
       "66251                Pavel Starenda                   0.0  ...   \n",
       "66252                 Laura Summers                   0.0  ...   \n",
       "66253               Heidi Elizabeth                   0.0  ...   \n",
       "\n",
       "       winery.ratings_average  winery.labels_count  winery.wines_count  \\\n",
       "0                         4.2             583513.0                10.0   \n",
       "1                         4.1             642830.0                14.0   \n",
       "2                         3.9             705309.0                39.0   \n",
       "3                         4.4              52839.0                 2.0   \n",
       "4                         4.0            1476236.0                13.0   \n",
       "...                       ...                  ...                 ...   \n",
       "66249                     4.0            1476233.0                13.0   \n",
       "66250                     3.7            1354997.0               164.0   \n",
       "66251                     3.8             582309.0                34.0   \n",
       "66252                     4.1             642830.0                14.0   \n",
       "66253                     3.8             611195.0                87.0   \n",
       "\n",
       "          flavours  likes_count comments_count vintage.year detected_language  \\\n",
       "0               []          2.0            0.0       2010.0           ENGLISH   \n",
       "1               []          0.0            0.0       2020.0           ENGLISH   \n",
       "2               []          0.0            0.0          NaN           ENGLISH   \n",
       "3               []          0.0            0.0       1995.0           ENGLISH   \n",
       "4               []          0.0            0.0       2018.0           ENGLISH   \n",
       "...            ...          ...            ...          ...               ...   \n",
       "66249           []          1.0            0.0          NaN           ENGLISH   \n",
       "66250           []          0.0            0.0       2017.0           ENGLISH   \n",
       "66251           []          0.0            0.0       2011.0           ENGLISH   \n",
       "66252           []          0.0            0.0       2019.0           ENGLISH   \n",
       "66253  ['cat pee']          0.0            0.0       2016.0           ENGLISH   \n",
       "\n",
       "      Vivino ID  sentiment  \n",
       "0       1098912   positive  \n",
       "1       1104824   positive  \n",
       "2       1128252   positive  \n",
       "3       1098770   positive  \n",
       "4       1136137   negative  \n",
       "...         ...        ...  \n",
       "66249   1136137   negative  \n",
       "66250   1138025   negative  \n",
       "66251   1100228   positive  \n",
       "66252   1104824   positive  \n",
       "66253   1224837   negative  \n",
       "\n",
       "[66254 rows x 37 columns]"
      ]
     },
     "execution_count": 27,
     "metadata": {},
     "output_type": "execute_result"
    }
   ],
   "source": [
    "df_starsentiment"
   ]
  },
  {
   "cell_type": "markdown",
   "id": "ed672992",
   "metadata": {},
   "source": [
    "# Sentiment Analysis on Prices"
   ]
  },
  {
   "cell_type": "markdown",
   "id": "8a8c28f4",
   "metadata": {},
   "source": [
    "## Sentence Parsing"
   ]
  },
  {
   "cell_type": "code",
   "execution_count": 28,
   "id": "d67535e7",
   "metadata": {
    "ExecuteTime": {
     "end_time": "2023-03-05T18:32:39.570359Z",
     "start_time": "2023-03-05T18:32:39.009794Z"
    }
   },
   "outputs": [],
   "source": [
    "import emoji\n",
    "from sklearn.feature_extraction.text import TfidfVectorizer\n",
    "from spacy.lang.en.stop_words import STOP_WORDS\n",
    "import spacy\n",
    "import re\n",
    "import pandas as pd\n",
    "nlp = spacy.load(\"en_core_web_sm-wine\")\n",
    "\n",
    "def tokenize_lemma(text):\n",
    "    return [w.lemma_.lower().strip() for w in nlp(emoji.replace_emoji(text))]\n",
    "\n",
    "#STOP_WORDS = STOP_WORDS.union({'ll', 've'})\n",
    "# Removing a few words that don't lemmatize well\n",
    "#STOP_WORDS = STOP_WORDS.difference({'he','his','her','hers'})\n",
    "\n",
    "with open('wine_words.txt', encoding='utf-8') as file:\n",
    "    stop_words_wine = [line.rstrip() for line in file]\n",
    "with open('custom_stop_words.txt', encoding='utf-8') as file:\n",
    "    stop_words = [line.rstrip() for line in file]\n",
    "with open('vivino_stop_words.txt', encoding='utf-8') as file:\n",
    "    stop_words_vivino = [line.rstrip() for line in file]\n",
    "\n",
    "STOP_WORDS = set()\n",
    "STOP_WORDS = set(stop_words + stop_words_wine + stop_words_vivino)\n",
    "#STOP_WORDS = set(stop_words_wine+stop_words_vivino)\n",
    "\n",
    "stop_words_lemma = set(tokenize_lemma(' '.join(sorted(STOP_WORDS))))\n"
   ]
  },
  {
   "cell_type": "code",
   "execution_count": 29,
   "id": "dd7dc67f",
   "metadata": {
    "ExecuteTime": {
     "end_time": "2023-03-05T18:32:40.603822Z",
     "start_time": "2023-03-05T18:32:40.585784Z"
    },
    "scrolled": true
   },
   "outputs": [],
   "source": [
    "def refine_text(s):\n",
    "    s = re.sub(r\"[^a-zA-Z\\d\\s'’$]\", ' ', s)\n",
    "    return s\n",
    "    \n",
    "def get_price(s):\n",
    "    \n",
    "    #Find \"$10, replace it with token\"\n",
    "    dollar_word = re.search(r'\\w*\\$\\d+(?:\\.\\d+)?\\w*', s) # \"not bad for $10AUD.\" --> \"$10AUD\"\n",
    "    dollar_word2 = re.search(r'\\w*\\d+(?:\\.\\d+)?\\$\\w*', s) # \"not bad for $10AUD.\" --> \"$10AUD\"\n",
    "\n",
    "    if not dollar_word:\n",
    "        dollar_word = dollar_word2    \n",
    "        \n",
    "    if not dollar_word:\n",
    "        return None\n",
    "\n",
    "    dollar_word = dollar_word.group(0)\n",
    "    dollar = re.search(r'\\d+(?:\\.\\d+)?', dollar_word)\n",
    "    dollar_text = dollar.group(0).replace('$','')\n",
    "    price = int(math.ceil(float(dollar_text)))\n",
    "    return price\n",
    "\n",
    "def is_price(s):\n",
    "    if get_price(s):\n",
    "        return True\n",
    "    else:\n",
    "        return False\n",
    "    \n",
    "    \n",
    "def tokenize_price(s, token = 'pricetoken'):\n",
    "    \n",
    "    #Find \"$10, replace it with token\"\n",
    "    dollar_word = re.search(r'\\w*\\$\\d+(?:\\.\\d+)?\\w*', s) # \"not bad for $10AUD.\" --> \"$10AUD\"\n",
    "    dollar_word2 = re.search(r'\\w*\\d+(?:\\.\\d+)?\\$\\w*', s) # \"not bad for $10AUD.\" --> \"$10AUD\"\n",
    "\n",
    "    if not dollar_word:\n",
    "        dollar_word = dollar_word2\n",
    "\n",
    "    if not dollar_word:\n",
    "        return s\n",
    "    \n",
    "    dollar_word = dollar_word.group(0)\n",
    "    s = s.replace(dollar_word, r' '+token+' ') #replace price with token\n",
    "    s = re.sub(r'\\d+', '', s).strip() #remove all numbers\n",
    "    \n",
    "    #Return price-tokenized review.\n",
    "    return s\n",
    "\n",
    "\n",
    "def tokenize_lemma(text):\n",
    "    return [w.lemma_.lower().strip() for w in nlp(tokenize_price(emoji.replace_emoji(text)))]\n",
    "\n",
    "\n",
    "def remove_stop_words(words):\n",
    "    tokens_without_sw = [word for word in words if not word in STOP_WORDS]\n",
    "    #print(tokens_without_sw)    \n",
    "    review = ' '.join(tokens_without_sw)\n",
    "    review = [sent.strip() for sent in review.split('.') if len(sent.strip())>0]\n",
    "    review = ' '.join(review)\n",
    "    return review\n",
    "    \n"
   ]
  },
  {
   "cell_type": "code",
   "execution_count": 30,
   "id": "9e5acf94",
   "metadata": {
    "ExecuteTime": {
     "end_time": "2023-03-05T18:32:42.188725Z",
     "start_time": "2023-03-05T18:32:42.178141Z"
    }
   },
   "outputs": [
    {
     "data": {
      "text/plain": [
       "True"
      ]
     },
     "execution_count": 30,
     "metadata": {},
     "output_type": "execute_result"
    }
   ],
   "source": [
    "is_price(refine_text('this is great for 50$ I think'))"
   ]
  },
  {
   "cell_type": "markdown",
   "id": "23415509",
   "metadata": {},
   "source": [
    "## Prepare survey results"
   ]
  },
  {
   "cell_type": "code",
   "execution_count": 31,
   "id": "7f62a68b",
   "metadata": {
    "ExecuteTime": {
     "end_time": "2023-03-05T18:32:52.652580Z",
     "start_time": "2023-03-05T18:32:52.633664Z"
    }
   },
   "outputs": [],
   "source": [
    "def survey_to_df(fname):\n",
    "    df = pd.read_csv(fname, encoding='utf-8-sig', header=None)\n",
    "    df = df.T\n",
    "    df = df[1:]\n",
    "    df.columns = ['reviews','sentiment']\n",
    "    df = df.dropna()\n",
    "    df = df.reset_index(drop=True)\n",
    "    return df"
   ]
  },
  {
   "cell_type": "code",
   "execution_count": 32,
   "id": "2709c887",
   "metadata": {
    "ExecuteTime": {
     "end_time": "2023-03-05T18:32:53.465047Z",
     "start_time": "2023-03-05T18:32:53.202630Z"
    },
    "scrolled": false
   },
   "outputs": [
    {
     "name": "stdout",
     "output_type": "stream",
     "text": [
      "Raw 2535\n",
      "Final 2293\n",
      "Positive      1124\n",
      "Negative       559\n",
      "Neutral        397\n",
      "Don't know     213\n",
      "Name: sentiment, dtype: int64\n"
     ]
    },
    {
     "data": {
      "text/html": [
       "<div>\n",
       "<style scoped>\n",
       "    .dataframe tbody tr th:only-of-type {\n",
       "        vertical-align: middle;\n",
       "    }\n",
       "\n",
       "    .dataframe tbody tr th {\n",
       "        vertical-align: top;\n",
       "    }\n",
       "\n",
       "    .dataframe thead th {\n",
       "        text-align: right;\n",
       "    }\n",
       "</style>\n",
       "<table border=\"1\" class=\"dataframe\">\n",
       "  <thead>\n",
       "    <tr style=\"text-align: right;\">\n",
       "      <th></th>\n",
       "      <th>reviews</th>\n",
       "      <th>sentiment</th>\n",
       "    </tr>\n",
       "  </thead>\n",
       "  <tbody>\n",
       "    <tr>\n",
       "      <th>0</th>\n",
       "      <td>I took a chance on this one at the store yeste...</td>\n",
       "      <td>Positive</td>\n",
       "    </tr>\n",
       "    <tr>\n",
       "      <th>1</th>\n",
       "      <td>Simply put, unappetizing. Acidic and bitter. O...</td>\n",
       "      <td>Neutral</td>\n",
       "    </tr>\n",
       "    <tr>\n",
       "      <th>2</th>\n",
       "      <td>It’s ok... it’s worth $9</td>\n",
       "      <td>Neutral</td>\n",
       "    </tr>\n",
       "    <tr>\n",
       "      <th>3</th>\n",
       "      <td>Interesting Chinese plum finish. Delicious. SF...</td>\n",
       "      <td>Positive</td>\n",
       "    </tr>\n",
       "    <tr>\n",
       "      <th>4</th>\n",
       "      <td>Weak Zinfandel, $13 from Wine.com. Not excitin...</td>\n",
       "      <td>Negative</td>\n",
       "    </tr>\n",
       "  </tbody>\n",
       "</table>\n",
       "</div>"
      ],
      "text/plain": [
       "                                             reviews sentiment\n",
       "0  I took a chance on this one at the store yeste...  Positive\n",
       "1  Simply put, unappetizing. Acidic and bitter. O...   Neutral\n",
       "2                           It’s ok... it’s worth $9   Neutral\n",
       "3  Interesting Chinese plum finish. Delicious. SF...  Positive\n",
       "4  Weak Zinfandel, $13 from Wine.com. Not excitin...  Negative"
      ]
     },
     "execution_count": 32,
     "metadata": {},
     "output_type": "execute_result"
    }
   ],
   "source": [
    "fname_list = glob('./survey_results/vivino*.csv')\n",
    "#print(fname_list)\n",
    "#fname_list = ['./survey_results\\\\vivino1.csv', './survey_results\\\\vivino4.csv']\n",
    "df_survey = [survey_to_df(fname) for fname in fname_list]\n",
    "df_survey = pd.concat(df_survey)\n",
    "\n",
    "df_duplicates = df_survey[(df_survey['reviews'].duplicated(keep=False))].sort_values(by=['reviews'])\n",
    "\n",
    "print('Raw', len(df_survey))\n",
    "df_survey = df_survey.drop_duplicates(subset=['reviews'])\n",
    "\n",
    "#reject rows with \"50 $\" by checking if \"$30\" or \"30$\" exists. \n",
    "df_survey = df_survey[(df_survey['reviews'].apply(is_price))]\n",
    "\n",
    "print('Final', len(df_survey))\n",
    "print(df_survey['sentiment'].value_counts())\n",
    "\n",
    "df_survey.head()"
   ]
  },
  {
   "cell_type": "code",
   "execution_count": 33,
   "id": "4659ea2e",
   "metadata": {
    "ExecuteTime": {
     "end_time": "2023-03-05T18:33:03.861908Z",
     "start_time": "2023-03-05T18:33:03.841912Z"
    },
    "scrolled": true
   },
   "outputs": [
    {
     "data": {
      "text/plain": [
       "Keep    2080\n",
       "Toss     213\n",
       "Name: decision, dtype: int64"
      ]
     },
     "execution_count": 33,
     "metadata": {},
     "output_type": "execute_result"
    }
   ],
   "source": [
    "def ordinalize(s):\n",
    "    if s == 'Negative':\n",
    "        return 0\n",
    "    elif s == 'Neutral':\n",
    "        return 1\n",
    "    elif s == 'Positive':\n",
    "        return 2\n",
    "\n",
    "def sentiment_to_known(s):\n",
    "    if s in ['Positive','Neutral','Negative']:\n",
    "        return 'Keep'\n",
    "    else:\n",
    "        return 'Toss'\n",
    "\n",
    "df_survey['decision'] = df_survey['sentiment'].apply(sentiment_to_known)\n",
    "df_survey['decision'].value_counts()"
   ]
  },
  {
   "cell_type": "code",
   "execution_count": 14,
   "id": "9e866d1b",
   "metadata": {
    "ExecuteTime": {
     "end_time": "2023-02-10T21:30:09.432717Z",
     "start_time": "2023-02-10T21:30:06.151598Z"
    },
    "scrolled": true
   },
   "outputs": [
    {
     "data": {
      "text/plain": [
       "True"
      ]
     },
     "execution_count": 14,
     "metadata": {},
     "output_type": "execute_result"
    }
   ],
   "source": [
    "# import pkg_resources\n",
    "# from symspellpy import SymSpell, Verbosity\n",
    "\n",
    "# sym_spell = SymSpell(max_dictionary_edit_distance=2, prefix_length=7)\n",
    "# dictionary_path = pkg_resources.resource_filename(\n",
    "#     \"symspellpy\", \"frequency_dictionary_en_82_765.txt\")\n",
    "# bigram_path = pkg_resources.resource_filename(\n",
    "#     \"symspellpy\", \"frequency_bigramdictionary_en_243_342.txt\")\n",
    "# # term_index is the column of the term and count_index is the\n",
    "# # column of the term frequency\n",
    "# sym_spell.load_dictionary(dictionary_path, term_index=0, count_index=1)\n",
    "# sym_spell.load_bigram_dictionary(bigram_path, term_index=0, count_index=2)\n",
    "\n",
    "# # lookup suggestions for multi-word input strings (supports compound\n",
    "# # splitting & merging)"
   ]
  },
  {
   "cell_type": "code",
   "execution_count": 74,
   "id": "68d959a2",
   "metadata": {
    "ExecuteTime": {
     "end_time": "2023-01-31T03:14:32.712582Z",
     "start_time": "2023-01-31T03:14:32.689583Z"
    }
   },
   "outputs": [],
   "source": [
    "\n",
    "# import pkg_resources, string\n",
    "# from nltk.stem import PorterStemmer \n",
    "# ps = PorterStemmer()\n",
    "# def correct(w):\n",
    "#     if all([not c.isalpha() for c in w]): return w\n",
    "    \n",
    "#     word = w\n",
    "    \n",
    "#     # Fix for strings with punctuations in them\n",
    "#     # Otherwise, it will try to spellcheck with the punctuation included which messes up results\n",
    "#     word_no_punc = w.translate(str.maketrans(string.punctuation, ' '*len(string.punctuation)))\n",
    "#     split = word_no_punc.split()\n",
    "#     l = len(split)\n",
    "#     if l > 1:\n",
    "#         corrected = []\n",
    "#         i = 0\n",
    "#         while i < l:\n",
    "#             if i == l-1:\n",
    "#                 corrected.append(correct(split[i]))\n",
    "#                 break\n",
    "        \n",
    "#             # if the words combined are english, then consider it as one word\n",
    "#             tmp = split[i] + split[i+1]\n",
    "#             if wnl.lemmatize(tmp) in english_vocab or ps.stem(tmp) in english_vocab:\n",
    "#                 corrected.append(tmp)\n",
    "#                 i += 1\n",
    "#             # otherwise, spellcheck them separately\n",
    "#             else:\n",
    "#                 corrected.append(correct(split[i]))\n",
    "#             i += 1\n",
    "#         return corrected\n",
    "#     else:\n",
    "#         word_no_punc = word_no_punc.strip()\n",
    "    \n",
    "#     o = sym_spell.lookup_compound(word_no_punc,\n",
    "#         max_edit_distance=2, # The maximum edit distance between input and suggested words.\n",
    "#         ignore_non_words=True, # numbers and acronyms are left alone\n",
    "#         split_by_space=True, # otherwise hyphen words will be split wolfgarbe/SymSpell#85\n",
    "#         ignore_term_with_digits=True, # any term with digits is left alone      \n",
    "#         transfer_casing = True)\n",
    "    \n",
    "#     if not o: return w\n",
    "\n",
    "#     word = o[0].term\n",
    "#     if w[0].isupper():\n",
    "#         word = word[0].upper() + ''.join(word[1: ])\n",
    "\n",
    "#     start_punc = end_punc = ''\n",
    "    \n",
    "#     # Get start punctuation\n",
    "#     for c in w:\n",
    "#         if c in string.punctuation:\n",
    "#             start_punc += c\n",
    "#         else:\n",
    "#             break\n",
    "\n",
    "#     # Get end punctuation\n",
    "#     for c in reversed(w):\n",
    "#         if c in string.punctuation:\n",
    "#             end_punc = c + end_punc\n",
    "#         else:\n",
    "#             break\n",
    "            \n",
    "#     return start_punc + word + end_punc\n",
    "\n",
    "# def spellcheck_keep_punctuation(sentence):\n",
    "#     corrected = []\n",
    "#     for word in sentence.split():\n",
    "#         corrected_word = correct(word)\n",
    "#         if isinstance(corrected_word, list):\n",
    "#             corrected.extend(corrected_word)\n",
    "#         else:\n",
    "#             corrected.append(corrected_word)\n",
    "#     return ' '.join(corrected)"
   ]
  },
  {
   "cell_type": "code",
   "execution_count": 75,
   "id": "1a5e8bb3",
   "metadata": {
    "ExecuteTime": {
     "end_time": "2023-01-31T03:14:33.090582Z",
     "start_time": "2023-01-31T03:14:33.082583Z"
    }
   },
   "outputs": [
    {
     "data": {
      "text/plain": [
       "'this QPR is amazing $50. I wonder'"
      ]
     },
     "execution_count": 75,
     "metadata": {},
     "output_type": "execute_result"
    }
   ],
   "source": [
    "# spellcheck_keep_punctuation('this QPR is amazing $50. I wonder')"
   ]
  },
  {
   "cell_type": "code",
   "execution_count": 78,
   "id": "a1dab2ed",
   "metadata": {
    "ExecuteTime": {
     "end_time": "2023-01-31T03:22:08.322592Z",
     "start_time": "2023-01-31T03:22:08.170368Z"
    },
    "scrolled": true
   },
   "outputs": [
    {
     "name": "stderr",
     "output_type": "stream",
     "text": [
      "100%|██████████████████████████████████████████████████████████████████████████████████| 11/11 [00:00<00:00, 80.16it/s]"
     ]
    },
    {
     "name": "stdout",
     "output_type": "stream",
     "text": [
      "I took a chance on this one at the store yesterday after reading some reviews, and it didn't disappoint! In fact, I'm having a glass right now. My husband also enjoyed the lovely raspberry notes, a bit of pepper...it falls off a liitle on the back, but for $12, I'll forgive it!\n",
      "I took a chance on this one at the store yesterday after reading some reviews, and it didn't disappoint! In fact, I'm having a glass right now. My husband also enjoyed the lovely raspberry notes, a bit of pepper...it falls off a liitle on the back, but for $12, I'll forgive it!\n",
      "I took a chance on this one at the store yesterday after reading some reviews, and it didn't disappoint! In fact, I'm having a glass right now. My husband also enjoyed the lovely raspberry notes, a bit of pepper ...itfallsoffaliitle on the back, but for $12, I'll forgive it!\n",
      "\n",
      "Simply put, unappetizing. Acidic and bitter. Overpriced as well. Drinks like a $5 wine.\n",
      "Simply put, unappetizing. Acidic and bitter. Overpriced as well. Drinks like a $5 wine.\n",
      "Simply put, unappetizing. Acidic and bitter. Overpriced as well. Drinks like a $5wine.\n",
      "\n",
      "It’s ok... it’s worth $9\n",
      "It’s ok... it’s worth $9\n",
      "It ’sok...it’s worth $9\n",
      "\n",
      "Interesting Chinese plum finish. Delicious. SFWTC $84.95\n",
      "Interesting Chinese plum finish. Delicious. SFWTC $84.95\n",
      "Interesting Chinese plum finish. Delicious .sfwtc $84.95\n",
      "\n",
      "Weak Zinfandel, $13 from Wine.com. Not exciting at all. Would not buy again. Medium body and mild fruit.\n",
      "Weak Zinfandel, $13 from Wine.com. Not exciting at all. Would not buy again. Medium body and mild fruit.\n",
      "Weak Zinfandel, $13 from Wine .com. Not exciting at all. Would not buy again. Medium body and mild fruit.\n",
      "\n",
      "Nice oak and mocha on the nose. Big juicy dark fruit palate with smooth tannins and a subtle pepper finish. $36 in NS, Canada well spent.\n",
      "Nice oak and mocha on the nose. Big juicy dark fruit palate with smooth tannins and a subtle pepper finish. $36 in NS, Canada well spent.\n",
      "Nice oak and mocha on the nose. Big juicy dark fruit palate with smooth tannins and a subtle pepper finish. $36inns, Canada well spent.\n",
      "\n",
      "Didn't cut it for me. Price point of $40, I don't think so. Lacking passion and care.\n",
      "Didn't cut it for me. Price point of $40, I don't think so. Lacking passion and care.\n",
      "Didn't cut it for me. Price point of $40, I don't think so. Lacking passion and care.\n",
      "\n",
      "Our market had a big display, $16.99/btl. I brought a bittle to a friend's and was totally dismayed, it was so sweet, as much as any blend I've had. Very off-putting..WTH.\n",
      "Our market had a big display, $16.99/btl. I brought a bittle to a friend's and was totally dismayed, it was so sweet, as much as any blend I've had. Very off-putting..WTH.\n",
      "Our market had a big display, $16.99/btl. I brought a bitt leto a friend's and was totally dismayed, it was so sweet, as much as any blend I've had. Very off putting ..wth.\n",
      "\n",
      "Yep, this is a great example of a great wine! The nose is of black fruit, black tea, violets, sandalwood, cigar box and smoke. The palate is rich with black fruit, tea, spices, leather with a hint of chocolate on the finish. Very rich and full, elegant and classy, perfectly balanced ... what you would expect in a fine wine. But still, at $170?? If you can get it through on your expense report..... go for it!!\n",
      "Yep, this is a great example of a great wine! The nose is of black fruit, black tea, violets, sandalwood, cigar box and smoke. The palate is rich with black fruit, tea, spices, leather with a hint of chocolate on the finish. Very rich and full, elegant and classy, perfectly balanced ... what you would expect in a fine wine. But still, at $170?? If you can get it through on your expense report..... go for it!!\n",
      "Yep, this is a great example of a great wine! The nose is of black fruit, black tea, violets, sandalwood, cigar box and smoke. The palate is rich with black fruit, tea, spices, leather with a hint of chocolate on the finish. Very rich and full, elegant and classy, perfectly balanced ... what you would expect in a fine wine. But still, at $170?? If you can get it through on your expense report ..... go for it !!\n",
      "\n",
      "Full-bodied, rich CDR. Raspberry notes/flavors, spice. D’un type, but very pleasantly so, esp. @ $14.00\n",
      "Full-bodied, rich CDR. Raspberry notes/flavors, spice. D’un type, but very pleasantly so, esp. @ $14.00\n",
      "Full bodied, rich Cdr. Raspberry notes /flavors,spice.d’untype, but very pleasantly so, esp.@ $14.00\n",
      "\n",
      "this qpr is amazing $50\n",
      "this qpr is amazing $50\n",
      "this qpr is amazing $50\n",
      "\n"
     ]
    },
    {
     "name": "stderr",
     "output_type": "stream",
     "text": [
      "\n"
     ]
    }
   ],
   "source": [
    "# reviews = list(df_survey['reviews'])\n",
    "# suggestions = []\n",
    "# #https://symspellpy.readthedocs.io/en/latest/api/symspellpy.html#symspell\n",
    "# for r in tqdm(reviews[0:10]+['this qpr is amazing $50']):\n",
    "#     print(r)\n",
    "#     # max edit distance per lookup (per single word, not per whole input string)\n",
    "#     #r = tokenize_price(refine_text(r), TOKEN)\n",
    "#     suggestions.append(\n",
    "#         sym_spell.word_segmentation(r, max_edit_distance=0,ignore_token='[^a-zA-Z\\s]|(?:qpr)|[A-Z](?:[\\\\.&]?[A-Z]){2,100}'))\n",
    "#     print(r)\n",
    "#     print(suggestions[-1].corrected_string)\n",
    "#     print()"
   ]
  },
  {
   "cell_type": "code",
   "execution_count": 62,
   "id": "e106c124",
   "metadata": {
    "ExecuteTime": {
     "end_time": "2023-02-23T07:17:05.465475Z",
     "start_time": "2023-02-23T07:17:05.443211Z"
    }
   },
   "outputs": [],
   "source": [
    "# df_survey.to_csv('master_survey_test.csv', encoding='utf-8')"
   ]
  },
  {
   "cell_type": "code",
   "execution_count": 34,
   "id": "a6837b6c",
   "metadata": {
    "ExecuteTime": {
     "end_time": "2023-03-05T18:34:37.075526Z",
     "start_time": "2023-03-05T18:34:37.050648Z"
    },
    "scrolled": false
   },
   "outputs": [],
   "source": [
    "data = df_survey[['reviews','sentiment']]\n",
    "#data = data[(data['sentiment']=='Positive') | (data['sentiment']=='Negative')| (data['sentiment']=='Neutral')]\n",
    "#data.loc[data[\"sentiment\"] == \"Neutral\", \"sentiment\"] ='Negative'\n",
    "#pos = data[(data['sentiment']=='Positive')]\n",
    "#neg = data[(data['sentiment']=='Negative')]\n",
    "#pos = pos[0:len(neg)]\n",
    "#data = pd.concat([pos,neg]).sample(frac=1).reset_index(drop=True)\n",
    "data = data[(data['sentiment']=='Positive') | (data['sentiment']=='Negative')]\n",
    "data_survey = data.sample(len(data))\n",
    "data_survey['sentiment'].value_counts()\n",
    "data_survey.to_csv('./survey_results/master_survey.csv', encoding='utf-8-sig')"
   ]
  },
  {
   "cell_type": "markdown",
   "id": "1ff86e80",
   "metadata": {},
   "source": [
    "## Sentiment Analysis Model - PRICE SENTIMENT"
   ]
  },
  {
   "cell_type": "code",
   "execution_count": 194,
   "id": "5c3f727c",
   "metadata": {
    "ExecuteTime": {
     "end_time": "2023-02-23T08:33:09.632739Z",
     "start_time": "2023-02-23T08:32:50.044062Z"
    },
    "scrolled": false
   },
   "outputs": [
    {
     "name": "stdout",
     "output_type": "stream",
     "text": [
      "better =  ['better'] <--- if equal, lemma replace is successful\n",
      "random seed 66227830\n",
      "Training on 1346 data.\n"
     ]
    },
    {
     "name": "stderr",
     "output_type": "stream",
     "text": [
      "C:\\Users\\steph\\anaconda3\\lib\\site-packages\\sklearn\\feature_extraction\\text.py:396: UserWarning: Your stop_words may be inconsistent with your preprocessing. Tokenizing the stop words generated tokens ['roast', 's', 'z'] not in stop_words.\n",
      "  warnings.warn(\n"
     ]
    },
    {
     "name": "stdout",
     "output_type": "stream",
     "text": [
      "SGD score: 0.9109792284866469\n",
      ":::::::SGD Classifier results:::::::\n",
      "              precision    recall  f1-score   support\n",
      "\n",
      "    Negative       0.85      0.85      0.85        99\n",
      "    Positive       0.94      0.94      0.94       238\n",
      "\n",
      "    accuracy                           0.91       337\n",
      "   macro avg       0.89      0.89      0.89       337\n",
      "weighted avg       0.91      0.91      0.91       337\n",
      "\n",
      ":::::::Dummy Classifier results:::::::\n",
      "Dummy score: 0.56973293768546\n",
      "              precision    recall  f1-score   support\n",
      "\n",
      "    Negative       0.28      0.29      0.29        99\n",
      "    Positive       0.70      0.68      0.69       238\n",
      "\n",
      "    accuracy                           0.57       337\n",
      "   macro avg       0.49      0.49      0.49       337\n",
      "weighted avg       0.58      0.57      0.57       337\n",
      "\n"
     ]
    }
   ],
   "source": [
    "import emoji\n",
    "import random\n",
    "import pandas as pd\n",
    "#from spacy.lang.en.stop_words import STOP_WORDS\n",
    "from sklearn.feature_extraction.text import TfidfVectorizer\n",
    "from sklearn.naive_bayes import MultinomialNB\n",
    "from sklearn.naive_bayes import ComplementNB\n",
    "from sklearn.linear_model import Ridge\n",
    "from sklearn.pipeline import Pipeline\n",
    "from sklearn.metrics import confusion_matrix, precision_score, classification_report\n",
    "from sklearn.linear_model import LogisticRegression\n",
    "from sklearn.metrics import confusion_matrix, ConfusionMatrixDisplay\n",
    "from sklearn.model_selection import train_test_split\n",
    "from sklearn.linear_model import SGDClassifier\n",
    "\n",
    "token = ''\n",
    "token = ''\n",
    "def custom_tokenizer(s):\n",
    "    return  tokenize_lemma(tokenize_price(refine_text(s), token))\n",
    "\n",
    "print('better = ', tokenize_lemma('better'),\n",
    "      '<--- if equal, lemma replace is successful')\n",
    "\n",
    "with open('custom_stop_words.txt', encoding='utf-8') as file:\n",
    "    stop_words = [line.rstrip() for line in file]\n",
    "with open('wine_words.txt', encoding='utf-8') as file:\n",
    "    stop_words_wine = [line.rstrip() for line in file]\n",
    "with open('vivino_stop_words.txt', encoding='utf-8') as file:\n",
    "    stop_words_vivino = [line.rstrip() for line in file]\n",
    "\n",
    "STOP_WORDS = set(stop_words + stop_words_wine + stop_words_vivino)\n",
    "STOP_WORDS = STOP_WORDS.union({'ll', 've'})\n",
    "STOP_WORDS = STOP_WORDS.difference({'he', 'his', 'her','hers'})  # Removing a few words that don't lemmatize well\n",
    "\n",
    "stop_words_lemma = set(tokenize_lemma(' '.join(sorted(STOP_WORDS))))\n",
    "\n",
    "mnb_pipe = Pipeline([\n",
    "    ('vectorizer',TfidfVectorizer(ngram_range=(1, 2),stop_words=stop_words_lemma,tokenizer=custom_tokenizer)),\n",
    "    ('classifier', MultinomialNB()),\n",
    "])\n",
    "\n",
    "sgd_pipe = Pipeline([\n",
    "    ('vectorizer', TfidfVectorizer(ngram_range=(1, 2), stop_words=stop_words_lemma,\n",
    "         tokenizer=custom_tokenizer, )),  # lemmatization removed to improve runtime\n",
    "    ('classifier', SGDClassifier(max_iter=50, loss='modified_huber', alpha=0.0005))\n",
    "])\n",
    "\n",
    "est = sgd_pipe\n",
    "\n",
    "\n",
    "#data = pd.read_csv('./survey_results/ratings_sentiment.csv', encoding='utf-8-sig')\n",
    "data = pd.read_csv('./survey_results/master_survey.csv', encoding='utf-8-sig')\n",
    "\n",
    "X = data['reviews']\n",
    "y = data['sentiment']\n",
    "seed = random.randint(1, 1e8)\n",
    "print('random seed', seed)\n",
    "X_train, X_test, y_train, y_test = train_test_split(X, y, train_size=0.8, random_state=seed)\n",
    "\n",
    "print(f'Training on {len(X_train)} data.')\n",
    "est.fit(X_train, y_train)\n",
    "print('SGD score:',est.score(X_test, y_test))\n",
    "#y_pred = est.predict(X_test)\n",
    "y_pred = est.predict(X_test)\n",
    "print(':::::::SGD Classifier results:::::::')\n",
    "print(classification_report(y_test, y_pred, target_names=est.classes_))\n",
    "\n",
    "\n",
    "from sklearn.dummy import DummyClassifier\n",
    "print(':::::::Dummy Classifier results:::::::')\n",
    "dummy_clf = DummyClassifier(strategy=\"stratified\")\n",
    "dummy_clf.fit(X_train, y_train)\n",
    "print('Dummy score:',dummy_clf.score(X_test, y_test))\n",
    "print(classification_report(y_test, dummy_clf.predict(X_test), target_names=dummy_clf.classes_))"
   ]
  },
  {
   "cell_type": "code",
   "execution_count": 192,
   "id": "a4d80189",
   "metadata": {
    "ExecuteTime": {
     "end_time": "2023-02-23T08:32:26.336508Z",
     "start_time": "2023-02-23T08:32:26.322512Z"
    }
   },
   "outputs": [],
   "source": [
    "import pickle as pk\n",
    "filename = 'finalized_model.pkl'\n",
    "pk.dump(est, open(filename, 'wb'))"
   ]
  },
  {
   "cell_type": "code",
   "execution_count": 160,
   "id": "f7c8727c",
   "metadata": {
    "ExecuteTime": {
     "end_time": "2023-02-23T08:09:03.039987Z",
     "start_time": "2023-02-23T08:09:03.009988Z"
    }
   },
   "outputs": [],
   "source": [
    "import pickle as pk\n",
    "filename = 'finalized_model.pkl'\n",
    "est = pk.load(open(filename, 'rb'))"
   ]
  },
  {
   "cell_type": "code",
   "execution_count": 177,
   "id": "f2ce285f",
   "metadata": {
    "ExecuteTime": {
     "end_time": "2023-02-23T08:22:34.621360Z",
     "start_time": "2023-02-23T08:22:31.618596Z"
    },
    "scrolled": false
   },
   "outputs": [
    {
     "data": {
      "text/plain": [
       "<sklearn.metrics._plot.confusion_matrix.ConfusionMatrixDisplay at 0x23ffbd5edc0>"
      ]
     },
     "execution_count": 177,
     "metadata": {},
     "output_type": "execute_result"
    },
    {
     "data": {
      "image/png": "[encoded data removed]",
      "text/plain": [
       "<Figure size 640x480 with 2 Axes>"
      ]
     },
     "metadata": {},
     "output_type": "display_data"
    },
    {
     "data": {
      "image/png": "[encoded data removed]",
      "text/plain": [
       "<Figure size 640x480 with 2 Axes>"
      ]
     },
     "metadata": {},
     "output_type": "display_data"
    }
   ],
   "source": [
    "#print(confusion_matrix(y_test, y_pred))\n",
    "disp = ConfusionMatrixDisplay.from_estimator(est, X_test, y_test,\n",
    "    display_labels=est.classes_, cmap=plt.cm.Blues, normalize=\"true\",\n",
    ")\n",
    "disp.plot()"
   ]
  },
  {
   "cell_type": "code",
   "execution_count": 162,
   "id": "b14a9241",
   "metadata": {
    "ExecuteTime": {
     "end_time": "2023-02-23T08:09:09.164987Z",
     "start_time": "2023-02-23T08:09:09.150987Z"
    },
    "scrolled": true
   },
   "outputs": [],
   "source": [
    "# print('Classes:',est.classes_)\n",
    "# vocab = est.get_params()['vectorizer'].vocabulary_\n",
    "# coeff_pos = est.get_params()['classifier'].feature_log_prob_[1]\n",
    "# coeff_neg = est.get_params()['classifier'].feature_log_prob_[0]\n",
    "\n",
    "# from numpy import argsort\n",
    "\n",
    "# polarity = coeff_pos - coeff_neg\n",
    "# indices = argsort(polarity) # indices of the polarity list, sorted from least to greatest\n",
    "\n",
    "# print(\"Positive Words \\n-----\")\n",
    "# for word in vocab:\n",
    "#     if vocab[word] in indices[-20:]:\n",
    "#         print(word)\n",
    "\n",
    "# print(\"\\nNegative Words \\n-----\")\n",
    "# for word in vocab:\n",
    "#     if vocab[word] in indices[:20]:\n",
    "#         print(word)"
   ]
  },
  {
   "cell_type": "code",
   "execution_count": 17,
   "id": "c289e122",
   "metadata": {
    "ExecuteTime": {
     "end_time": "2023-02-13T19:00:28.883469Z",
     "start_time": "2023-02-13T19:00:27.978588Z"
    },
    "scrolled": true
   },
   "outputs": [
    {
     "name": "stdout",
     "output_type": "stream",
     "text": [
      "Classes: ['Negative' 'Positive']\n",
      "Predict: Positive\n",
      "Actual:  Positive\n",
      "Negative score: 0.000%\n",
      "Positive score: 1.000%\n",
      "I rounded up to 4 stars because this is such a great QPR Pinot. Picked up a mixed case of wine at the Costco on the Big Island and paired this with some salmon. This is a great everyday PN that can be picked up for about $16. Flavors of strawberries, raspberries, cranberries, vanilla, cherry cola, warm spices and oak on the finish.\n",
      "['great', 'qpr', 'pick', 'mixed', 'case', 'big', 'island', 'pair', 'great', 'everyday', 'pn', 'pick', 'pricetoken', 'cola', 'warm']\n",
      "\n",
      "Predict: Negative\n",
      "Actual:  Negative\n",
      "Negative score: 0.961%\n",
      "Positive score: 0.039%\n",
      "Dry, dark and brooding - not worth. $311 though\n",
      "['dry', 'brood', 'not', 'worth', 'pricetoken']\n",
      "\n",
      "Predict: Positive\n",
      "Actual:  Positive\n",
      "Negative score: 0.000%\n",
      "Positive score: 1.000%\n",
      "Very satisfying Aussie Shiraz. Intense aromas of blueberry and black fruit, with some black pepper and chocolate. Quite full bodied, with smooth tannins. Excellent to drink on its own. A gift from the son-in-law: he may be worth keeping around. . Nice value at $20 at the LCBO.\n",
      "['satisfying', 'aussie', 'intense', 'excellent', 'gift', 'son', 'law', 'he', 'worth', 'keep', 'nice', 'value', 'pricetoken']\n",
      "\n",
      "Predict: Positive\n",
      "Actual:  Positive\n",
      "Negative score: 0.000%\n",
      "Positive score: 1.000%\n",
      "Quite good cab. Bold taste. Smooth finish. Worth buying At $20 or less\n",
      "['good', 'bold', 'taste', 'worth', 'buy', 'pricetoken', 'less']\n",
      "\n",
      "Predict: Positive\n",
      "Actual:  Positive\n",
      "Negative score: 0.200%\n",
      "Positive score: 0.800%\n",
      "buy this again - binnys $14\n",
      "['buy', 'again', 'binnys', 'pricetoken']\n",
      "\n",
      "Predict: Positive\n",
      "Actual:  Positive\n",
      "Negative score: 0.000%\n",
      "Positive score: 1.000%\n",
      "One of the best Cabs ever. $55 per bottle from the Diageo wine club was a real bargin.\n",
      "['good', 'cabs', 'pricetoken', 'diageo', 'club', 'real', 'bargin']\n",
      "\n",
      "Predict: Positive\n",
      "Actual:  Positive\n",
      "Negative score: 0.000%\n",
      "Positive score: 1.000%\n",
      "Really good for the money. $11 at saia.\n",
      "['good', 'money', 'pricetoken', 'saia']\n",
      "\n",
      "Predict: Negative\n",
      "Actual:  Negative\n",
      "Negative score: 0.985%\n",
      "Positive score: 0.015%\n",
      "Not worthy of $10 tough wine\n",
      "['not', 'worthy', 'pricetoken', 'tough']\n",
      "\n",
      "Predict: Negative\n",
      "Actual:  Negative\n",
      "Negative score: 0.621%\n",
      "Positive score: 0.379%\n",
      "Not awesome. Subpar for a $20 wine.\n",
      "['not', 'awesome', 'subpar', 'pricetoken']\n",
      "\n",
      "Predict: Negative\n",
      "Actual:  Negative\n",
      "Negative score: 1.000%\n",
      "Positive score: 0.000%\n",
      "Negative\n",
      "['negative']\n",
      "\n",
      "Predict: Negative\n",
      "Actual:  Negative\n",
      "Negative score: 0.560%\n",
      "Positive score: 0.440%\n",
      "Gutted - it was CORKED. I love a good Burgundy Pinot. But I knew as soon as the corked popped, with a slimy residue on the bottom half of the cork - this was 'a gonner'. The nose did reveal a hint at what could have been as dark cherries, smokey bacon, star anise, lavender and spice evoked a fine French Pinot Noir. Alas, the palate was the finest slippery pond water from Burgundy I had tried! To the sink it was. Langtons - I want my $50 back ...!!\n",
      "['gutte', 'corked', 'love', 'good', 'but', 'know', 'soon', 'cork', 'pop', 'slimy', 'residue', 'half', 'cork', \"'\", 'gonner', \"'\", 'reveal', 'bacon', 'lavender', 'evoke', 'fine', 'alas', 'fine', 'slippery', 'pond', 'water', 'try', 'sink', 'langton', 'want', 'pricetoken']\n",
      "\n",
      "Predict: Positive\n",
      "Actual:  Positive\n",
      "Negative score: 0.000%\n",
      "Positive score: 1.000%\n",
      "Dark chocolate on the nose. Bright fruits, tart cherry on the finish, hint of smoke. Good value at around $15 a bottle.\n",
      "['bright', 'good', 'value', 'pricetoken']\n",
      "\n",
      "Predict: Negative\n",
      "Actual:  Negative\n",
      "Negative score: 1.000%\n",
      "Positive score: 0.000%\n",
      "Not smooth. Sour and quite tart. There are many better options for $8. Skip!\n",
      "['not', 'many', 'well', 'option', 'pricetoken', 'skip']\n",
      "\n",
      "Predict: Positive\n",
      "Actual:  Positive\n",
      "Negative score: 0.425%\n",
      "Positive score: 0.575%\n",
      "A sublime 4.7 from me. I always worry opening a wine when there is such expectation. Especially at this price point. It's got to knock the socks off the over achieving 97 pointers below a $100. And it did. It was sweet, savoury and hugely complex on the nose and palate. But it was harmonious too. I thought I had drunk my best red of 2015 - the Les Amis 09 - but it's big sister has just de-throned it. The only negative was my lack of will power. It was clearly in its primary years and has years ahead of it.\n",
      "['sublime', 'worry', 'open', 'expectation', 'especially', 'price', 'knock', 'sock', 'achieve', 'pointer', 'below', 'pricetoken', 'savoury', 'hugely', 'but', 'harmonious', 'good', 'les', 'amis', 'but', 'big', 'sister', 'throne', 'negative', 'lack', 'power', 'clearly', 'primary', 'ahead']\n",
      "\n",
      "Predict: Positive\n",
      "Actual:  Positive\n",
      "Negative score: 0.000%\n",
      "Positive score: 1.000%\n",
      "Loved this wine! Tangy fruit with good minerality. Will definitely buy again. Bought on sale for $12. Great QPR.\n",
      "['love', 'tangy', 'good', 'buy', 'again', 'buy', 'sale', 'pricetoken', 'great', 'qpr']\n",
      "\n",
      "Predict: Negative\n",
      "Actual:  Negative\n",
      "Negative score: 1.000%\n",
      "Positive score: 0.000%\n",
      "Negative\n",
      "['negative']\n",
      "\n",
      "Predict: Positive\n",
      "Actual:  Positive\n",
      "Negative score: 0.000%\n",
      "Positive score: 1.000%\n",
      "$18.75 very good\n",
      "['pricetoken', 'good']\n",
      "\n",
      "Predict: Negative\n",
      "Actual:  Negative\n",
      "Negative score: 1.000%\n",
      "Positive score: 0.000%\n",
      "Negative\n",
      "['negative']\n",
      "\n",
      "Predict: Positive\n",
      "Actual:  Positive\n",
      "Negative score: 0.007%\n",
      "Positive score: 0.993%\n",
      "Nice even flavour. Good cheap wine at 8-10$\n",
      "['nice', 'good', 'cheap', 'pricetoken']\n",
      "\n",
      "Predict: Negative\n",
      "Actual:  Negative\n",
      "Negative score: 1.000%\n",
      "Positive score: 0.000%\n",
      "Negative\n",
      "['negative']\n",
      "\n",
      "Predict: Positive\n",
      "Actual:  Positive\n",
      "Negative score: 0.000%\n",
      "Positive score: 1.000%\n",
      "Quite pleasant for the price, fruit forward and full bodied, this red is great with any cut of meat or by itself. This is what a $10 bottle of wine should strive to be\n",
      "['pleasant', 'price', 'forward', 'great', 'cut', 'pricetoken', 'strive']\n",
      "\n",
      "Predict: Negative\n",
      "Actual:  Negative\n",
      "Negative score: 1.000%\n",
      "Positive score: 0.000%\n",
      "Negative\n",
      "['negative']\n",
      "\n",
      "Predict: Positive\n",
      "Actual:  Positive\n",
      "Negative score: 0.000%\n",
      "Positive score: 1.000%\n",
      "Great value under 20$\n",
      "['great', 'value', 'pricetoken']\n",
      "\n",
      "Predict: Negative\n",
      "Actual:  Negative\n",
      "Negative score: 0.741%\n",
      "Positive score: 0.259%\n",
      "The Limited Edition is the $16 mid-range of our Pascual Toso tasting. In a direct comparison with the orange labelled low price Malbec the quality improvement was minimal but evident, but not worth the extra price\n",
      "['limited', 'edition', 'pricetoken', 'range', 'pascual', 'toso', 'taste', 'direct', 'comparison', 'label', 'low', 'price', 'quality', 'improvement', 'minimal', 'but', 'evident', 'but', 'not', 'worth', 'extra', 'price']\n",
      "\n",
      "Predict: Negative\n",
      "Actual:  Negative\n",
      "Negative score: 1.000%\n",
      "Positive score: 0.000%\n",
      "Negative\n",
      "['negative']\n",
      "\n",
      "Predict: Positive\n",
      "Actual:  Positive\n",
      "Negative score: 0.410%\n",
      "Positive score: 0.590%\n",
      "French merlot rosé. Crisp cherry/strawberry notes. Dry, light, but the most interesting thing was a very slight spritzy feel, even though there's no visual carbonation, imagine a vinho verde rosé. Had with chicken tikka masala. Best takeaway, $7.99 for a liter bottle. Cheap dry rosé...versatile..the wine that gets along with just about any food at the party! Count me in!\n",
      "['ro', 'dry', 'but', 'interesting', 'thing', 'spritzy', 'no', 'visual', 'carbonation', 'imagine', 'vinho', 'verde', 'tikka', 'masala', 'best', 'takeaway', 'pricetoken', 'liter', 'cheap', 'dry', 'ro', 'versatile', 'party', 'count']\n",
      "\n",
      "Predict: Negative\n",
      "Actual:  Negative\n",
      "Negative score: 1.000%\n",
      "Positive score: 0.000%\n",
      "Just ok. Not worth $20, that's for damn sure! I'd rather have barefoot!!!\n",
      "['ok', 'not', 'worth', 'pricetoken', 'damn', 'would', 'barefoot']\n",
      "\n",
      "Predict: Positive\n",
      "Actual:  Positive\n",
      "Negative score: 0.000%\n",
      "Positive score: 1.000%\n",
      "An excellent Cabernet, one of the best I have and it's a bargain! It has a great nose and it is very full bodied with a strong finish. A good option for $20.\n",
      "['excellent', 'good', 'bargain', 'great', 'strong', 'good', 'option', 'pricetoken']\n",
      "\n",
      "Predict: Negative\n",
      "Actual:  Negative\n",
      "Negative score: 1.000%\n",
      "Positive score: 0.000%\n",
      "So disappointed! At $40 a bottle and the recommendation I think I was expecting Rombauer. Not awful, just not notable for me.\n",
      "['disappointed', 'pricetoken', 'recommendation', 'expect', 'rombauer', 'not', 'awful', 'not', 'notable']\n",
      "\n",
      "Predict: Negative\n",
      "Actual:  Negative\n",
      "Negative score: 0.580%\n",
      "Positive score: 0.420%\n",
      "Sweet, not good. Drinks like a $7 bottle of wine.\n",
      "['not', 'good', 'like', 'pricetoken']\n",
      "\n",
      "Predict: Negative\n",
      "Actual:  Negative\n",
      "Negative score: 1.000%\n",
      "Positive score: 0.000%\n",
      "Negative\n",
      "['negative']\n",
      "\n",
      "Predict: Positive\n",
      "Actual:  Positive\n",
      "Negative score: 0.000%\n",
      "Positive score: 1.000%\n",
      "For the price point this is our favorite so far. $15.27 in Texas grocery store HEB if you buy 6 or more. Dollar more without pick 6. Nice and bold with taste of grapes and happiness.\n",
      "['price', 'favorite', 'pricetoken', 'buy', 'more', 'dollar', 'more', 'pick', 'nice', 'bold', 'taste', 'happiness']\n",
      "\n",
      "Predict: Positive\n",
      "Actual:  Positive\n",
      "Negative score: 0.063%\n",
      "Positive score: 0.937%\n",
      "Raising my previous 3.6 to 3.7. . . It should be noted that this wine should be decanted. . . Nice French wine. Paired well with steak. At this price point of ~$24 its showing a lot of layers. The ‘16 is settling in. This is a big dry wine with dark fruit, leather and oak. Best with a bold pairing. Would be a good intro to French wine if youre having a bold steak. Impress your date by serving your first Bordeaux. This IMO seems to be a lot of Cab Franc in with the expected Merlot. I dont get any Cab in this blend.\n",
      "['raise', 'previous', 'nice', 'pair', 'well', 'price', 'pricetoken', 'showing', 'settle', 'big', 'dry', 'well', 'bold', 'pairing', 'would', 'good', 'intro', 'bold', 'impress', 'date', 'serve', 'franc', 'expect', 'not']\n",
      "\n",
      "Predict: Positive\n",
      "Actual:  Positive\n",
      "Negative score: 0.000%\n",
      "Positive score: 1.000%\n",
      "Might be the best under $15 cab I''ve had yet. The aftertaste is fruity and stunning.\n",
      "['good', 'pricetoken', \"i''ve\", 'yet', 'aftertaste', 'stunning']\n",
      "\n",
      "Predict: Negative\n",
      "Actual:  Negative\n",
      "Negative score: 0.991%\n",
      "Positive score: 0.009%\n",
      "A little dry to my taste, didn’t seem worth the hype or price. $110 a bottle Disney springs, fine on someone’s expense account, but not out of my pocket\n",
      "['little', 'dry', 'taste', 'not', 'worth', 'hype', 'price', 'pricetoken', 'disney', 'spring', 'fine', 'expense', 'account', 'but', 'not', 'pocket']\n",
      "\n",
      "Predict: Positive\n",
      "Actual:  Positive\n",
      "Negative score: 0.000%\n",
      "Positive score: 1.000%\n",
      "Solid Malbec at a good price . . Oak and plum on the nose and taste. . . 4.5/5 value for $15\n",
      "['solid', 'good', 'price', 'taste', 'value', 'pricetoken']\n",
      "\n",
      "Predict: Positive\n",
      "Actual:  Positive\n",
      "Negative score: 0.106%\n",
      "Positive score: 0.894%\n",
      "It was pretty good for $12 Costco wine. Not sure I would buy again.\n"
     ]
    },
    {
     "name": "stdout",
     "output_type": "stream",
     "text": [
      "['pretty', 'good', 'pricetoken', 'not', 'would', 'buy', 'again']\n",
      "\n",
      "Predict: Positive\n",
      "Actual:  Positive\n",
      "Negative score: 0.229%\n",
      "Positive score: 0.771%\n",
      "This horny lady is pretty pretty pretty good. Also, we picked her up today for $25. She is on the bolder and tannic side as well as dry. Tobacco earth and a little wood with red fruit (not quit cherry but not strawberry either). Pairs quite nicely with this terrible pizza I bought which, like sex, even at its worst is still pretty good\n",
      "['horny', 'lady', 'pretty', 'pretty', 'pretty', 'good', 'pick', 'today', 'pricetoken', 'bolder', 'well', 'dry', 'little', 'not', 'quit', 'but', 'not', 'either', 'pairs', 'nicely', 'terrible', 'buy', 'like', 'sex', 'bad', 'pretty', 'good']\n",
      "\n",
      "Predict: Positive\n",
      "Actual:  Positive\n",
      "Negative score: 0.000%\n",
      "Positive score: 1.000%\n",
      "Pretty nice wine! Very jammy, heavy cherry cola, mild spice, medium dry finish. Smooth tannins. Paid $20 and would do it again.\n",
      "['pretty', 'nice', 'heavy', 'cola', 'dry', 'pay', 'pricetoken', 'would', 'again']\n",
      "\n",
      "Predict: Positive\n",
      "Actual:  Positive\n",
      "Negative score: 0.000%\n",
      "Positive score: 1.000%\n",
      "Fruity nose but dry finish. Good wine for less than $20. Great with a cheese tray or seafood.\n",
      "['but', 'dry', 'good', 'less', 'than', 'pricetoken', 'great', 'tray']\n",
      "\n",
      "Predict: Negative\n",
      "Actual:  Negative\n",
      "Negative score: 0.846%\n",
      "Positive score: 0.154%\n",
      "First impression light body, dry, flat black currant with mild tannin followed by some spice and a whisper of complexity and then by a slow, woody finish of tannin and mild oak. I tasted a 2014 but can’t believe age would give it the body and complexity it lacks. Quite disappointing compared to past Brane-Cantenacs and not remotely related to a classic big Margaux. Way not worth the $44.99 I paid at Trader Joes, but possibly a lesson learned in where to buy high-quality wines.\n",
      "['impression', 'dry', 'flat', 'follow', 'whisper', 'slow', 'taste', 'but', 'not', 'believe', 'would', 'lack', 'disappointing', 'compare', 'past', 'brane', 'cantenacs', 'not', 'remotely', 'relate', 'classic', 'big', 'margaux', 'way', 'not', 'worth', 'pricetoken', 'pay', 'joes', 'but', 'possibly', 'lesson', 'learn', 'buy', 'high', 'quality']\n",
      "\n",
      "Predict: Negative\n",
      "Actual:  Negative\n",
      "Negative score: 0.793%\n",
      "Positive score: 0.207%\n",
      "OK with food, but has a Sheri like bitterness to it. Would not pay $20 for another bottle to make Sangri of. Surprised to be so out of step with the high ratings for this wine.\n",
      "['ok', 'but', 'sheri', 'like', 'bitterness', 'would', 'not', 'pay', 'pricetoken', 'sangri', 'surprised', 'high']\n",
      "\n",
      "Predict: Positive\n",
      "Actual:  Positive\n",
      "Negative score: 0.038%\n",
      "Positive score: 0.962%\n",
      "Very good bang for the buck. A simple Cabernet , perhaps the best under $10\n",
      "['good', 'bang', 'buck', 'simple', 'good', 'pricetoken']\n",
      "\n",
      "Predict: Positive\n",
      "Actual:  Positive\n",
      "Negative score: 0.000%\n",
      "Positive score: 1.000%\n",
      "Pretty good merlot. Medium to fullish bodied, med to high tannin level, fruit foward. I liked it. Very Good value, got for 8$.\n",
      "['pretty', 'good', 'fullish', 'high', 'level', 'foward', 'like', 'good', 'value', 'pricetoken']\n",
      "\n",
      "Predict: Negative\n",
      "Actual:  Negative\n",
      "Negative score: 1.000%\n",
      "Positive score: 0.000%\n",
      "Negative\n",
      "['negative']\n",
      "\n",
      "Predict: Positive\n",
      "Actual:  Positive\n",
      "Negative score: 0.000%\n",
      "Positive score: 1.000%\n",
      "Vanilla notes. Nice. $9.99 at Giant Eagle.\n",
      "['nice', 'pricetoken', 'giant', 'eagle']\n",
      "\n",
      "Predict: Positive\n",
      "Actual:  Positive\n",
      "Negative score: 0.331%\n",
      "Positive score: 0.669%\n",
      "I love this wine!!!! Hands down my go to when wanting to splurge over my $25 limit yummy\n",
      "['love', 'hand', 'down', 'want', 'splurge', 'pricetoken', 'limit', 'yummy']\n",
      "\n",
      "Predict: Negative\n",
      "Actual:  Negative\n",
      "Negative score: 0.729%\n",
      "Positive score: 0.271%\n",
      "Blueberries, mulberry and vanilla oak. Medium length, smooth tannins and well balanced. However it doesn't wow me. It's not fruit driven or bursting with tannins so I don't think cellaring is going to give it much more. At $56 retail it's over priced and I expected more.\n",
      "['mulberry', 'length', 'well', 'not', 'wow', 'not', 'drive', 'burst', 'not', 'cellaring', 'much', 'more', 'pricetoken', 'retail', 'price', 'expect', 'more']\n",
      "\n",
      "Predict: Negative\n",
      "Actual:  Negative\n",
      "Negative score: 1.000%\n",
      "Positive score: 0.000%\n",
      "Pretty bad, way over priced and tastes like $8. Leaves a film in your mouth like flat warm Pepsi. At first it taste like someone poured a few shots of vodka into the bottle but it settles a little after breathing for 10 minutes. Not terrible but theres so many better quality wines for same or less then this one.\n",
      "['pretty', 'bad', 'way', 'price', 'taste', 'like', 'pricetoken', 'leave', 'film', 'like', 'flat', 'warm', 'pepsi', 'taste', 'like', 'pour', 'shot', 'vodka', 'but', 'settle', 'little', 'after', 'not', 'terrible', 'but', 's', 'many', 'well', 'quality', 'less']\n",
      "\n",
      "Predict: Negative\n",
      "Actual:  Negative\n",
      "Negative score: 1.000%\n",
      "Positive score: 0.000%\n",
      "Negative\n",
      "['negative']\n",
      "\n"
     ]
    }
   ],
   "source": [
    "#Have a look at the incorrect classifications:\n",
    "\n",
    "print('Classes:',est.classes_)\n",
    "def summary(row):\n",
    "    text = row['text']\n",
    "    prob = est.predict_proba([text])[0]\n",
    "    print(f\"Predict: {row['predict']}\" )\n",
    "    print(f\"Actual:  {row['actual']}\" )\n",
    "    print(f\"{est.classes_[0]} score: {prob[0]:.3f}%\")\n",
    "    print(f\"{est.classes_[1]} score: {prob[1]:.3f}%\")\n",
    "    print(text)\n",
    "    tokens_without_sw = [word for word in custom_tokenizer(text) if not word in STOP_WORDS]\n",
    "    print(tokens_without_sw)\n",
    "    print()\n",
    "\n",
    "\n",
    "for index, row in df_correct[0:50].iterrows():\n",
    "    summary(row)\n",
    "    "
   ]
  },
  {
   "cell_type": "code",
   "execution_count": 104,
   "id": "a3280d11",
   "metadata": {
    "ExecuteTime": {
     "end_time": "2023-01-25T05:20:23.828019Z",
     "start_time": "2023-01-25T05:20:23.377015Z"
    },
    "scrolled": true
   },
   "outputs": [
    {
     "name": "stdout",
     "output_type": "stream",
     "text": [
      "['Positive'], 4.0\n",
      " Really solid, balanced wine for $13 at TJs! Oregon Pinot expectations. Strawberry fruit roll up?? Gotta dig into junior high memories for that. Nice acidity, soft tannins. Seems richer on the nose than it tastes. Great everyday wine.\n",
      "\n",
      "['Positive'], 4.0\n",
      " Exceptional value. 100% Syrah from northern Rhone but has new oak on it, foregoing the classic pepper, olive, floral, etc, so it ultimately drinks more like a new world Syrah but with lower alcohol and classic old world minerality on the finish. A little bit of cedar and tobacco as well, slightly Bordeaux-like but objectively just wonderful for $37 regardless of category\n",
      "\n",
      "['Positive'], 3.5\n",
      " Lemon and honeydew with daisy, wet stone, and a touch of saltiness. Fabulous weeknight wine with a light salad and chicken. Would def have more, especially for the $10 major bargain.\n",
      "\n",
      "['Positive'], 4.0\n",
      " Great wine for a good value. A little smoke, a little sweet, and a lot of yum! I would definitely recommend if hosting & looking for a bottle that does not disappoint at less than $15/b\n",
      "\n",
      "['Positive'], 5.0\n",
      " 3rd btl 12/16/14 still amazing! 2nd btl 10/14 still great so smooth love it!! 5/13 DECANT 4 hours!! Just started to mellow out @4 1/2 hrs after aerated + then decanted. Tasted this Wine with S at Premier organic wine tasting regular price $89.99 smooth rich you don't want to stop drinking this wine it was decanted 4.5hr or more before we had any of it... suggested to drink a bottle now but you could wait a couple more years to drink the other bottle it would be great with steak had a nice long finish.\n",
      "\n",
      "['Positive'], 3.7\n",
      " Dry plum nose, red cherry, black cherry, cranberry. Firm tannins with medium(+) acidity, good structure. Getting some very slight nutmeg and oak towards the end. A good mature Malbec for $21.99!\n",
      "\n",
      "['Positive'], 4.0\n",
      " Still a touch pricy at 24$ but very nice. Fresh cut grass, dry herbal, benzene and rubber, citrus, specifically lime and grapefruit. Young and delicious. 4.1/5\n",
      "\n",
      "['Negative'], 3.5\n",
      " Great taste but a negative lingering taste. Not worth 21. Maybe a good $15 bottle with friends\n",
      "\n",
      "['Positive'], 4.0\n",
      " Earthy floor with hints of smoke and tobacco, areated the wine and decanted for 30 mins...very good value for the $25 CAD pricetag\n",
      "\n",
      "['Negative'], 3.0\n",
      " Very dry and acidic. Heavy tannins, with ruby red colour. Notes of oak with dark Cherry and light on the palate with a medium body which is unfortunate, as I prefer more of a syrupy texture to my reds. At $20, it's a little more expensive for what you get in terms of complexity.\n",
      "\n",
      "['Positive'], 4.5\n",
      " Medium body, dry and very tasty for sipping. Pairing w veal at Ilcielo on Sanibel for $44. Wine really opens up w pasta and meat. Excellent value for taste. One of the best Chianti’s I have experienced\n",
      "\n",
      "['Positive'], 5.0\n",
      " Fruity. Moist. Pretty damn good. Not sure why it’s $500 but I enjoyed it.\n",
      "\n",
      "['Negative'], 2.5\n",
      " It's no KV, but for a budget ($12 on sale) weeknight wine it's certainly drinkable\n",
      "\n",
      "['Positive'], 4.0\n",
      " Great Pso Robles Cab with plum, cherry and some blackberries, oak, slight vanilla. Smooth easy to drink, medium full body, slight acidity. Some lingering finish. Great value cab at $12!\n",
      "\n",
      "['Positive'], 4.5\n",
      " Excellent on Silversea cruise. Paid $ 50 with credit\n",
      "\n",
      "['Negative'], 4.0\n",
      " $23 at Trader Joes - Mother's Day splurge . Was expecting a bit more.\n",
      "\n",
      "['Negative'], 3.0\n",
      " This wine needs time to breathe. Was pretty rough out of the bottle but with a decant it’s not half bad. Red fruit medium to high acidity medium tannins. For $9 it’s not bad but prob would not go for this one again\n",
      "\n",
      "['Positive'], 4.0\n",
      " Wonderful every day Cab. Full slightly earthy taste. Nice hint of cherries. Haven't found anything close in the under $10 CA Cab category.\n",
      "\n",
      "['Positive'], 4.0\n",
      " Well, Joe retired from the LCBO at Royal York & Bloor, but he recommended this great value wine in the week before he departed, and he was on the money. Aroma of chocolate, black cherry, spice, and sour gummy candies, and flavour of licorice, and lots more cherry and spice. It has medium body, is quite dry, tangy, and has some heat, but it blossoms with decanting to be harmonious. It has mid-term aging potential. It’s under $20, and worth buying a couple bottles.\n",
      "\n",
      "['Positive'], 4.0\n",
      " Enoteca. $420\n",
      "\n",
      "['Negative'], 4.0\n",
      " Good Mendoza Malbec, but not quite as complex or flavorful as I had hoped for; then again, it's not a $50+ bottle, and good for the price - decant for at least 40 mins.\n",
      "\n",
      "['Positive'], 4.0\n",
      " $7 - I can’t complain!\n",
      "\n",
      "['Positive'], 5.0\n",
      " Absolutely fabulous! The smoothness combined with the \"fruitiness\" makes it taste like a $40 bottle of wine! Make this the star of your meal!\n",
      "\n",
      "['Negative'], 2.9\n",
      " Cheap and might as well get Josh wine if you are getting this. NOT worth $25\n",
      "\n",
      "['Positive'], 3.0\n",
      " Good everyday wine $13 🍷\n",
      "\n",
      "['Positive'], 4.0\n",
      " Great value! Has body and defined taste yet easy to drink. . Bought in Publix @$11.99 🙄\n",
      "\n",
      "['Positive'], 4.0\n",
      " Consistent Pinot winner for around $20. Light but layered. Hint of sweet. Nothing overpowering.\n",
      "\n",
      "['Negative'], 4.0\n",
      " Purple/brown out of the bottle. Well aged. Took 3+hr to open up after cork was removed. Not good until then, but once properly decanted, it is very very tasty balance of earth & fruit for <$20\n",
      "\n",
      "['Negative'], 4.0\n",
      " Bought at Noe Valley, San Francisco. This is the biodynamic wine from burgundy, which is why I bought it. Cost about $30. It is a dense wine. It needs to be decanted for a while. I had half a bottle, closed the cork and left it for two days and then tried the other half. It worked well after two days. Aromas of stone fruit, Cassis. Medium bodied. Tannic. Not too great in terms of structure. Short finish. On the palate, it tastes dense and sour.\n",
      "\n",
      "['Positive'], 4.5\n",
      " Full bodied with great spice ...drinks like a $40-50 bottle easily\n",
      "\n",
      "['Positive'], 4.0\n",
      " Nice balanced wine. Safeway liquor $28\n",
      "\n",
      "['Positive'], 3.5\n",
      " Nice cab on softer side. Need to let it breathe. Bought at Trader Joe’s $16.99. Great value.\n",
      "\n",
      "['Positive'], 4.0\n",
      " The best $10 you can spend on wine. Slightly more mellow than past years, heavy dark fruits and soft finish. Excellent everyday dark red blend.\n",
      "\n",
      "['Positive'], 4.0\n",
      " Great from Tamuras $17.49\n",
      "\n",
      "['Positive'], 3.5\n",
      " Fruity, smooth, but not as bold as someone who prefers a heavy cab to be. $18 and under is good price point.\n",
      "\n",
      "['Positive'], 4.0\n",
      " 88 points 3.7⭐️s. At sub $20 it's hard to beat this wine. The epitome of #drinkingwithoutthinking while enjoying a sunset, tunes, cats and great company\n",
      "\n",
      "['Negative'], 3.5\n",
      " Clear, medium and ruby. . . Clean on the nose with a medium intensity and aromas of red fruit jam, strawberry and other ripe red fruit. . . Dry, high acidity and low tannins. Jammy on the palate with strawberry notes. Medium finish with complex flavours. . . A very good wine, but not worth the $70 CAD price tag.\n",
      "\n",
      "['Positive'], 4.0\n",
      " Nice bouquet. Very drinkable sub $50 nm\n",
      "\n",
      "['Positive'], 4.5\n",
      " Tasted the same as a $100 wine who knows anymore\n",
      "\n",
      "['Positive'], 3.0\n",
      " This bottle will run you $55 in Bali Indonesia 😂\n",
      "\n",
      "['Positive'], 3.5\n",
      " Wanted something a smidge dry. It was good. ~$11\n",
      "\n",
      "['Positive'], 4.0\n",
      " Very good and even better is the price! Under $20 is a steal! Fruit forward. Pineapple, citrus and stone fruits. Not to dry, very light. Perfect summer wine for just sipping and will pair well with seafood and spicy foods. Cheers!\n",
      "\n",
      "['Positive'], 4.0\n",
      " Great table wine for under $15\n",
      "\n",
      "['Negative'], 3.5\n",
      " Paired with grilled quail the wine didn’t over power the poultry. . . Not much of a nose on this wine oak or maybe cedar. . . Tastes of oak, vanilla, chocolate, cherry, strawberry and raspberry. . . This is a bold wine with medium tannins and acid. . . I purchased this wine at Sam’s club for $10.48.\n",
      "\n",
      "['Positive'], 3.4\n",
      " For a non-vintage brut, it was good. Nice apple flavor and crisp finish. Refreshing and easy to drink, I like this more than some other NVs, but still a simple Champagne. For $30, it would be an easy choice.\n",
      "\n",
      "['Positive'], 4.5\n",
      " A very nice Prosecco! Tried this at Alamo Drafthouse and was pleasantly surprised since most of their wines are terrible. Was very fruity with lemon and other citrus notes. Slightly sweet, nice amount of effervescence. Would definitely try again. $10 for 375 ml bottle.\n",
      "\n",
      "['Positive'], 4.0\n",
      " Fabulous value off the Vivino's Best Wines under $20 list again. More complex than you would expect at this price. Smooth with a \"finishing kick\" Kim says. Another wine you will really like.\n",
      "\n",
      "['Positive'], 4.0\n",
      " Great value for only $13.\n",
      "\n",
      "['Positive'], 4.0\n",
      " I got this at $30 and could be better than this\n",
      "\n"
     ]
    },
    {
     "name": "stdout",
     "output_type": "stream",
     "text": [
      "['Positive'], 4.5\n",
      " Pretty amazing for a $13 bottle of wine!\n",
      "\n"
     ]
    }
   ],
   "source": [
    "ratings = df_money['ratings']\n",
    "for i,r in df_money['reviews'].sample(50).items():\n",
    "    print(f\"{est.predict([r])}, {ratings[i]}\\n\",r)\n",
    "    print()"
   ]
  },
  {
   "cell_type": "markdown",
   "id": "2dfaf293",
   "metadata": {
    "heading_collapsed": true
   },
   "source": [
    "#### sgd classifier - GRID SEARCH"
   ]
  },
  {
   "cell_type": "code",
   "execution_count": 94,
   "id": "3be3325b",
   "metadata": {
    "ExecuteTime": {
     "end_time": "2023-02-23T07:29:50.667411Z",
     "start_time": "2023-02-23T07:29:45.711363Z"
    },
    "hidden": true,
    "scrolled": true
   },
   "outputs": [
    {
     "name": "stdout",
     "output_type": "stream",
     "text": [
      "better =  ['better'] <--- if equal, lemma replace is successful\n",
      "Training on 1009 data.\n"
     ]
    },
    {
     "name": "stderr",
     "output_type": "stream",
     "text": [
      "C:\\Users\\steph\\anaconda3\\lib\\site-packages\\sklearn\\feature_extraction\\text.py:396: UserWarning: Your stop_words may be inconsistent with your preprocessing. Tokenizing the stop words generated tokens ['roast', 's', 'z'] not in stop_words.\n",
      "  warnings.warn(\n"
     ]
    },
    {
     "ename": "KeyboardInterrupt",
     "evalue": "",
     "output_type": "error",
     "traceback": [
      "\u001b[1;31m---------------------------------------------------------------------------\u001b[0m",
      "\u001b[1;31mKeyboardInterrupt\u001b[0m                         Traceback (most recent call last)",
      "\u001b[1;32m~\\AppData\\Local\\Temp\\ipykernel_37212\\4154477624.py\u001b[0m in \u001b[0;36m<module>\u001b[1;34m\u001b[0m\n\u001b[0;32m     62\u001b[0m \u001b[0mprint\u001b[0m\u001b[1;33m(\u001b[0m\u001b[1;34mf'Training on {len(X_train)} data.'\u001b[0m\u001b[1;33m)\u001b[0m\u001b[1;33m\u001b[0m\u001b[1;33m\u001b[0m\u001b[0m\n\u001b[0;32m     63\u001b[0m \u001b[0mgrid\u001b[0m \u001b[1;33m=\u001b[0m \u001b[0mGridSearchCV\u001b[0m\u001b[1;33m(\u001b[0m\u001b[0msgd_pipe\u001b[0m\u001b[1;33m,\u001b[0m \u001b[0mparameters\u001b[0m\u001b[1;33m,\u001b[0m \u001b[0mcv\u001b[0m\u001b[1;33m=\u001b[0m\u001b[1;36m4\u001b[0m\u001b[1;33m)\u001b[0m\u001b[1;33m\u001b[0m\u001b[1;33m\u001b[0m\u001b[0m\n\u001b[1;32m---> 64\u001b[1;33m \u001b[0mgrid\u001b[0m\u001b[1;33m.\u001b[0m\u001b[0mfit\u001b[0m\u001b[1;33m(\u001b[0m\u001b[0mX_train\u001b[0m\u001b[1;33m,\u001b[0m\u001b[0my_train\u001b[0m\u001b[1;33m)\u001b[0m \u001b[1;31m# This may take 2 or 3 minutes to run\u001b[0m\u001b[1;33m\u001b[0m\u001b[1;33m\u001b[0m\u001b[0m\n\u001b[0m\u001b[0;32m     65\u001b[0m \u001b[0mest_star\u001b[0m \u001b[1;33m=\u001b[0m \u001b[0mgrid\u001b[0m\u001b[1;33m.\u001b[0m\u001b[0mbest_estimator_\u001b[0m  \u001b[1;31m#  Let's have a closer look at the best parameters...\u001b[0m\u001b[1;33m\u001b[0m\u001b[1;33m\u001b[0m\u001b[0m\n\u001b[0;32m     66\u001b[0m \u001b[0my_pred\u001b[0m \u001b[1;33m=\u001b[0m \u001b[0mest_star\u001b[0m\u001b[1;33m.\u001b[0m\u001b[0mpredict\u001b[0m\u001b[1;33m(\u001b[0m\u001b[0mX_test\u001b[0m\u001b[1;33m)\u001b[0m\u001b[1;33m\u001b[0m\u001b[1;33m\u001b[0m\u001b[0m\n",
      "\u001b[1;32m~\\anaconda3\\lib\\site-packages\\sklearn\\model_selection\\_search.py\u001b[0m in \u001b[0;36mfit\u001b[1;34m(self, X, y, groups, **fit_params)\u001b[0m\n\u001b[0;32m    889\u001b[0m                 \u001b[1;32mreturn\u001b[0m \u001b[0mresults\u001b[0m\u001b[1;33m\u001b[0m\u001b[1;33m\u001b[0m\u001b[0m\n\u001b[0;32m    890\u001b[0m \u001b[1;33m\u001b[0m\u001b[0m\n\u001b[1;32m--> 891\u001b[1;33m             \u001b[0mself\u001b[0m\u001b[1;33m.\u001b[0m\u001b[0m_run_search\u001b[0m\u001b[1;33m(\u001b[0m\u001b[0mevaluate_candidates\u001b[0m\u001b[1;33m)\u001b[0m\u001b[1;33m\u001b[0m\u001b[1;33m\u001b[0m\u001b[0m\n\u001b[0m\u001b[0;32m    892\u001b[0m \u001b[1;33m\u001b[0m\u001b[0m\n\u001b[0;32m    893\u001b[0m             \u001b[1;31m# multimetric is determined here because in the case of a callable\u001b[0m\u001b[1;33m\u001b[0m\u001b[1;33m\u001b[0m\u001b[0m\n",
      "\u001b[1;32m~\\anaconda3\\lib\\site-packages\\sklearn\\model_selection\\_search.py\u001b[0m in \u001b[0;36m_run_search\u001b[1;34m(self, evaluate_candidates)\u001b[0m\n\u001b[0;32m   1390\u001b[0m     \u001b[1;32mdef\u001b[0m \u001b[0m_run_search\u001b[0m\u001b[1;33m(\u001b[0m\u001b[0mself\u001b[0m\u001b[1;33m,\u001b[0m \u001b[0mevaluate_candidates\u001b[0m\u001b[1;33m)\u001b[0m\u001b[1;33m:\u001b[0m\u001b[1;33m\u001b[0m\u001b[1;33m\u001b[0m\u001b[0m\n\u001b[0;32m   1391\u001b[0m         \u001b[1;34m\"\"\"Search all candidates in param_grid\"\"\"\u001b[0m\u001b[1;33m\u001b[0m\u001b[1;33m\u001b[0m\u001b[0m\n\u001b[1;32m-> 1392\u001b[1;33m         \u001b[0mevaluate_candidates\u001b[0m\u001b[1;33m(\u001b[0m\u001b[0mParameterGrid\u001b[0m\u001b[1;33m(\u001b[0m\u001b[0mself\u001b[0m\u001b[1;33m.\u001b[0m\u001b[0mparam_grid\u001b[0m\u001b[1;33m)\u001b[0m\u001b[1;33m)\u001b[0m\u001b[1;33m\u001b[0m\u001b[1;33m\u001b[0m\u001b[0m\n\u001b[0m\u001b[0;32m   1393\u001b[0m \u001b[1;33m\u001b[0m\u001b[0m\n\u001b[0;32m   1394\u001b[0m \u001b[1;33m\u001b[0m\u001b[0m\n",
      "\u001b[1;32m~\\anaconda3\\lib\\site-packages\\sklearn\\model_selection\\_search.py\u001b[0m in \u001b[0;36mevaluate_candidates\u001b[1;34m(candidate_params, cv, more_results)\u001b[0m\n\u001b[0;32m    836\u001b[0m                     )\n\u001b[0;32m    837\u001b[0m \u001b[1;33m\u001b[0m\u001b[0m\n\u001b[1;32m--> 838\u001b[1;33m                 out = parallel(\n\u001b[0m\u001b[0;32m    839\u001b[0m                     delayed(_fit_and_score)(\n\u001b[0;32m    840\u001b[0m                         \u001b[0mclone\u001b[0m\u001b[1;33m(\u001b[0m\u001b[0mbase_estimator\u001b[0m\u001b[1;33m)\u001b[0m\u001b[1;33m,\u001b[0m\u001b[1;33m\u001b[0m\u001b[1;33m\u001b[0m\u001b[0m\n",
      "\u001b[1;32m~\\anaconda3\\lib\\site-packages\\joblib\\parallel.py\u001b[0m in \u001b[0;36m__call__\u001b[1;34m(self, iterable)\u001b[0m\n\u001b[0;32m   1046\u001b[0m             \u001b[1;31m# remaining jobs.\u001b[0m\u001b[1;33m\u001b[0m\u001b[1;33m\u001b[0m\u001b[0m\n\u001b[0;32m   1047\u001b[0m             \u001b[0mself\u001b[0m\u001b[1;33m.\u001b[0m\u001b[0m_iterating\u001b[0m \u001b[1;33m=\u001b[0m \u001b[1;32mFalse\u001b[0m\u001b[1;33m\u001b[0m\u001b[1;33m\u001b[0m\u001b[0m\n\u001b[1;32m-> 1048\u001b[1;33m             \u001b[1;32mif\u001b[0m \u001b[0mself\u001b[0m\u001b[1;33m.\u001b[0m\u001b[0mdispatch_one_batch\u001b[0m\u001b[1;33m(\u001b[0m\u001b[0miterator\u001b[0m\u001b[1;33m)\u001b[0m\u001b[1;33m:\u001b[0m\u001b[1;33m\u001b[0m\u001b[1;33m\u001b[0m\u001b[0m\n\u001b[0m\u001b[0;32m   1049\u001b[0m                 \u001b[0mself\u001b[0m\u001b[1;33m.\u001b[0m\u001b[0m_iterating\u001b[0m \u001b[1;33m=\u001b[0m \u001b[0mself\u001b[0m\u001b[1;33m.\u001b[0m\u001b[0m_original_iterator\u001b[0m \u001b[1;32mis\u001b[0m \u001b[1;32mnot\u001b[0m \u001b[1;32mNone\u001b[0m\u001b[1;33m\u001b[0m\u001b[1;33m\u001b[0m\u001b[0m\n\u001b[0;32m   1050\u001b[0m \u001b[1;33m\u001b[0m\u001b[0m\n",
      "\u001b[1;32m~\\anaconda3\\lib\\site-packages\\joblib\\parallel.py\u001b[0m in \u001b[0;36mdispatch_one_batch\u001b[1;34m(self, iterator)\u001b[0m\n\u001b[0;32m    862\u001b[0m                 \u001b[1;32mreturn\u001b[0m \u001b[1;32mFalse\u001b[0m\u001b[1;33m\u001b[0m\u001b[1;33m\u001b[0m\u001b[0m\n\u001b[0;32m    863\u001b[0m             \u001b[1;32melse\u001b[0m\u001b[1;33m:\u001b[0m\u001b[1;33m\u001b[0m\u001b[1;33m\u001b[0m\u001b[0m\n\u001b[1;32m--> 864\u001b[1;33m                 \u001b[0mself\u001b[0m\u001b[1;33m.\u001b[0m\u001b[0m_dispatch\u001b[0m\u001b[1;33m(\u001b[0m\u001b[0mtasks\u001b[0m\u001b[1;33m)\u001b[0m\u001b[1;33m\u001b[0m\u001b[1;33m\u001b[0m\u001b[0m\n\u001b[0m\u001b[0;32m    865\u001b[0m                 \u001b[1;32mreturn\u001b[0m \u001b[1;32mTrue\u001b[0m\u001b[1;33m\u001b[0m\u001b[1;33m\u001b[0m\u001b[0m\n\u001b[0;32m    866\u001b[0m \u001b[1;33m\u001b[0m\u001b[0m\n",
      "\u001b[1;32m~\\anaconda3\\lib\\site-packages\\joblib\\parallel.py\u001b[0m in \u001b[0;36m_dispatch\u001b[1;34m(self, batch)\u001b[0m\n\u001b[0;32m    780\u001b[0m         \u001b[1;32mwith\u001b[0m \u001b[0mself\u001b[0m\u001b[1;33m.\u001b[0m\u001b[0m_lock\u001b[0m\u001b[1;33m:\u001b[0m\u001b[1;33m\u001b[0m\u001b[1;33m\u001b[0m\u001b[0m\n\u001b[0;32m    781\u001b[0m             \u001b[0mjob_idx\u001b[0m \u001b[1;33m=\u001b[0m \u001b[0mlen\u001b[0m\u001b[1;33m(\u001b[0m\u001b[0mself\u001b[0m\u001b[1;33m.\u001b[0m\u001b[0m_jobs\u001b[0m\u001b[1;33m)\u001b[0m\u001b[1;33m\u001b[0m\u001b[1;33m\u001b[0m\u001b[0m\n\u001b[1;32m--> 782\u001b[1;33m             \u001b[0mjob\u001b[0m \u001b[1;33m=\u001b[0m \u001b[0mself\u001b[0m\u001b[1;33m.\u001b[0m\u001b[0m_backend\u001b[0m\u001b[1;33m.\u001b[0m\u001b[0mapply_async\u001b[0m\u001b[1;33m(\u001b[0m\u001b[0mbatch\u001b[0m\u001b[1;33m,\u001b[0m \u001b[0mcallback\u001b[0m\u001b[1;33m=\u001b[0m\u001b[0mcb\u001b[0m\u001b[1;33m)\u001b[0m\u001b[1;33m\u001b[0m\u001b[1;33m\u001b[0m\u001b[0m\n\u001b[0m\u001b[0;32m    783\u001b[0m             \u001b[1;31m# A job can complete so quickly than its callback is\u001b[0m\u001b[1;33m\u001b[0m\u001b[1;33m\u001b[0m\u001b[0m\n\u001b[0;32m    784\u001b[0m             \u001b[1;31m# called before we get here, causing self._jobs to\u001b[0m\u001b[1;33m\u001b[0m\u001b[1;33m\u001b[0m\u001b[0m\n",
      "\u001b[1;32m~\\anaconda3\\lib\\site-packages\\joblib\\_parallel_backends.py\u001b[0m in \u001b[0;36mapply_async\u001b[1;34m(self, func, callback)\u001b[0m\n\u001b[0;32m    206\u001b[0m     \u001b[1;32mdef\u001b[0m \u001b[0mapply_async\u001b[0m\u001b[1;33m(\u001b[0m\u001b[0mself\u001b[0m\u001b[1;33m,\u001b[0m \u001b[0mfunc\u001b[0m\u001b[1;33m,\u001b[0m \u001b[0mcallback\u001b[0m\u001b[1;33m=\u001b[0m\u001b[1;32mNone\u001b[0m\u001b[1;33m)\u001b[0m\u001b[1;33m:\u001b[0m\u001b[1;33m\u001b[0m\u001b[1;33m\u001b[0m\u001b[0m\n\u001b[0;32m    207\u001b[0m         \u001b[1;34m\"\"\"Schedule a func to be run\"\"\"\u001b[0m\u001b[1;33m\u001b[0m\u001b[1;33m\u001b[0m\u001b[0m\n\u001b[1;32m--> 208\u001b[1;33m         \u001b[0mresult\u001b[0m \u001b[1;33m=\u001b[0m \u001b[0mImmediateResult\u001b[0m\u001b[1;33m(\u001b[0m\u001b[0mfunc\u001b[0m\u001b[1;33m)\u001b[0m\u001b[1;33m\u001b[0m\u001b[1;33m\u001b[0m\u001b[0m\n\u001b[0m\u001b[0;32m    209\u001b[0m         \u001b[1;32mif\u001b[0m \u001b[0mcallback\u001b[0m\u001b[1;33m:\u001b[0m\u001b[1;33m\u001b[0m\u001b[1;33m\u001b[0m\u001b[0m\n\u001b[0;32m    210\u001b[0m             \u001b[0mcallback\u001b[0m\u001b[1;33m(\u001b[0m\u001b[0mresult\u001b[0m\u001b[1;33m)\u001b[0m\u001b[1;33m\u001b[0m\u001b[1;33m\u001b[0m\u001b[0m\n",
      "\u001b[1;32m~\\anaconda3\\lib\\site-packages\\joblib\\_parallel_backends.py\u001b[0m in \u001b[0;36m__init__\u001b[1;34m(self, batch)\u001b[0m\n\u001b[0;32m    570\u001b[0m         \u001b[1;31m# Don't delay the application, to avoid keeping the input\u001b[0m\u001b[1;33m\u001b[0m\u001b[1;33m\u001b[0m\u001b[0m\n\u001b[0;32m    571\u001b[0m         \u001b[1;31m# arguments in memory\u001b[0m\u001b[1;33m\u001b[0m\u001b[1;33m\u001b[0m\u001b[0m\n\u001b[1;32m--> 572\u001b[1;33m         \u001b[0mself\u001b[0m\u001b[1;33m.\u001b[0m\u001b[0mresults\u001b[0m \u001b[1;33m=\u001b[0m \u001b[0mbatch\u001b[0m\u001b[1;33m(\u001b[0m\u001b[1;33m)\u001b[0m\u001b[1;33m\u001b[0m\u001b[1;33m\u001b[0m\u001b[0m\n\u001b[0m\u001b[0;32m    573\u001b[0m \u001b[1;33m\u001b[0m\u001b[0m\n\u001b[0;32m    574\u001b[0m     \u001b[1;32mdef\u001b[0m \u001b[0mget\u001b[0m\u001b[1;33m(\u001b[0m\u001b[0mself\u001b[0m\u001b[1;33m)\u001b[0m\u001b[1;33m:\u001b[0m\u001b[1;33m\u001b[0m\u001b[1;33m\u001b[0m\u001b[0m\n",
      "\u001b[1;32m~\\anaconda3\\lib\\site-packages\\joblib\\parallel.py\u001b[0m in \u001b[0;36m__call__\u001b[1;34m(self)\u001b[0m\n\u001b[0;32m    261\u001b[0m         \u001b[1;31m# change the default number of processes to -1\u001b[0m\u001b[1;33m\u001b[0m\u001b[1;33m\u001b[0m\u001b[0m\n\u001b[0;32m    262\u001b[0m         \u001b[1;32mwith\u001b[0m \u001b[0mparallel_backend\u001b[0m\u001b[1;33m(\u001b[0m\u001b[0mself\u001b[0m\u001b[1;33m.\u001b[0m\u001b[0m_backend\u001b[0m\u001b[1;33m,\u001b[0m \u001b[0mn_jobs\u001b[0m\u001b[1;33m=\u001b[0m\u001b[0mself\u001b[0m\u001b[1;33m.\u001b[0m\u001b[0m_n_jobs\u001b[0m\u001b[1;33m)\u001b[0m\u001b[1;33m:\u001b[0m\u001b[1;33m\u001b[0m\u001b[1;33m\u001b[0m\u001b[0m\n\u001b[1;32m--> 263\u001b[1;33m             return [func(*args, **kwargs)\n\u001b[0m\u001b[0;32m    264\u001b[0m                     for func, args, kwargs in self.items]\n\u001b[0;32m    265\u001b[0m \u001b[1;33m\u001b[0m\u001b[0m\n",
      "\u001b[1;32m~\\anaconda3\\lib\\site-packages\\joblib\\parallel.py\u001b[0m in \u001b[0;36m<listcomp>\u001b[1;34m(.0)\u001b[0m\n\u001b[0;32m    261\u001b[0m         \u001b[1;31m# change the default number of processes to -1\u001b[0m\u001b[1;33m\u001b[0m\u001b[1;33m\u001b[0m\u001b[0m\n\u001b[0;32m    262\u001b[0m         \u001b[1;32mwith\u001b[0m \u001b[0mparallel_backend\u001b[0m\u001b[1;33m(\u001b[0m\u001b[0mself\u001b[0m\u001b[1;33m.\u001b[0m\u001b[0m_backend\u001b[0m\u001b[1;33m,\u001b[0m \u001b[0mn_jobs\u001b[0m\u001b[1;33m=\u001b[0m\u001b[0mself\u001b[0m\u001b[1;33m.\u001b[0m\u001b[0m_n_jobs\u001b[0m\u001b[1;33m)\u001b[0m\u001b[1;33m:\u001b[0m\u001b[1;33m\u001b[0m\u001b[1;33m\u001b[0m\u001b[0m\n\u001b[1;32m--> 263\u001b[1;33m             return [func(*args, **kwargs)\n\u001b[0m\u001b[0;32m    264\u001b[0m                     for func, args, kwargs in self.items]\n\u001b[0;32m    265\u001b[0m \u001b[1;33m\u001b[0m\u001b[0m\n",
      "\u001b[1;32m~\\anaconda3\\lib\\site-packages\\sklearn\\utils\\fixes.py\u001b[0m in \u001b[0;36m__call__\u001b[1;34m(self, *args, **kwargs)\u001b[0m\n\u001b[0;32m    214\u001b[0m     \u001b[1;32mdef\u001b[0m \u001b[0m__call__\u001b[0m\u001b[1;33m(\u001b[0m\u001b[0mself\u001b[0m\u001b[1;33m,\u001b[0m \u001b[1;33m*\u001b[0m\u001b[0margs\u001b[0m\u001b[1;33m,\u001b[0m \u001b[1;33m**\u001b[0m\u001b[0mkwargs\u001b[0m\u001b[1;33m)\u001b[0m\u001b[1;33m:\u001b[0m\u001b[1;33m\u001b[0m\u001b[1;33m\u001b[0m\u001b[0m\n\u001b[0;32m    215\u001b[0m         \u001b[1;32mwith\u001b[0m \u001b[0mconfig_context\u001b[0m\u001b[1;33m(\u001b[0m\u001b[1;33m**\u001b[0m\u001b[0mself\u001b[0m\u001b[1;33m.\u001b[0m\u001b[0mconfig\u001b[0m\u001b[1;33m)\u001b[0m\u001b[1;33m:\u001b[0m\u001b[1;33m\u001b[0m\u001b[1;33m\u001b[0m\u001b[0m\n\u001b[1;32m--> 216\u001b[1;33m             \u001b[1;32mreturn\u001b[0m \u001b[0mself\u001b[0m\u001b[1;33m.\u001b[0m\u001b[0mfunction\u001b[0m\u001b[1;33m(\u001b[0m\u001b[1;33m*\u001b[0m\u001b[0margs\u001b[0m\u001b[1;33m,\u001b[0m \u001b[1;33m**\u001b[0m\u001b[0mkwargs\u001b[0m\u001b[1;33m)\u001b[0m\u001b[1;33m\u001b[0m\u001b[1;33m\u001b[0m\u001b[0m\n\u001b[0m\u001b[0;32m    217\u001b[0m \u001b[1;33m\u001b[0m\u001b[0m\n\u001b[0;32m    218\u001b[0m \u001b[1;33m\u001b[0m\u001b[0m\n",
      "\u001b[1;32m~\\anaconda3\\lib\\site-packages\\sklearn\\model_selection\\_validation.py\u001b[0m in \u001b[0;36m_fit_and_score\u001b[1;34m(estimator, X, y, scorer, train, test, verbose, parameters, fit_params, return_train_score, return_parameters, return_n_test_samples, return_times, return_estimator, split_progress, candidate_progress, error_score)\u001b[0m\n\u001b[0;32m    678\u001b[0m             \u001b[0mestimator\u001b[0m\u001b[1;33m.\u001b[0m\u001b[0mfit\u001b[0m\u001b[1;33m(\u001b[0m\u001b[0mX_train\u001b[0m\u001b[1;33m,\u001b[0m \u001b[1;33m**\u001b[0m\u001b[0mfit_params\u001b[0m\u001b[1;33m)\u001b[0m\u001b[1;33m\u001b[0m\u001b[1;33m\u001b[0m\u001b[0m\n\u001b[0;32m    679\u001b[0m         \u001b[1;32melse\u001b[0m\u001b[1;33m:\u001b[0m\u001b[1;33m\u001b[0m\u001b[1;33m\u001b[0m\u001b[0m\n\u001b[1;32m--> 680\u001b[1;33m             \u001b[0mestimator\u001b[0m\u001b[1;33m.\u001b[0m\u001b[0mfit\u001b[0m\u001b[1;33m(\u001b[0m\u001b[0mX_train\u001b[0m\u001b[1;33m,\u001b[0m \u001b[0my_train\u001b[0m\u001b[1;33m,\u001b[0m \u001b[1;33m**\u001b[0m\u001b[0mfit_params\u001b[0m\u001b[1;33m)\u001b[0m\u001b[1;33m\u001b[0m\u001b[1;33m\u001b[0m\u001b[0m\n\u001b[0m\u001b[0;32m    681\u001b[0m \u001b[1;33m\u001b[0m\u001b[0m\n\u001b[0;32m    682\u001b[0m     \u001b[1;32mexcept\u001b[0m \u001b[0mException\u001b[0m\u001b[1;33m:\u001b[0m\u001b[1;33m\u001b[0m\u001b[1;33m\u001b[0m\u001b[0m\n",
      "\u001b[1;32m~\\anaconda3\\lib\\site-packages\\sklearn\\pipeline.py\u001b[0m in \u001b[0;36mfit\u001b[1;34m(self, X, y, **fit_params)\u001b[0m\n\u001b[0;32m    388\u001b[0m         \"\"\"\n\u001b[0;32m    389\u001b[0m         \u001b[0mfit_params_steps\u001b[0m \u001b[1;33m=\u001b[0m \u001b[0mself\u001b[0m\u001b[1;33m.\u001b[0m\u001b[0m_check_fit_params\u001b[0m\u001b[1;33m(\u001b[0m\u001b[1;33m**\u001b[0m\u001b[0mfit_params\u001b[0m\u001b[1;33m)\u001b[0m\u001b[1;33m\u001b[0m\u001b[1;33m\u001b[0m\u001b[0m\n\u001b[1;32m--> 390\u001b[1;33m         \u001b[0mXt\u001b[0m \u001b[1;33m=\u001b[0m \u001b[0mself\u001b[0m\u001b[1;33m.\u001b[0m\u001b[0m_fit\u001b[0m\u001b[1;33m(\u001b[0m\u001b[0mX\u001b[0m\u001b[1;33m,\u001b[0m \u001b[0my\u001b[0m\u001b[1;33m,\u001b[0m \u001b[1;33m**\u001b[0m\u001b[0mfit_params_steps\u001b[0m\u001b[1;33m)\u001b[0m\u001b[1;33m\u001b[0m\u001b[1;33m\u001b[0m\u001b[0m\n\u001b[0m\u001b[0;32m    391\u001b[0m         \u001b[1;32mwith\u001b[0m \u001b[0m_print_elapsed_time\u001b[0m\u001b[1;33m(\u001b[0m\u001b[1;34m\"Pipeline\"\u001b[0m\u001b[1;33m,\u001b[0m \u001b[0mself\u001b[0m\u001b[1;33m.\u001b[0m\u001b[0m_log_message\u001b[0m\u001b[1;33m(\u001b[0m\u001b[0mlen\u001b[0m\u001b[1;33m(\u001b[0m\u001b[0mself\u001b[0m\u001b[1;33m.\u001b[0m\u001b[0msteps\u001b[0m\u001b[1;33m)\u001b[0m \u001b[1;33m-\u001b[0m \u001b[1;36m1\u001b[0m\u001b[1;33m)\u001b[0m\u001b[1;33m)\u001b[0m\u001b[1;33m:\u001b[0m\u001b[1;33m\u001b[0m\u001b[1;33m\u001b[0m\u001b[0m\n\u001b[0;32m    392\u001b[0m             \u001b[1;32mif\u001b[0m \u001b[0mself\u001b[0m\u001b[1;33m.\u001b[0m\u001b[0m_final_estimator\u001b[0m \u001b[1;33m!=\u001b[0m \u001b[1;34m\"passthrough\"\u001b[0m\u001b[1;33m:\u001b[0m\u001b[1;33m\u001b[0m\u001b[1;33m\u001b[0m\u001b[0m\n",
      "\u001b[1;32m~\\anaconda3\\lib\\site-packages\\sklearn\\pipeline.py\u001b[0m in \u001b[0;36m_fit\u001b[1;34m(self, X, y, **fit_params_steps)\u001b[0m\n\u001b[0;32m    346\u001b[0m                 \u001b[0mcloned_transformer\u001b[0m \u001b[1;33m=\u001b[0m \u001b[0mclone\u001b[0m\u001b[1;33m(\u001b[0m\u001b[0mtransformer\u001b[0m\u001b[1;33m)\u001b[0m\u001b[1;33m\u001b[0m\u001b[1;33m\u001b[0m\u001b[0m\n\u001b[0;32m    347\u001b[0m             \u001b[1;31m# Fit or load from cache the current transformer\u001b[0m\u001b[1;33m\u001b[0m\u001b[1;33m\u001b[0m\u001b[0m\n\u001b[1;32m--> 348\u001b[1;33m             X, fitted_transformer = fit_transform_one_cached(\n\u001b[0m\u001b[0;32m    349\u001b[0m                 \u001b[0mcloned_transformer\u001b[0m\u001b[1;33m,\u001b[0m\u001b[1;33m\u001b[0m\u001b[1;33m\u001b[0m\u001b[0m\n\u001b[0;32m    350\u001b[0m                 \u001b[0mX\u001b[0m\u001b[1;33m,\u001b[0m\u001b[1;33m\u001b[0m\u001b[1;33m\u001b[0m\u001b[0m\n",
      "\u001b[1;32m~\\anaconda3\\lib\\site-packages\\joblib\\memory.py\u001b[0m in \u001b[0;36m__call__\u001b[1;34m(self, *args, **kwargs)\u001b[0m\n\u001b[0;32m    347\u001b[0m \u001b[1;33m\u001b[0m\u001b[0m\n\u001b[0;32m    348\u001b[0m     \u001b[1;32mdef\u001b[0m \u001b[0m__call__\u001b[0m\u001b[1;33m(\u001b[0m\u001b[0mself\u001b[0m\u001b[1;33m,\u001b[0m \u001b[1;33m*\u001b[0m\u001b[0margs\u001b[0m\u001b[1;33m,\u001b[0m \u001b[1;33m**\u001b[0m\u001b[0mkwargs\u001b[0m\u001b[1;33m)\u001b[0m\u001b[1;33m:\u001b[0m\u001b[1;33m\u001b[0m\u001b[1;33m\u001b[0m\u001b[0m\n\u001b[1;32m--> 349\u001b[1;33m         \u001b[1;32mreturn\u001b[0m \u001b[0mself\u001b[0m\u001b[1;33m.\u001b[0m\u001b[0mfunc\u001b[0m\u001b[1;33m(\u001b[0m\u001b[1;33m*\u001b[0m\u001b[0margs\u001b[0m\u001b[1;33m,\u001b[0m \u001b[1;33m**\u001b[0m\u001b[0mkwargs\u001b[0m\u001b[1;33m)\u001b[0m\u001b[1;33m\u001b[0m\u001b[1;33m\u001b[0m\u001b[0m\n\u001b[0m\u001b[0;32m    350\u001b[0m \u001b[1;33m\u001b[0m\u001b[0m\n\u001b[0;32m    351\u001b[0m     \u001b[1;32mdef\u001b[0m \u001b[0mcall_and_shelve\u001b[0m\u001b[1;33m(\u001b[0m\u001b[0mself\u001b[0m\u001b[1;33m,\u001b[0m \u001b[1;33m*\u001b[0m\u001b[0margs\u001b[0m\u001b[1;33m,\u001b[0m \u001b[1;33m**\u001b[0m\u001b[0mkwargs\u001b[0m\u001b[1;33m)\u001b[0m\u001b[1;33m:\u001b[0m\u001b[1;33m\u001b[0m\u001b[1;33m\u001b[0m\u001b[0m\n",
      "\u001b[1;32m~\\anaconda3\\lib\\site-packages\\sklearn\\pipeline.py\u001b[0m in \u001b[0;36m_fit_transform_one\u001b[1;34m(transformer, X, y, weight, message_clsname, message, **fit_params)\u001b[0m\n\u001b[0;32m    891\u001b[0m     \u001b[1;32mwith\u001b[0m \u001b[0m_print_elapsed_time\u001b[0m\u001b[1;33m(\u001b[0m\u001b[0mmessage_clsname\u001b[0m\u001b[1;33m,\u001b[0m \u001b[0mmessage\u001b[0m\u001b[1;33m)\u001b[0m\u001b[1;33m:\u001b[0m\u001b[1;33m\u001b[0m\u001b[1;33m\u001b[0m\u001b[0m\n\u001b[0;32m    892\u001b[0m         \u001b[1;32mif\u001b[0m \u001b[0mhasattr\u001b[0m\u001b[1;33m(\u001b[0m\u001b[0mtransformer\u001b[0m\u001b[1;33m,\u001b[0m \u001b[1;34m\"fit_transform\"\u001b[0m\u001b[1;33m)\u001b[0m\u001b[1;33m:\u001b[0m\u001b[1;33m\u001b[0m\u001b[1;33m\u001b[0m\u001b[0m\n\u001b[1;32m--> 893\u001b[1;33m             \u001b[0mres\u001b[0m \u001b[1;33m=\u001b[0m \u001b[0mtransformer\u001b[0m\u001b[1;33m.\u001b[0m\u001b[0mfit_transform\u001b[0m\u001b[1;33m(\u001b[0m\u001b[0mX\u001b[0m\u001b[1;33m,\u001b[0m \u001b[0my\u001b[0m\u001b[1;33m,\u001b[0m \u001b[1;33m**\u001b[0m\u001b[0mfit_params\u001b[0m\u001b[1;33m)\u001b[0m\u001b[1;33m\u001b[0m\u001b[1;33m\u001b[0m\u001b[0m\n\u001b[0m\u001b[0;32m    894\u001b[0m         \u001b[1;32melse\u001b[0m\u001b[1;33m:\u001b[0m\u001b[1;33m\u001b[0m\u001b[1;33m\u001b[0m\u001b[0m\n\u001b[0;32m    895\u001b[0m             \u001b[0mres\u001b[0m \u001b[1;33m=\u001b[0m \u001b[0mtransformer\u001b[0m\u001b[1;33m.\u001b[0m\u001b[0mfit\u001b[0m\u001b[1;33m(\u001b[0m\u001b[0mX\u001b[0m\u001b[1;33m,\u001b[0m \u001b[0my\u001b[0m\u001b[1;33m,\u001b[0m \u001b[1;33m**\u001b[0m\u001b[0mfit_params\u001b[0m\u001b[1;33m)\u001b[0m\u001b[1;33m.\u001b[0m\u001b[0mtransform\u001b[0m\u001b[1;33m(\u001b[0m\u001b[0mX\u001b[0m\u001b[1;33m)\u001b[0m\u001b[1;33m\u001b[0m\u001b[1;33m\u001b[0m\u001b[0m\n",
      "\u001b[1;32m~\\anaconda3\\lib\\site-packages\\sklearn\\feature_extraction\\text.py\u001b[0m in \u001b[0;36mfit_transform\u001b[1;34m(self, raw_documents, y)\u001b[0m\n\u001b[0;32m   2075\u001b[0m         \"\"\"\n\u001b[0;32m   2076\u001b[0m         \u001b[0mself\u001b[0m\u001b[1;33m.\u001b[0m\u001b[0m_check_params\u001b[0m\u001b[1;33m(\u001b[0m\u001b[1;33m)\u001b[0m\u001b[1;33m\u001b[0m\u001b[1;33m\u001b[0m\u001b[0m\n\u001b[1;32m-> 2077\u001b[1;33m         \u001b[0mX\u001b[0m \u001b[1;33m=\u001b[0m \u001b[0msuper\u001b[0m\u001b[1;33m(\u001b[0m\u001b[1;33m)\u001b[0m\u001b[1;33m.\u001b[0m\u001b[0mfit_transform\u001b[0m\u001b[1;33m(\u001b[0m\u001b[0mraw_documents\u001b[0m\u001b[1;33m)\u001b[0m\u001b[1;33m\u001b[0m\u001b[1;33m\u001b[0m\u001b[0m\n\u001b[0m\u001b[0;32m   2078\u001b[0m         \u001b[0mself\u001b[0m\u001b[1;33m.\u001b[0m\u001b[0m_tfidf\u001b[0m\u001b[1;33m.\u001b[0m\u001b[0mfit\u001b[0m\u001b[1;33m(\u001b[0m\u001b[0mX\u001b[0m\u001b[1;33m)\u001b[0m\u001b[1;33m\u001b[0m\u001b[1;33m\u001b[0m\u001b[0m\n\u001b[0;32m   2079\u001b[0m         \u001b[1;31m# X is already a transformed view of raw_documents so\u001b[0m\u001b[1;33m\u001b[0m\u001b[1;33m\u001b[0m\u001b[0m\n",
      "\u001b[1;32m~\\anaconda3\\lib\\site-packages\\sklearn\\feature_extraction\\text.py\u001b[0m in \u001b[0;36mfit_transform\u001b[1;34m(self, raw_documents, y)\u001b[0m\n\u001b[0;32m   1328\u001b[0m                     \u001b[1;32mbreak\u001b[0m\u001b[1;33m\u001b[0m\u001b[1;33m\u001b[0m\u001b[0m\n\u001b[0;32m   1329\u001b[0m \u001b[1;33m\u001b[0m\u001b[0m\n\u001b[1;32m-> 1330\u001b[1;33m         \u001b[0mvocabulary\u001b[0m\u001b[1;33m,\u001b[0m \u001b[0mX\u001b[0m \u001b[1;33m=\u001b[0m \u001b[0mself\u001b[0m\u001b[1;33m.\u001b[0m\u001b[0m_count_vocab\u001b[0m\u001b[1;33m(\u001b[0m\u001b[0mraw_documents\u001b[0m\u001b[1;33m,\u001b[0m \u001b[0mself\u001b[0m\u001b[1;33m.\u001b[0m\u001b[0mfixed_vocabulary_\u001b[0m\u001b[1;33m)\u001b[0m\u001b[1;33m\u001b[0m\u001b[1;33m\u001b[0m\u001b[0m\n\u001b[0m\u001b[0;32m   1331\u001b[0m \u001b[1;33m\u001b[0m\u001b[0m\n\u001b[0;32m   1332\u001b[0m         \u001b[1;32mif\u001b[0m \u001b[0mself\u001b[0m\u001b[1;33m.\u001b[0m\u001b[0mbinary\u001b[0m\u001b[1;33m:\u001b[0m\u001b[1;33m\u001b[0m\u001b[1;33m\u001b[0m\u001b[0m\n",
      "\u001b[1;32m~\\anaconda3\\lib\\site-packages\\sklearn\\feature_extraction\\text.py\u001b[0m in \u001b[0;36m_count_vocab\u001b[1;34m(self, raw_documents, fixed_vocab)\u001b[0m\n\u001b[0;32m   1199\u001b[0m         \u001b[1;32mfor\u001b[0m \u001b[0mdoc\u001b[0m \u001b[1;32min\u001b[0m \u001b[0mraw_documents\u001b[0m\u001b[1;33m:\u001b[0m\u001b[1;33m\u001b[0m\u001b[1;33m\u001b[0m\u001b[0m\n\u001b[0;32m   1200\u001b[0m             \u001b[0mfeature_counter\u001b[0m \u001b[1;33m=\u001b[0m \u001b[1;33m{\u001b[0m\u001b[1;33m}\u001b[0m\u001b[1;33m\u001b[0m\u001b[1;33m\u001b[0m\u001b[0m\n\u001b[1;32m-> 1201\u001b[1;33m             \u001b[1;32mfor\u001b[0m \u001b[0mfeature\u001b[0m \u001b[1;32min\u001b[0m \u001b[0manalyze\u001b[0m\u001b[1;33m(\u001b[0m\u001b[0mdoc\u001b[0m\u001b[1;33m)\u001b[0m\u001b[1;33m:\u001b[0m\u001b[1;33m\u001b[0m\u001b[1;33m\u001b[0m\u001b[0m\n\u001b[0m\u001b[0;32m   1202\u001b[0m                 \u001b[1;32mtry\u001b[0m\u001b[1;33m:\u001b[0m\u001b[1;33m\u001b[0m\u001b[1;33m\u001b[0m\u001b[0m\n\u001b[0;32m   1203\u001b[0m                     \u001b[0mfeature_idx\u001b[0m \u001b[1;33m=\u001b[0m \u001b[0mvocabulary\u001b[0m\u001b[1;33m[\u001b[0m\u001b[0mfeature\u001b[0m\u001b[1;33m]\u001b[0m\u001b[1;33m\u001b[0m\u001b[1;33m\u001b[0m\u001b[0m\n",
      "\u001b[1;32m~\\anaconda3\\lib\\site-packages\\sklearn\\feature_extraction\\text.py\u001b[0m in \u001b[0;36m_analyze\u001b[1;34m(doc, analyzer, tokenizer, ngrams, preprocessor, decoder, stop_words)\u001b[0m\n\u001b[0;32m    113\u001b[0m             \u001b[0mdoc\u001b[0m \u001b[1;33m=\u001b[0m \u001b[0mpreprocessor\u001b[0m\u001b[1;33m(\u001b[0m\u001b[0mdoc\u001b[0m\u001b[1;33m)\u001b[0m\u001b[1;33m\u001b[0m\u001b[1;33m\u001b[0m\u001b[0m\n\u001b[0;32m    114\u001b[0m         \u001b[1;32mif\u001b[0m \u001b[0mtokenizer\u001b[0m \u001b[1;32mis\u001b[0m \u001b[1;32mnot\u001b[0m \u001b[1;32mNone\u001b[0m\u001b[1;33m:\u001b[0m\u001b[1;33m\u001b[0m\u001b[1;33m\u001b[0m\u001b[0m\n\u001b[1;32m--> 115\u001b[1;33m             \u001b[0mdoc\u001b[0m \u001b[1;33m=\u001b[0m \u001b[0mtokenizer\u001b[0m\u001b[1;33m(\u001b[0m\u001b[0mdoc\u001b[0m\u001b[1;33m)\u001b[0m\u001b[1;33m\u001b[0m\u001b[1;33m\u001b[0m\u001b[0m\n\u001b[0m\u001b[0;32m    116\u001b[0m         \u001b[1;32mif\u001b[0m \u001b[0mngrams\u001b[0m \u001b[1;32mis\u001b[0m \u001b[1;32mnot\u001b[0m \u001b[1;32mNone\u001b[0m\u001b[1;33m:\u001b[0m\u001b[1;33m\u001b[0m\u001b[1;33m\u001b[0m\u001b[0m\n\u001b[0;32m    117\u001b[0m             \u001b[1;32mif\u001b[0m \u001b[0mstop_words\u001b[0m \u001b[1;32mis\u001b[0m \u001b[1;32mnot\u001b[0m \u001b[1;32mNone\u001b[0m\u001b[1;33m:\u001b[0m\u001b[1;33m\u001b[0m\u001b[1;33m\u001b[0m\u001b[0m\n",
      "\u001b[1;32m~\\AppData\\Local\\Temp\\ipykernel_37212\\4154477624.py\u001b[0m in \u001b[0;36mcustom_tokenizer\u001b[1;34m(s)\u001b[0m\n\u001b[0;32m     18\u001b[0m \u001b[1;33m\u001b[0m\u001b[0m\n\u001b[0;32m     19\u001b[0m \u001b[1;32mdef\u001b[0m \u001b[0mcustom_tokenizer\u001b[0m\u001b[1;33m(\u001b[0m\u001b[0ms\u001b[0m\u001b[1;33m)\u001b[0m\u001b[1;33m:\u001b[0m\u001b[1;33m\u001b[0m\u001b[1;33m\u001b[0m\u001b[0m\n\u001b[1;32m---> 20\u001b[1;33m     \u001b[1;32mreturn\u001b[0m  \u001b[0mtokenize_lemma\u001b[0m\u001b[1;33m(\u001b[0m\u001b[0mtokenize_price\u001b[0m\u001b[1;33m(\u001b[0m\u001b[0mrefine_text\u001b[0m\u001b[1;33m(\u001b[0m\u001b[0ms\u001b[0m\u001b[1;33m)\u001b[0m\u001b[1;33m,\u001b[0m \u001b[0mtoken\u001b[0m\u001b[1;33m)\u001b[0m\u001b[1;33m)\u001b[0m\u001b[1;33m\u001b[0m\u001b[1;33m\u001b[0m\u001b[0m\n\u001b[0m\u001b[0;32m     21\u001b[0m \u001b[1;33m\u001b[0m\u001b[0m\n\u001b[0;32m     22\u001b[0m print('better = ', tokenize_lemma('better'),\n",
      "\u001b[1;32m~\\AppData\\Local\\Temp\\ipykernel_37212\\1620310609.py\u001b[0m in \u001b[0;36mtokenize_lemma\u001b[1;34m(text)\u001b[0m\n\u001b[0;32m     49\u001b[0m \u001b[1;33m\u001b[0m\u001b[0m\n\u001b[0;32m     50\u001b[0m \u001b[1;32mdef\u001b[0m \u001b[0mtokenize_lemma\u001b[0m\u001b[1;33m(\u001b[0m\u001b[0mtext\u001b[0m\u001b[1;33m)\u001b[0m\u001b[1;33m:\u001b[0m\u001b[1;33m\u001b[0m\u001b[1;33m\u001b[0m\u001b[0m\n\u001b[1;32m---> 51\u001b[1;33m     \u001b[1;32mreturn\u001b[0m \u001b[1;33m[\u001b[0m\u001b[0mw\u001b[0m\u001b[1;33m.\u001b[0m\u001b[0mlemma_\u001b[0m\u001b[1;33m.\u001b[0m\u001b[0mlower\u001b[0m\u001b[1;33m(\u001b[0m\u001b[1;33m)\u001b[0m\u001b[1;33m.\u001b[0m\u001b[0mstrip\u001b[0m\u001b[1;33m(\u001b[0m\u001b[1;33m)\u001b[0m \u001b[1;32mfor\u001b[0m \u001b[0mw\u001b[0m \u001b[1;32min\u001b[0m \u001b[0mnlp\u001b[0m\u001b[1;33m(\u001b[0m\u001b[0mtokenize_price\u001b[0m\u001b[1;33m(\u001b[0m\u001b[0memoji\u001b[0m\u001b[1;33m.\u001b[0m\u001b[0mreplace_emoji\u001b[0m\u001b[1;33m(\u001b[0m\u001b[0mtext\u001b[0m\u001b[1;33m)\u001b[0m\u001b[1;33m)\u001b[0m\u001b[1;33m)\u001b[0m\u001b[1;33m]\u001b[0m\u001b[1;33m\u001b[0m\u001b[1;33m\u001b[0m\u001b[0m\n\u001b[0m\u001b[0;32m     52\u001b[0m \u001b[1;33m\u001b[0m\u001b[0m\n\u001b[0;32m     53\u001b[0m \u001b[1;33m\u001b[0m\u001b[0m\n",
      "\u001b[1;32m~\\anaconda3\\lib\\site-packages\\spacy\\language.py\u001b[0m in \u001b[0;36m__call__\u001b[1;34m(self, text, disable, component_cfg)\u001b[0m\n\u001b[0;32m   1018\u001b[0m                 \u001b[0merror_handler\u001b[0m \u001b[1;33m=\u001b[0m \u001b[0mproc\u001b[0m\u001b[1;33m.\u001b[0m\u001b[0mget_error_handler\u001b[0m\u001b[1;33m(\u001b[0m\u001b[1;33m)\u001b[0m\u001b[1;33m\u001b[0m\u001b[1;33m\u001b[0m\u001b[0m\n\u001b[0;32m   1019\u001b[0m             \u001b[1;32mtry\u001b[0m\u001b[1;33m:\u001b[0m\u001b[1;33m\u001b[0m\u001b[1;33m\u001b[0m\u001b[0m\n\u001b[1;32m-> 1020\u001b[1;33m                 \u001b[0mdoc\u001b[0m \u001b[1;33m=\u001b[0m \u001b[0mproc\u001b[0m\u001b[1;33m(\u001b[0m\u001b[0mdoc\u001b[0m\u001b[1;33m,\u001b[0m \u001b[1;33m**\u001b[0m\u001b[0mcomponent_cfg\u001b[0m\u001b[1;33m.\u001b[0m\u001b[0mget\u001b[0m\u001b[1;33m(\u001b[0m\u001b[0mname\u001b[0m\u001b[1;33m,\u001b[0m \u001b[1;33m{\u001b[0m\u001b[1;33m}\u001b[0m\u001b[1;33m)\u001b[0m\u001b[1;33m)\u001b[0m  \u001b[1;31m# type: ignore[call-arg]\u001b[0m\u001b[1;33m\u001b[0m\u001b[1;33m\u001b[0m\u001b[0m\n\u001b[0m\u001b[0;32m   1021\u001b[0m             \u001b[1;32mexcept\u001b[0m \u001b[0mKeyError\u001b[0m \u001b[1;32mas\u001b[0m \u001b[0me\u001b[0m\u001b[1;33m:\u001b[0m\u001b[1;33m\u001b[0m\u001b[1;33m\u001b[0m\u001b[0m\n\u001b[0;32m   1022\u001b[0m                 \u001b[1;31m# This typically happens if a component is not initialized\u001b[0m\u001b[1;33m\u001b[0m\u001b[1;33m\u001b[0m\u001b[0m\n",
      "\u001b[1;32m~\\anaconda3\\lib\\site-packages\\spacy\\pipeline\\trainable_pipe.pyx\u001b[0m in \u001b[0;36mspacy.pipeline.trainable_pipe.TrainablePipe.__call__\u001b[1;34m()\u001b[0m\n",
      "\u001b[1;32m~\\anaconda3\\lib\\site-packages\\spacy\\pipeline\\tagger.pyx\u001b[0m in \u001b[0;36mspacy.pipeline.tagger.Tagger.predict\u001b[1;34m()\u001b[0m\n",
      "\u001b[1;32m~\\anaconda3\\lib\\site-packages\\thinc\\model.py\u001b[0m in \u001b[0;36mpredict\u001b[1;34m(self, X)\u001b[0m\n\u001b[0;32m    313\u001b[0m         \u001b[0monly\u001b[0m \u001b[0mthe\u001b[0m \u001b[0moutput\u001b[0m\u001b[1;33m,\u001b[0m \u001b[0minstead\u001b[0m \u001b[0mof\u001b[0m \u001b[0mthe\u001b[0m\u001b[0;31m \u001b[0m\u001b[0;31m`\u001b[0m\u001b[1;33m(\u001b[0m\u001b[0moutput\u001b[0m\u001b[1;33m,\u001b[0m \u001b[0mcallback\u001b[0m\u001b[1;33m)\u001b[0m\u001b[0;31m`\u001b[0m \u001b[0mtuple\u001b[0m\u001b[1;33m.\u001b[0m\u001b[1;33m\u001b[0m\u001b[1;33m\u001b[0m\u001b[0m\n\u001b[0;32m    314\u001b[0m         \"\"\"\n\u001b[1;32m--> 315\u001b[1;33m         \u001b[1;32mreturn\u001b[0m \u001b[0mself\u001b[0m\u001b[1;33m.\u001b[0m\u001b[0m_func\u001b[0m\u001b[1;33m(\u001b[0m\u001b[0mself\u001b[0m\u001b[1;33m,\u001b[0m \u001b[0mX\u001b[0m\u001b[1;33m,\u001b[0m \u001b[0mis_train\u001b[0m\u001b[1;33m=\u001b[0m\u001b[1;32mFalse\u001b[0m\u001b[1;33m)\u001b[0m\u001b[1;33m[\u001b[0m\u001b[1;36m0\u001b[0m\u001b[1;33m]\u001b[0m\u001b[1;33m\u001b[0m\u001b[1;33m\u001b[0m\u001b[0m\n\u001b[0m\u001b[0;32m    316\u001b[0m \u001b[1;33m\u001b[0m\u001b[0m\n\u001b[0;32m    317\u001b[0m     \u001b[1;32mdef\u001b[0m \u001b[0mfinish_update\u001b[0m\u001b[1;33m(\u001b[0m\u001b[0mself\u001b[0m\u001b[1;33m,\u001b[0m \u001b[0moptimizer\u001b[0m\u001b[1;33m:\u001b[0m \u001b[0mOptimizer\u001b[0m\u001b[1;33m)\u001b[0m \u001b[1;33m->\u001b[0m \u001b[1;32mNone\u001b[0m\u001b[1;33m:\u001b[0m\u001b[1;33m\u001b[0m\u001b[1;33m\u001b[0m\u001b[0m\n",
      "\u001b[1;32m~\\anaconda3\\lib\\site-packages\\thinc\\layers\\chain.py\u001b[0m in \u001b[0;36mforward\u001b[1;34m(model, X, is_train)\u001b[0m\n\u001b[0;32m     52\u001b[0m     \u001b[0mcallbacks\u001b[0m \u001b[1;33m=\u001b[0m \u001b[1;33m[\u001b[0m\u001b[1;33m]\u001b[0m\u001b[1;33m\u001b[0m\u001b[1;33m\u001b[0m\u001b[0m\n\u001b[0;32m     53\u001b[0m     \u001b[1;32mfor\u001b[0m \u001b[0mlayer\u001b[0m \u001b[1;32min\u001b[0m \u001b[0mmodel\u001b[0m\u001b[1;33m.\u001b[0m\u001b[0mlayers\u001b[0m\u001b[1;33m:\u001b[0m\u001b[1;33m\u001b[0m\u001b[1;33m\u001b[0m\u001b[0m\n\u001b[1;32m---> 54\u001b[1;33m         \u001b[0mY\u001b[0m\u001b[1;33m,\u001b[0m \u001b[0minc_layer_grad\u001b[0m \u001b[1;33m=\u001b[0m \u001b[0mlayer\u001b[0m\u001b[1;33m(\u001b[0m\u001b[0mX\u001b[0m\u001b[1;33m,\u001b[0m \u001b[0mis_train\u001b[0m\u001b[1;33m=\u001b[0m\u001b[0mis_train\u001b[0m\u001b[1;33m)\u001b[0m\u001b[1;33m\u001b[0m\u001b[1;33m\u001b[0m\u001b[0m\n\u001b[0m\u001b[0;32m     55\u001b[0m         \u001b[0mcallbacks\u001b[0m\u001b[1;33m.\u001b[0m\u001b[0mappend\u001b[0m\u001b[1;33m(\u001b[0m\u001b[0minc_layer_grad\u001b[0m\u001b[1;33m)\u001b[0m\u001b[1;33m\u001b[0m\u001b[1;33m\u001b[0m\u001b[0m\n\u001b[0;32m     56\u001b[0m         \u001b[0mX\u001b[0m \u001b[1;33m=\u001b[0m \u001b[0mY\u001b[0m\u001b[1;33m\u001b[0m\u001b[1;33m\u001b[0m\u001b[0m\n",
      "\u001b[1;32m~\\anaconda3\\lib\\site-packages\\thinc\\model.py\u001b[0m in \u001b[0;36m__call__\u001b[1;34m(self, X, is_train)\u001b[0m\n\u001b[0;32m    289\u001b[0m         \"\"\"Call the model's `forward` function, returning the output and a\n\u001b[0;32m    290\u001b[0m         callback to compute the gradients via backpropagation.\"\"\"\n\u001b[1;32m--> 291\u001b[1;33m         \u001b[1;32mreturn\u001b[0m \u001b[0mself\u001b[0m\u001b[1;33m.\u001b[0m\u001b[0m_func\u001b[0m\u001b[1;33m(\u001b[0m\u001b[0mself\u001b[0m\u001b[1;33m,\u001b[0m \u001b[0mX\u001b[0m\u001b[1;33m,\u001b[0m \u001b[0mis_train\u001b[0m\u001b[1;33m=\u001b[0m\u001b[0mis_train\u001b[0m\u001b[1;33m)\u001b[0m\u001b[1;33m\u001b[0m\u001b[1;33m\u001b[0m\u001b[0m\n\u001b[0m\u001b[0;32m    292\u001b[0m \u001b[1;33m\u001b[0m\u001b[0m\n\u001b[0;32m    293\u001b[0m     \u001b[1;32mdef\u001b[0m \u001b[0minitialize\u001b[0m\u001b[1;33m(\u001b[0m\u001b[0mself\u001b[0m\u001b[1;33m,\u001b[0m \u001b[0mX\u001b[0m\u001b[1;33m:\u001b[0m \u001b[0mOptional\u001b[0m\u001b[1;33m[\u001b[0m\u001b[0mInT\u001b[0m\u001b[1;33m]\u001b[0m \u001b[1;33m=\u001b[0m \u001b[1;32mNone\u001b[0m\u001b[1;33m,\u001b[0m \u001b[0mY\u001b[0m\u001b[1;33m:\u001b[0m \u001b[0mOptional\u001b[0m\u001b[1;33m[\u001b[0m\u001b[0mOutT\u001b[0m\u001b[1;33m]\u001b[0m \u001b[1;33m=\u001b[0m \u001b[1;32mNone\u001b[0m\u001b[1;33m)\u001b[0m \u001b[1;33m->\u001b[0m \u001b[1;34m\"Model\"\u001b[0m\u001b[1;33m:\u001b[0m\u001b[1;33m\u001b[0m\u001b[1;33m\u001b[0m\u001b[0m\n",
      "\u001b[1;32m~\\anaconda3\\lib\\site-packages\\thinc\\layers\\with_array.py\u001b[0m in \u001b[0;36mforward\u001b[1;34m(model, Xseq, is_train)\u001b[0m\n\u001b[0;32m     38\u001b[0m         \u001b[1;32mreturn\u001b[0m \u001b[0mmodel\u001b[0m\u001b[1;33m.\u001b[0m\u001b[0mlayers\u001b[0m\u001b[1;33m[\u001b[0m\u001b[1;36m0\u001b[0m\u001b[1;33m]\u001b[0m\u001b[1;33m(\u001b[0m\u001b[0mXseq\u001b[0m\u001b[1;33m,\u001b[0m \u001b[0mis_train\u001b[0m\u001b[1;33m)\u001b[0m\u001b[1;33m\u001b[0m\u001b[1;33m\u001b[0m\u001b[0m\n\u001b[0;32m     39\u001b[0m     \u001b[1;32melse\u001b[0m\u001b[1;33m:\u001b[0m\u001b[1;33m\u001b[0m\u001b[1;33m\u001b[0m\u001b[0m\n\u001b[1;32m---> 40\u001b[1;33m         \u001b[1;32mreturn\u001b[0m \u001b[0m_list_forward\u001b[0m\u001b[1;33m(\u001b[0m\u001b[0mcast\u001b[0m\u001b[1;33m(\u001b[0m\u001b[0mModel\u001b[0m\u001b[1;33m[\u001b[0m\u001b[0mList2d\u001b[0m\u001b[1;33m,\u001b[0m \u001b[0mList2d\u001b[0m\u001b[1;33m]\u001b[0m\u001b[1;33m,\u001b[0m \u001b[0mmodel\u001b[0m\u001b[1;33m)\u001b[0m\u001b[1;33m,\u001b[0m \u001b[0mXseq\u001b[0m\u001b[1;33m,\u001b[0m \u001b[0mis_train\u001b[0m\u001b[1;33m)\u001b[0m\u001b[1;33m\u001b[0m\u001b[1;33m\u001b[0m\u001b[0m\n\u001b[0m\u001b[0;32m     41\u001b[0m \u001b[1;33m\u001b[0m\u001b[0m\n\u001b[0;32m     42\u001b[0m \u001b[1;33m\u001b[0m\u001b[0m\n",
      "\u001b[1;32m~\\anaconda3\\lib\\site-packages\\thinc\\layers\\with_array.py\u001b[0m in \u001b[0;36m_list_forward\u001b[1;34m(model, Xs, is_train)\u001b[0m\n\u001b[0;32m     74\u001b[0m     \u001b[0mlengths\u001b[0m \u001b[1;33m=\u001b[0m \u001b[0mlayer\u001b[0m\u001b[1;33m.\u001b[0m\u001b[0mops\u001b[0m\u001b[1;33m.\u001b[0m\u001b[0masarray1i\u001b[0m\u001b[1;33m(\u001b[0m\u001b[1;33m[\u001b[0m\u001b[0mlen\u001b[0m\u001b[1;33m(\u001b[0m\u001b[0mseq\u001b[0m\u001b[1;33m)\u001b[0m \u001b[1;32mfor\u001b[0m \u001b[0mseq\u001b[0m \u001b[1;32min\u001b[0m \u001b[0mXs\u001b[0m\u001b[1;33m]\u001b[0m\u001b[1;33m)\u001b[0m\u001b[1;33m\u001b[0m\u001b[1;33m\u001b[0m\u001b[0m\n\u001b[0;32m     75\u001b[0m     \u001b[0mXf\u001b[0m \u001b[1;33m=\u001b[0m \u001b[0mlayer\u001b[0m\u001b[1;33m.\u001b[0m\u001b[0mops\u001b[0m\u001b[1;33m.\u001b[0m\u001b[0mflatten\u001b[0m\u001b[1;33m(\u001b[0m\u001b[0mXs\u001b[0m\u001b[1;33m,\u001b[0m \u001b[0mpad\u001b[0m\u001b[1;33m=\u001b[0m\u001b[0mpad\u001b[0m\u001b[1;33m)\u001b[0m  \u001b[1;31m# type: ignore\u001b[0m\u001b[1;33m\u001b[0m\u001b[1;33m\u001b[0m\u001b[0m\n\u001b[1;32m---> 76\u001b[1;33m     \u001b[0mYf\u001b[0m\u001b[1;33m,\u001b[0m \u001b[0mget_dXf\u001b[0m \u001b[1;33m=\u001b[0m \u001b[0mlayer\u001b[0m\u001b[1;33m(\u001b[0m\u001b[0mXf\u001b[0m\u001b[1;33m,\u001b[0m \u001b[0mis_train\u001b[0m\u001b[1;33m)\u001b[0m\u001b[1;33m\u001b[0m\u001b[1;33m\u001b[0m\u001b[0m\n\u001b[0m\u001b[0;32m     77\u001b[0m \u001b[1;33m\u001b[0m\u001b[0m\n\u001b[0;32m     78\u001b[0m     \u001b[1;32mdef\u001b[0m \u001b[0mbackprop\u001b[0m\u001b[1;33m(\u001b[0m\u001b[0mdYs\u001b[0m\u001b[1;33m:\u001b[0m \u001b[0mList2d\u001b[0m\u001b[1;33m)\u001b[0m \u001b[1;33m->\u001b[0m \u001b[0mList2d\u001b[0m\u001b[1;33m:\u001b[0m\u001b[1;33m\u001b[0m\u001b[1;33m\u001b[0m\u001b[0m\n",
      "\u001b[1;32m~\\anaconda3\\lib\\site-packages\\thinc\\model.py\u001b[0m in \u001b[0;36m__call__\u001b[1;34m(self, X, is_train)\u001b[0m\n\u001b[0;32m    289\u001b[0m         \"\"\"Call the model's `forward` function, returning the output and a\n\u001b[0;32m    290\u001b[0m         callback to compute the gradients via backpropagation.\"\"\"\n\u001b[1;32m--> 291\u001b[1;33m         \u001b[1;32mreturn\u001b[0m \u001b[0mself\u001b[0m\u001b[1;33m.\u001b[0m\u001b[0m_func\u001b[0m\u001b[1;33m(\u001b[0m\u001b[0mself\u001b[0m\u001b[1;33m,\u001b[0m \u001b[0mX\u001b[0m\u001b[1;33m,\u001b[0m \u001b[0mis_train\u001b[0m\u001b[1;33m=\u001b[0m\u001b[0mis_train\u001b[0m\u001b[1;33m)\u001b[0m\u001b[1;33m\u001b[0m\u001b[1;33m\u001b[0m\u001b[0m\n\u001b[0m\u001b[0;32m    292\u001b[0m \u001b[1;33m\u001b[0m\u001b[0m\n\u001b[0;32m    293\u001b[0m     \u001b[1;32mdef\u001b[0m \u001b[0minitialize\u001b[0m\u001b[1;33m(\u001b[0m\u001b[0mself\u001b[0m\u001b[1;33m,\u001b[0m \u001b[0mX\u001b[0m\u001b[1;33m:\u001b[0m \u001b[0mOptional\u001b[0m\u001b[1;33m[\u001b[0m\u001b[0mInT\u001b[0m\u001b[1;33m]\u001b[0m \u001b[1;33m=\u001b[0m \u001b[1;32mNone\u001b[0m\u001b[1;33m,\u001b[0m \u001b[0mY\u001b[0m\u001b[1;33m:\u001b[0m \u001b[0mOptional\u001b[0m\u001b[1;33m[\u001b[0m\u001b[0mOutT\u001b[0m\u001b[1;33m]\u001b[0m \u001b[1;33m=\u001b[0m \u001b[1;32mNone\u001b[0m\u001b[1;33m)\u001b[0m \u001b[1;33m->\u001b[0m \u001b[1;34m\"Model\"\u001b[0m\u001b[1;33m:\u001b[0m\u001b[1;33m\u001b[0m\u001b[1;33m\u001b[0m\u001b[0m\n",
      "\u001b[1;32m~\\anaconda3\\lib\\site-packages\\thinc\\layers\\softmax.py\u001b[0m in \u001b[0;36mforward\u001b[1;34m(model, X, is_train)\u001b[0m\n\u001b[0;32m     62\u001b[0m     \u001b[0mW\u001b[0m \u001b[1;33m=\u001b[0m \u001b[0mcast\u001b[0m\u001b[1;33m(\u001b[0m\u001b[0mFloats2d\u001b[0m\u001b[1;33m,\u001b[0m \u001b[0mmodel\u001b[0m\u001b[1;33m.\u001b[0m\u001b[0mget_param\u001b[0m\u001b[1;33m(\u001b[0m\u001b[1;34m\"W\"\u001b[0m\u001b[1;33m)\u001b[0m\u001b[1;33m)\u001b[0m\u001b[1;33m\u001b[0m\u001b[1;33m\u001b[0m\u001b[0m\n\u001b[0;32m     63\u001b[0m     \u001b[0mb\u001b[0m \u001b[1;33m=\u001b[0m \u001b[0mcast\u001b[0m\u001b[1;33m(\u001b[0m\u001b[0mFloats1d\u001b[0m\u001b[1;33m,\u001b[0m \u001b[0mmodel\u001b[0m\u001b[1;33m.\u001b[0m\u001b[0mget_param\u001b[0m\u001b[1;33m(\u001b[0m\u001b[1;34m\"b\"\u001b[0m\u001b[1;33m)\u001b[0m\u001b[1;33m)\u001b[0m\u001b[1;33m\u001b[0m\u001b[1;33m\u001b[0m\u001b[0m\n\u001b[1;32m---> 64\u001b[1;33m     \u001b[0mY\u001b[0m \u001b[1;33m=\u001b[0m \u001b[0mmodel\u001b[0m\u001b[1;33m.\u001b[0m\u001b[0mops\u001b[0m\u001b[1;33m.\u001b[0m\u001b[0maffine\u001b[0m\u001b[1;33m(\u001b[0m\u001b[0mX\u001b[0m\u001b[1;33m,\u001b[0m \u001b[0mW\u001b[0m\u001b[1;33m,\u001b[0m \u001b[0mb\u001b[0m\u001b[1;33m)\u001b[0m\u001b[1;33m\u001b[0m\u001b[1;33m\u001b[0m\u001b[0m\n\u001b[0m\u001b[0;32m     65\u001b[0m \u001b[1;33m\u001b[0m\u001b[0m\n\u001b[0;32m     66\u001b[0m     \u001b[1;32mif\u001b[0m \u001b[0mnormalize\u001b[0m\u001b[1;33m:\u001b[0m\u001b[1;33m\u001b[0m\u001b[1;33m\u001b[0m\u001b[0m\n",
      "\u001b[1;32m~\\anaconda3\\lib\\site-packages\\thinc\\backends\\ops.py\u001b[0m in \u001b[0;36maffine\u001b[1;34m(self, X, W, b)\u001b[0m\n\u001b[0;32m    222\u001b[0m         \u001b[0mY\u001b[0m \u001b[1;33m=\u001b[0m \u001b[0mX\u001b[0m \u001b[1;33m@\u001b[0m \u001b[0mW\u001b[0m\u001b[1;33m.\u001b[0m\u001b[0mT\u001b[0m \u001b[1;33m+\u001b[0m \u001b[0mb\u001b[0m\u001b[1;33m\u001b[0m\u001b[1;33m\u001b[0m\u001b[0m\n\u001b[0;32m    223\u001b[0m         \"\"\"\n\u001b[1;32m--> 224\u001b[1;33m         \u001b[0mY\u001b[0m \u001b[1;33m=\u001b[0m \u001b[0mself\u001b[0m\u001b[1;33m.\u001b[0m\u001b[0mgemm\u001b[0m\u001b[1;33m(\u001b[0m\u001b[0mX\u001b[0m\u001b[1;33m,\u001b[0m \u001b[0mW\u001b[0m\u001b[1;33m,\u001b[0m \u001b[0mtrans2\u001b[0m\u001b[1;33m=\u001b[0m\u001b[1;32mTrue\u001b[0m\u001b[1;33m)\u001b[0m\u001b[1;33m\u001b[0m\u001b[1;33m\u001b[0m\u001b[0m\n\u001b[0m\u001b[0;32m    225\u001b[0m         \u001b[0mY\u001b[0m \u001b[1;33m+=\u001b[0m \u001b[0mb\u001b[0m\u001b[1;33m\u001b[0m\u001b[1;33m\u001b[0m\u001b[0m\n\u001b[0;32m    226\u001b[0m         \u001b[1;32mreturn\u001b[0m \u001b[0mY\u001b[0m\u001b[1;33m\u001b[0m\u001b[1;33m\u001b[0m\u001b[0m\n",
      "\u001b[1;31mKeyboardInterrupt\u001b[0m: "
     ]
    }
   ],
   "source": [
    "import emoji\n",
    "import random\n",
    "#from spacy.lang.en.stop_words import STOP_WORDS\n",
    "from sklearn.feature_extraction.text import TfidfVectorizer\n",
    "from sklearn.naive_bayes import MultinomialNB\n",
    "from sklearn.naive_bayes import ComplementNB\n",
    "from sklearn.linear_model import Ridge\n",
    "from sklearn.pipeline import Pipeline\n",
    "from sklearn.metrics import confusion_matrix, precision_score, classification_report\n",
    "from sklearn.linear_model import LogisticRegression\n",
    "from sklearn.metrics import confusion_matrix, ConfusionMatrixDisplay\n",
    "from sklearn.model_selection import train_test_split\n",
    "from sklearn.linear_model import SGDClassifier\n",
    "from sklearn.model_selection import GridSearchCV\n",
    "\n",
    "token = 'pricetoken'\n",
    "#token = ''\n",
    "\n",
    "def custom_tokenizer(s):\n",
    "    return  tokenize_lemma(tokenize_price(refine_text(s), token))\n",
    "\n",
    "print('better = ', tokenize_lemma('better'),\n",
    "      '<--- if equal, lemma replace is successful')\n",
    "\n",
    "with open('custom_stop_words.txt', encoding='utf-8') as file:\n",
    "    stop_words = [line.rstrip() for line in file]\n",
    "with open('wine_words.txt', encoding='utf-8') as file:\n",
    "    stop_words_wine = [line.rstrip() for line in file]\n",
    "with open('vivino_stop_words.txt', encoding='utf-8') as file:\n",
    "    stop_words_vivino = [line.rstrip() for line in file]\n",
    "\n",
    "STOP_WORDS = set(stop_words + stop_words_wine + stop_words_vivino)\n",
    "#STOP_WORDS = set(stop_words_wine+stop_words_vivino)\n",
    "STOP_WORDS = STOP_WORDS.union({'ll', 've'})\n",
    "STOP_WORDS = STOP_WORDS.difference({'he', 'his', 'her','hers'})  # Removing a few words that don't lemmatize well\n",
    "\n",
    "stop_words_lemma = set(tokenize_lemma(' '.join(sorted(STOP_WORDS))))\n",
    "\n",
    "\n",
    "sgd_pipe = Pipeline([\n",
    "    ('vectorizer', TfidfVectorizer(ngram_range=(1, 2), stop_words=stop_words_lemma,\n",
    "         tokenizer=custom_tokenizer, max_df=0.8,)),  # lemmatization removed to improve runtime\n",
    "    ('classifier', SGDClassifier(max_iter=50, loss='modified_huber'))\n",
    "])\n",
    "\n",
    "#est = sgd_pipe\n",
    "#est = mnb_pipe\n",
    "\n",
    "#data = pd.read_csv('./survey_results/ratings_sentiment.csv', encoding='utf-8-sig')\n",
    "data = pd.read_csv('./survey_results/master_survey.csv', encoding='utf-8-sig')\n",
    "\n",
    "\n",
    "X = data['reviews']\n",
    "y = data['sentiment']\n",
    "seed = random.randint(1, 1e8)\n",
    "X_train, X_test, y_train, y_test = train_test_split(X, y, train_size=0.6, random_state=seed)\n",
    "\n",
    "\n",
    "parameters = {'classifier__alpha': (0.0001, 0.0005, 0.001),\n",
    "               # log = Logistic Regression, hinge = Linear SVM\n",
    "}\n",
    "print(f'Training on {len(X_train)} data.')\n",
    "grid = GridSearchCV(sgd_pipe, parameters, cv=4)\n",
    "grid.fit(X_train,y_train) # This may take 2 or 3 minutes to run \n",
    "est = grid.best_estimator_  #  Let's have a closer look at the best parameters...\n",
    "y_pred = est.predict(X_test)\n",
    "print(confusion_matrix(y_test, y_pred))\n",
    "print('random seed', seed)\n",
    "\n",
    "print(est.score(X_test, y_test))\n",
    "print(grid.best_params_)\n"
   ]
  },
  {
   "cell_type": "markdown",
   "id": "a104b7f6",
   "metadata": {},
   "source": [
    "## Sentiment Analysis Model - Star Ratings"
   ]
  },
  {
   "cell_type": "code",
   "execution_count": 163,
   "id": "c8b36c79",
   "metadata": {
    "ExecuteTime": {
     "end_time": "2023-02-23T08:17:10.023961Z",
     "start_time": "2023-02-23T08:09:09.166988Z"
    }
   },
   "outputs": [
    {
     "name": "stdout",
     "output_type": "stream",
     "text": [
      "better =  ['better'] <--- if equal, lemma replace is successful\n",
      "random seed 20768611\n",
      "Training on 53003 data.\n"
     ]
    },
    {
     "name": "stderr",
     "output_type": "stream",
     "text": [
      "C:\\Users\\steph\\anaconda3\\lib\\site-packages\\sklearn\\feature_extraction\\text.py:396: UserWarning: Your stop_words may be inconsistent with your preprocessing. Tokenizing the stop words generated tokens ['roast', 's', 'z'] not in stop_words.\n",
      "  warnings.warn(\n"
     ]
    },
    {
     "name": "stdout",
     "output_type": "stream",
     "text": [
      "SGD score: 0.8772168138253716\n",
      ":::::::SGD Classifier results:::::::\n",
      "              precision    recall  f1-score   support\n",
      "\n",
      "    Negative       0.90      0.85      0.87      6675\n",
      "    Positive       0.85      0.91      0.88      6576\n",
      "\n",
      "    accuracy                           0.88     13251\n",
      "   macro avg       0.88      0.88      0.88     13251\n",
      "weighted avg       0.88      0.88      0.88     13251\n",
      "\n",
      ":::::::Dummy Classifier results:::::::\n",
      "Dummy score: 0.50916911931175\n",
      "              precision    recall  f1-score   support\n",
      "\n",
      "    negative       0.50      0.50      0.50      6675\n",
      "    positive       0.49      0.49      0.49      6576\n",
      "\n",
      "    accuracy                           0.49     13251\n",
      "   macro avg       0.49      0.49      0.49     13251\n",
      "weighted avg       0.49      0.49      0.49     13251\n",
      "\n"
     ]
    }
   ],
   "source": [
    "import emoji\n",
    "import random\n",
    "import pandas as pd\n",
    "#from spacy.lang.en.stop_words import STOP_WORDS\n",
    "from sklearn.feature_extraction.text import TfidfVectorizer\n",
    "from sklearn.naive_bayes import MultinomialNB\n",
    "from sklearn.naive_bayes import ComplementNB\n",
    "from sklearn.linear_model import Ridge\n",
    "from sklearn.pipeline import Pipeline\n",
    "from sklearn.metrics import confusion_matrix, precision_score, classification_report\n",
    "from sklearn.linear_model import LogisticRegression\n",
    "from sklearn.metrics import confusion_matrix, ConfusionMatrixDisplay\n",
    "from sklearn.model_selection import train_test_split\n",
    "from sklearn.linear_model import SGDClassifier\n",
    "\n",
    "token = ''\n",
    "token = ''\n",
    "def custom_tokenizer(s):\n",
    "    return  tokenize_lemma(tokenize_price(refine_text(s), token))\n",
    "\n",
    "print('better = ', tokenize_lemma('better'),\n",
    "      '<--- if equal, lemma replace is successful')\n",
    "\n",
    "with open('custom_stop_words.txt', encoding='utf-8') as file:\n",
    "    stop_words = [line.rstrip() for line in file]\n",
    "with open('wine_words.txt', encoding='utf-8') as file:\n",
    "    stop_words_wine = [line.rstrip() for line in file]\n",
    "with open('vivino_stop_words.txt', encoding='utf-8') as file:\n",
    "    stop_words_vivino = [line.rstrip() for line in file]\n",
    "\n",
    "STOP_WORDS = set(stop_words + stop_words_wine + stop_words_vivino)\n",
    "#STOP_WORDS = set(stop_words_wine+stop_words_vivino)\n",
    "STOP_WORDS = STOP_WORDS.union({'ll', 've'})\n",
    "STOP_WORDS = STOP_WORDS.difference({'he', 'his', 'her','hers'})  # Removing a few words that don't lemmatize well\n",
    "\n",
    "stop_words_lemma = set(tokenize_lemma(' '.join(sorted(STOP_WORDS))))\n",
    "\n",
    "mnb_pipe = Pipeline([\n",
    "    ('vectorizer',TfidfVectorizer(ngram_range=(1, 2),stop_words=stop_words_lemma,tokenizer=custom_tokenizer)),\n",
    "    ('classifier', MultinomialNB()),\n",
    "])\n",
    "\n",
    "sgd_pipe = Pipeline([\n",
    "    ('vectorizer', TfidfVectorizer(ngram_range=(1, 2), stop_words=stop_words_lemma,\n",
    "         tokenizer=custom_tokenizer, )),  # lemmatization removed to improve runtime\n",
    "    ('classifier', SGDClassifier(max_iter=50, loss='modified_huber', alpha=0.0005))\n",
    "])\n",
    "\n",
    "est_star = sgd_pipe\n",
    "#est = mnb_pipe\n",
    "\n",
    "data = pd.read_csv('./survey_results/ratings_sentiment.csv', encoding='utf-8-sig')\n",
    "#data = pd.read_csv('./survey_results/master_survey.csv', encoding='utf-8-sig')\n",
    "\n",
    "X = df_starsentiment['reviews'] \n",
    "y = df_starsentiment['sentiment']\n",
    "\n",
    "\n",
    "\n",
    "seed = random.randint(1, 1e8)\n",
    "print('random seed', seed)\n",
    "X_train, X_test, y_train, y_test = train_test_split(X, y, train_size=0.8, random_state=seed)\n",
    "\n",
    "print(f'Training on {len(X_train)} data.')\n",
    "est_star.fit(X_train, y_train)\n",
    "print('SGD score:',est_star.score(X_test, y_test))\n",
    "#y_pred = est.predict(X_test)\n",
    "y_pred = est_star.predict(X_test)\n",
    "print(':::::::SGD Classifier results:::::::')\n",
    "print(classification_report(y_test, y_pred, target_names=est.classes_))\n",
    "\n",
    "\n",
    "from sklearn.dummy import DummyClassifier\n",
    "print(':::::::Dummy Classifier results:::::::')\n",
    "dummy_clf = DummyClassifier(strategy=\"stratified\")\n",
    "dummy_clf.fit(X_train, y_train)\n",
    "print('Dummy score:',dummy_clf.score(X_test, y_test))\n",
    "print(classification_report(y_test, dummy_clf.predict(X_test), target_names=dummy_clf.classes_))"
   ]
  },
  {
   "cell_type": "code",
   "execution_count": 164,
   "id": "020013ea",
   "metadata": {
    "ExecuteTime": {
     "end_time": "2023-02-23T08:18:29.517356Z",
     "start_time": "2023-02-23T08:17:10.026961Z"
    }
   },
   "outputs": [
    {
     "data": {
      "text/plain": [
       "<sklearn.metrics._plot.confusion_matrix.ConfusionMatrixDisplay at 0x23f294dbe80>"
      ]
     },
     "execution_count": 164,
     "metadata": {},
     "output_type": "execute_result"
    },
    {
     "data": {
      "image/png": "[encoded data removed]",
      "text/plain": [
       "<Figure size 640x480 with 2 Axes>"
      ]
     },
     "metadata": {},
     "output_type": "display_data"
    },
    {
     "data": {
      "image/png": "[encoded data removed]",
      "text/plain": [
       "<Figure size 640x480 with 2 Axes>"
      ]
     },
     "metadata": {},
     "output_type": "display_data"
    }
   ],
   "source": [
    "#print(confusion_matrix(y_test, y_pred))\n",
    "disp = ConfusionMatrixDisplay.from_estimator(est_star, X_test, y_test,\n",
    "    display_labels=est_star.classes_, cmap=plt.cm.Blues, normalize=\"true\",\n",
    ")\n",
    "disp.plot()"
   ]
  },
  {
   "cell_type": "markdown",
   "id": "291e1d6d",
   "metadata": {},
   "source": [
    "## Compare star-sentiment model to price-review training set "
   ]
  },
  {
   "cell_type": "code",
   "execution_count": 165,
   "id": "14b1011a",
   "metadata": {
    "ExecuteTime": {
     "end_time": "2023-02-23T08:18:29.533357Z",
     "start_time": "2023-02-23T08:18:29.519355Z"
    }
   },
   "outputs": [
    {
     "name": "stdout",
     "output_type": "stream",
     "text": [
      "1683\n"
     ]
    }
   ],
   "source": [
    "data = pd.read_csv('./survey_results/master_survey.csv', encoding='utf-8-sig')\n",
    "#data = data.sample(len(data))\n",
    "X = data['reviews']\n",
    "y = data['sentiment']\n",
    "print(len(X))"
   ]
  },
  {
   "cell_type": "code",
   "execution_count": 195,
   "id": "21492588",
   "metadata": {
    "ExecuteTime": {
     "end_time": "2023-02-23T08:34:02.858306Z",
     "start_time": "2023-02-23T08:34:00.297847Z"
    }
   },
   "outputs": [],
   "source": [
    "y_pred = est_star.predict(X)"
   ]
  },
  {
   "cell_type": "code",
   "execution_count": 196,
   "id": "126039f2",
   "metadata": {
    "ExecuteTime": {
     "end_time": "2023-02-23T08:34:03.537917Z",
     "start_time": "2023-02-23T08:34:03.529918Z"
    }
   },
   "outputs": [
    {
     "name": "stdout",
     "output_type": "stream",
     "text": [
      "281 337\n"
     ]
    }
   ],
   "source": [
    "total = len(y)\n",
    "hits = 0\n",
    "for i in range(len(y)):\n",
    "    if y[i].lower() == y_pred[i]:\n",
    "        hits += 1\n",
    "print(hits, total)"
   ]
  },
  {
   "cell_type": "code",
   "execution_count": 197,
   "id": "b2c88f1e",
   "metadata": {
    "ExecuteTime": {
     "end_time": "2023-02-23T08:34:03.928917Z",
     "start_time": "2023-02-23T08:34:03.921919Z"
    }
   },
   "outputs": [
    {
     "data": {
      "text/plain": [
       "0.8338278931750742"
      ]
     },
     "execution_count": 197,
     "metadata": {},
     "output_type": "execute_result"
    }
   ],
   "source": [
    "hits/total\n",
    "#Output ~ 0.84 -- nearly 8-9 points lower than price-sentiment model!! with 50x more data. "
   ]
  },
  {
   "cell_type": "markdown",
   "id": "88160df0",
   "metadata": {},
   "source": [
    "## English reviews with numbers"
   ]
  },
  {
   "cell_type": "code",
   "execution_count": 116,
   "id": "4b6ede01",
   "metadata": {
    "ExecuteTime": {
     "end_time": "2023-01-21T07:00:16.225355Z",
     "start_time": "2023-01-21T07:00:16.216856Z"
    }
   },
   "outputs": [],
   "source": [
    "def has_numbers(inputString):\n",
    "    try:\n",
    "        return bool(re.search(r'\\d', inputString))\n",
    "    except:\n",
    "        #print('FAILURE:', inputString, type(inputString))\n",
    "        return False"
   ]
  },
  {
   "cell_type": "code",
   "execution_count": 117,
   "id": "bdf08867",
   "metadata": {
    "ExecuteTime": {
     "end_time": "2023-01-21T07:02:13.847800Z",
     "start_time": "2023-01-21T07:00:16.543918Z"
    }
   },
   "outputs": [
    {
     "name": "stderr",
     "output_type": "stream",
     "text": [
      "100%|██████████| 6955/6955 [01:57<00:00, 59.33it/s] \n"
     ]
    }
   ],
   "source": [
    "folder_vivino_translated = './vivino_data/'\n",
    "fname_list = glob(folder_vivino_translated + 'vivino_*')\n",
    "reviews = []\n",
    "ratings = []\n",
    "num_reviews = 0\n",
    "for fname in tqdm(fname_list):\n",
    "    df = pd.read_csv(fname, encoding='utf-8-sig')\n",
    "    df = df[(df['reviews'].apply(has_numbers))\n",
    "            & (df['detected_language'] == 'ENGLISH')]\n",
    "    num_reviews += len(df)\n",
    "    reviews.append(list(df['reviews']))\n",
    "    ratings.append(list(df['ratings']))"
   ]
  },
  {
   "cell_type": "code",
   "execution_count": 118,
   "id": "ad86c7a1",
   "metadata": {
    "ExecuteTime": {
     "end_time": "2023-01-21T07:02:13.939649Z",
     "start_time": "2023-01-21T07:02:13.849800Z"
    }
   },
   "outputs": [],
   "source": [
    "import itertools\n",
    "\n",
    "reviews = list(itertools.chain(*reviews))\n",
    "ratings = list(itertools.chain(*ratings))"
   ]
  },
  {
   "cell_type": "code",
   "execution_count": 119,
   "id": "ff8e69b0",
   "metadata": {
    "ExecuteTime": {
     "end_time": "2023-01-21T07:02:13.955314Z",
     "start_time": "2023-01-21T07:02:13.942301Z"
    },
    "scrolled": false
   },
   "outputs": [
    {
     "data": {
      "text/plain": [
       "467949"
      ]
     },
     "execution_count": 119,
     "metadata": {},
     "output_type": "execute_result"
    }
   ],
   "source": [
    "len(reviews)"
   ]
  },
  {
   "cell_type": "markdown",
   "id": "3fdb3c4d",
   "metadata": {},
   "source": [
    "# SCRATCH PAD :"
   ]
  },
  {
   "cell_type": "code",
   "execution_count": 120,
   "id": "5e8812d1",
   "metadata": {
    "ExecuteTime": {
     "end_time": "2023-01-21T07:02:13.970443Z",
     "start_time": "2023-01-21T07:02:13.958318Z"
    }
   },
   "outputs": [],
   "source": [
    "fmoney = './money_words.txt'\n",
    "with open(fmoney, 'r', encoding='utf-8') as file:\n",
    "    money_words = [line.rstrip() for line in file]"
   ]
  },
  {
   "cell_type": "code",
   "execution_count": 121,
   "id": "d5dad4e6",
   "metadata": {
    "ExecuteTime": {
     "end_time": "2023-01-21T07:02:15.683949Z",
     "start_time": "2023-01-21T07:02:13.972431Z"
    }
   },
   "outputs": [],
   "source": [
    "money_reviews = []\n",
    "money_ratings = []\n",
    "for i, s in enumerate(reviews):\n",
    "    if any(money in s for money in money_words):\n",
    "        money_reviews.append(s)\n",
    "        money_ratings.append(ratings[i])"
   ]
  },
  {
   "cell_type": "code",
   "execution_count": 122,
   "id": "0879e3c9",
   "metadata": {
    "ExecuteTime": {
     "end_time": "2023-01-21T07:02:15.747238Z",
     "start_time": "2023-01-21T07:02:15.685949Z"
    }
   },
   "outputs": [
    {
     "name": "stdout",
     "output_type": "stream",
     "text": [
      "80662 out of 467949 of reviews with numbers involve money.\n",
      "17 %\n"
     ]
    },
    {
     "data": {
      "text/html": [
       "<div>\n",
       "<style scoped>\n",
       "    .dataframe tbody tr th:only-of-type {\n",
       "        vertical-align: middle;\n",
       "    }\n",
       "\n",
       "    .dataframe tbody tr th {\n",
       "        vertical-align: top;\n",
       "    }\n",
       "\n",
       "    .dataframe thead th {\n",
       "        text-align: right;\n",
       "    }\n",
       "</style>\n",
       "<table border=\"1\" class=\"dataframe\">\n",
       "  <thead>\n",
       "    <tr style=\"text-align: right;\">\n",
       "      <th></th>\n",
       "      <th>reviews</th>\n",
       "      <th>ratings</th>\n",
       "    </tr>\n",
       "  </thead>\n",
       "  <tbody>\n",
       "    <tr>\n",
       "      <th>0</th>\n",
       "      <td>Very nice black fruits, and expressive tannins...</td>\n",
       "      <td>4.0</td>\n",
       "    </tr>\n",
       "    <tr>\n",
       "      <th>1</th>\n",
       "      <td>Rather tasty, but not eager to drop 60 dollars...</td>\n",
       "      <td>4.0</td>\n",
       "    </tr>\n",
       "    <tr>\n",
       "      <th>2</th>\n",
       "      <td>Stellar! . . 2018 vintage, 8/2022, $54. . Dark...</td>\n",
       "      <td>5.0</td>\n",
       "    </tr>\n",
       "    <tr>\n",
       "      <th>3</th>\n",
       "      <td>Nice well balanced cab with big vanilla notes ...</td>\n",
       "      <td>5.0</td>\n",
       "    </tr>\n",
       "    <tr>\n",
       "      <th>4</th>\n",
       "      <td>Dark cherry, white pepper, smoke on the expres...</td>\n",
       "      <td>4.5</td>\n",
       "    </tr>\n",
       "  </tbody>\n",
       "</table>\n",
       "</div>"
      ],
      "text/plain": [
       "                                             reviews  ratings\n",
       "0  Very nice black fruits, and expressive tannins...      4.0\n",
       "1  Rather tasty, but not eager to drop 60 dollars...      4.0\n",
       "2  Stellar! . . 2018 vintage, 8/2022, $54. . Dark...      5.0\n",
       "3  Nice well balanced cab with big vanilla notes ...      5.0\n",
       "4  Dark cherry, white pepper, smoke on the expres...      4.5"
      ]
     },
     "execution_count": 122,
     "metadata": {},
     "output_type": "execute_result"
    }
   ],
   "source": [
    "dm = pd.DataFrame({'reviews': money_reviews, 'ratings': money_ratings})\n",
    "print(len(dm), 'out of', len(reviews),\n",
    "      'of reviews with numbers involve money.')\n",
    "print(int(len(dm) / len(reviews) * 100), '%')\n",
    "dm.head()"
   ]
  },
  {
   "cell_type": "code",
   "execution_count": 123,
   "id": "03a00e12",
   "metadata": {
    "ExecuteTime": {
     "end_time": "2023-01-21T07:02:15.762953Z",
     "start_time": "2023-01-21T07:02:15.750085Z"
    }
   },
   "outputs": [
    {
     "name": "stdout",
     "output_type": "stream",
     "text": [
      "less than 3: 4709\n",
      "more than 3: 66455\n"
     ]
    }
   ],
   "source": [
    "print('less than 3:', len(dm[(dm['ratings'] < 3)]))\n",
    "print('more than 3:', len(dm[(dm['ratings'] > 3)]))"
   ]
  },
  {
   "cell_type": "code",
   "execution_count": 124,
   "id": "980efa5b",
   "metadata": {
    "ExecuteTime": {
     "end_time": "2023-01-21T07:02:15.794866Z",
     "start_time": "2023-01-21T07:02:15.765953Z"
    }
   },
   "outputs": [],
   "source": [
    "dneg = dm[(dm['ratings'] < 3)]\n",
    "dpos = dm[(dm['ratings'] > 3)]"
   ]
  },
  {
   "cell_type": "code",
   "execution_count": 125,
   "id": "c3a958e8",
   "metadata": {
    "ExecuteTime": {
     "end_time": "2023-01-21T07:02:15.810885Z",
     "start_time": "2023-01-21T07:02:15.796864Z"
    },
    "scrolled": true
   },
   "outputs": [
    {
     "name": "stdout",
     "output_type": "stream",
     "text": [
      "This was quite different than my expectations and not in a good way. Not quite in the $2 buck chuck range but for a $40-60 Napa Cab from 2016, I expect more. Disappointing.\n",
      "\n",
      "Taste like fruit juice. No hints of anything. Gave me terrible headache and wife as well. Drinks like a $10 wine . No idea why people rate higher . You wonder pallets and opinions\n",
      "\n",
      "Very fruity and easy to drink. Not acidity or tanning. Low subtle and body is light not thick. Had better $20 wine then this one. Will get again if need a fruity wine.\n",
      "\n",
      "Good, but considering the price, will turn elsewhere next time. And I got it for $42.99. Perhaps it was a different variety of Groth Cab.\n",
      "\n",
      "I really did not enjoy this at all. It was blah. I decanted and after an hour it was improved but that was from blah to eh. Technical terms these are not. I think I am just not a Cab Franc fan. It must be me. I really could not detect much fruit or much of anything beyond a mid range sourness. Would have liked this lesson at $40 not $400 but such is life.\n",
      "\n",
      "It's ok. A little bitter? harsh? green? I'm not sure how to describe it. Also plum, raspberry, pepper. $13. 13.5% ABV.\n",
      "\n",
      "Medium purple color with some red in it. Medium transillumination. Light to medium bodied in mouthfeel. Red gala Apple, strawberry fruit roll up and red plum nose. Hits you with strawberry liquorice. Light tannins. Doesn't linger in your mouth. Inoffensive. Taylor Swift of wines: way overpriced, overhyped and not much substance. Waste of 50$. While we didn't pour it down the sink, it is a lightweight, sad little bottle.\n",
      "\n",
      "A little flat. Red fruit and herbs, tastes a little light but compliments well with food, pizza or light fare. A good entry level intro to Chianti. Well priced at $11\n",
      "\n",
      "Red and a hint of dark berries in the bouquet. Not as concentrated as more expensive Ripasso wines ( Zenato.. ). Slightly alcoholic scent. Medium heavy, medium dry minus. touch of pomegranate and spice. . Slightly bitter aftertaste. . Ripasso: Already pressed and fermented expensive Amarone grapes get topped up with cheaper Valpolicella. Nice every- day companion for pasta/ pizza / red meat. The € 3-4 more for the \"stronger\" Ripasso are a good invest if that is an option for you. O.k. Price- value. .\n",
      "\n",
      "Perhaps a bad one from the batch. I found it disappointingly light, with acidic finish. Red fruit and a lack of the expected full warmth and depth from a ripasso. 2.5 as it should have given more for €18 on sale for €10.\n",
      "\n",
      "Not good enough given price. Did pay 15 euros for it though\n",
      "\n",
      "Orribile bouquet, not balanced, payed more than 12€. Do not buy.\n",
      "\n",
      "Bought it as it was on the top 20 under $20 list. Wasn't a fan...too sweet with little flavor punctuation.\n",
      "\n",
      "Second rating here, definitely better than last time out but the same one dimensional wine. Not bad just not really worth the price and that 97 point score is still mad! For a Bourdeaux merlot if it was $7-10 cheaper it would be a much higher rating.\n",
      "\n",
      "Whoever it was at Decanter who rated this 97 points needs to explain themselves. I know that no true 97 point wine is selling for $23 but I at least expected something decent. This wine is below average at best, overpriced by double. . Nose has some herb and cola, maybe some damp floor. Wine is very thin on the palate, almost watery. There is acidity and alcohol without any real elegance. Some tannic bite but it's lost. Oak & red fruit on the short finish. . . I will be returning the 2nd bottle. It's garbage\n",
      "\n",
      "2017 bottle, Bought in Willamette in 2021. Earthy. Not as smooth as expected from Pinot noir. Pricier. Not worth the $37. Burns a little.\n",
      "\n",
      "Awful, thin, acidic, one dimensional swill. Really not the bold juicy Brunello I was expecting for almost $50. Had the 2011.\n",
      "\n",
      "This used to be a decent go-to wine for about $10. The 2015 is rather muted in profile and bouquet. It wasn't bad; it simply lacked any nuances to make it unique or stand out. Yet, the party crowed seemed to drink it up quickly.\n",
      "\n",
      "2.5 for 3x msrp I had to pay. Else a good win at $10, oak plum coffee blackberry. Can’t complain. Goes with duck.\n",
      "\n",
      "Mama thought it had too much bite. But for 2 for $20 at bevmo I thought it was good. In fact o thought it was softer and smoother than yesterday’s. .\n",
      "\n",
      "Bottle description- \"On the nose are hints of coffee, violets and blackberry. The wine is spicy and finishes with smoky accents of vanilla and oak'\". . My thoughts- I bought this bottle at Sams for around $9. The description on the label sounded great, but after trying a glass it did not meet my expectations. This Malbec is smooth, has mellow flavors, and is easy to drink. At best, use this as a table wine.\n",
      "\n",
      "''Bout what one would expect for $11.\n",
      "\n",
      "Save your money and buy something better for $5 more. The only flavors are lemon, petrol and cat piss. Waste of $6\n",
      "\n",
      "This bottle came in short of my expectations knowing people may say what you want from a $10 bottle, all I can say is that this bottle has good balance between acidity and sweetness, lack of body and structure kills\n",
      "\n",
      "Mediocre, not bad but the same quality you can get in Germany for 3-4€. Hyped label\n",
      "\n",
      "Meh. Not horrible but there are definitely better ways to spend 21$\n",
      "\n",
      "Green apple, steel, and honey. A bit sweet for my taste (still off-dry, but I like my Rieslings bone dry), and not as balanced as some of my favorites from Alsace or the Finger Lakes. Good for the price (~$10) but not a great wine.\n",
      "\n",
      "Delhaize selling this for $20 USA when they have a basic, crappy pays d’oc merlot that tastes the same for €3 eur. Stay away from Delhaize! This wine is v average.\n",
      "\n",
      "Lousy and not much flavor. This is a 2 buck chuck.\n",
      "\n",
      "Paid double at a restaurant $24 but really went well with bar food. Which we normally don’t do we wanted pizza but the restaurant’s oven broke! 😜\n",
      "\n",
      "Plum. Very rounded and smooth. Dry but soft tannins. Bought it on sale for CAD$14.95. Tried it as part of a Washington State wine seminar. Not my fav.\n",
      "\n",
      "Highly recommended but slightly let down. Not much of a merlot guy though. Would probably be better with age. Being only $15 a bottle it is definitely worth a try if you are a merlot person.\n",
      "\n",
      "TJ $10. Oops, bought it again, \"short mouth feel\" as opposed to a full mouth feel, medium tannins, short but okay finish. Hard to discern the flavors. Still the same. 11/1/18. DBA!!!!!\n",
      "\n",
      "Not bad for $10.\n",
      "\n",
      "Meh. Average merlot for a more than average price. Smells of dark berries, tastes of them too, along with tobacco and mint. Unsubtle, uninteresting. Yeah, the name is cute, and the label is provocatively minimalist, but this is a bog standard, £5 bargain-bin, end-of-the-night glugger.\n",
      "\n",
      "While I am a big fan of MOST of Charles Smith’s offerings (especially those made by he and Charles Bieler), this wine is nothing more than mass produced, mass-market grocery store plonk with a catchy label! For a couple of bucks more you can buy the much better Cabernet offering and enjoy a decent sipper! PASS this by...Not recommended 1.9...\n",
      "\n",
      "Pretty lame. Oaky. Tannin. Definitely not \"velvety\" like other years. I guess the good thing was it was only 12 buck chuck..\n",
      "\n",
      "Tastes like a wine in its price point. Not a ton of flavor, but not bad with food. Fruity and mellow. Bought on sale for $8.99 and wouldn’t spend more than that.\n",
      "\n",
      "My expectations of this wine were probably too high - I found it lighter/fruitier/sweeter than I was expecting...I'm glad the price has come down in Canada at Everything Wine, but for $18 I wouldn't buy it again.\n",
      "\n",
      "I got this on BOGO at Publix for $15.00. That’s $7.50 a bottle. It’s priced like night train and tastes like thunderbird. . . That’s one for you and two for me but toooniggghhhntttt. . . I’ll be rolling like a freight train. . flying like an aeroplane. . feeling like a space brain. . One more time tonight.\n",
      "\n",
      "Dry, thin and light, not a bad finish, just nondescript. Not bad for a $9.95 price tag. Would not spend more than that.\n",
      "\n",
      "14$ Whole Foods Market street San Francisco\n",
      "\n",
      "Light, much heavy meal. $11\n",
      "\n",
      "Very unimpressed, specially since this was not a cheap bottle for purchase. Don't spend more then $6.99 for this please!\n",
      "\n",
      "Thin, tannic waste of merlot. 11 bucks and Nothing to see here.\n",
      "\n",
      "Gutted - it was CORKED. I love a good Burgundy Pinot. But I knew as soon as the corked popped, with a slimy residue on the bottom half of the cork - this was 'a gonner'. The nose did reveal a hint at what could have been as dark cherries, smokey bacon, star anise, lavender and spice evoked a fine French Pinot Noir. Alas, the palate was the finest slippery pond water from Burgundy I had tried! To the sink it was. Langtons - I want my $50 back ...!!\n",
      "\n",
      "This wine is relatively flavorless and lacks complexity. You can get a better bottle of pino for under $25. Save your money.\n",
      "\n",
      "I had heard a lot of good things about this wine.. but it was not at all what I expected. I found it to be a very tepid in all flavor notes, Smooth tannins at first, but a lingering acidic tannin on finish. If you can get this one for under $50, I would recommend it as 2nd or 3rd bottle of the evening. .\n",
      "\n",
      "Poor price to quality ratio, wine is okay with nice expression of red fruits out of the merlot and Pomerol terroir earthiness and clay. Also quite austere upon opening, might need an hour plus to open up and mellow out. . . I would definitely recommend looking elsewhere. I'd pay around $50-60 for this bottle not $220. Perhaps a few more years laying down would bring out the quality but I wouldn't be willing to place money on that bet when there are so many other options. .\n",
      "\n",
      "Drinkable, nothing noteworthy or wonderful. You can do better at the price point. Unless it is on sale for less than $12, then you probably can’t.\n",
      "\n",
      "Balanced but uninteresting. For $10 for the magnum, might be okay for party.\n",
      "\n",
      "The lesson here is don't buy a cheap wine with a chicken on the label. This wine cost me $15 ... which is about the same price you'd pay for a liter of drain cleaner where I live. I suspect drain cleaner would be less nasty on the nose. . I honestly don't know how this wine has scored so well amongst other reviewers. It's not quite a dog but is pretty bombastic. You can almost taste the hangover.\n",
      "\n",
      "Lacks body. Ok for c£6\n",
      "\n",
      "Not a particularly good wine, but for $12 I shouldn't complain too loudly. Though while it is cheaper than many of the $15-$18 CDR whites you can find, I think this is worse value. The nose is shy and the palate flavorless, with vague stonefruits and pineapple making it through but anything else is lost to dilution.\n",
      "\n",
      "Pretty solid for $7 and would pair with any chicken dish or even brunch. Strong nose of green apples but an almost sour/over ripened finish.\n",
      "\n",
      "Not my type of wine. The flavours were rather indistinct with a bit too much sweetness for my liking. At £6 from the local SPAR whilst on holiday it proved an acceptable top of to supplies.\n",
      "\n",
      "Facts: Luberon (Rhône valley), grapes?, some unknown time in oak. 👀: clear, transparent, some particles. 👃: fresh, a bit oaky. 👅: creamy, greasy, a bit unbalanced due to the over usage of oak. QPR: okish @ 6,5 €uros (Vivino's average price). Comment: I actually paid the double as I bought it in Spain. Not worth that.\n",
      "\n",
      "Meh. $9.99 for 750 ml. Very dry, very middling.\n",
      "\n",
      "An ineventful white. But cheap at $9 a bottle.\n",
      "\n",
      "Straw color (a la Chardonnay). Low viscosity. Smell of lemons and stone fruit (peaches). Nose was creaminess and green apple with a mild oak flavor. Not a great deal of complexity through the finish, however; mild tropical fruit flavors (perhaps a by-product of the vintage). Finish with a great deal of minerality and slight astringentness (pineapple acidity), not quite my style. . . Worked fairly well with a cheeseburger and spinich/strawberry/sugary salad though. Good value at ~$10, though.\n",
      "\n",
      "As good as you're going to get for under 10$. No outstanding aroma or taste but well balanced if extremely generic.\n",
      "\n",
      "Smells almost skunky. One of the worst wines we have had. Lots of burn. Pretty expensive for a cooking wine ($10).\n",
      "\n",
      "For $6 you won't find a lower priced white from the Southern Rhone. Good with food but very simple.\n",
      "\n",
      "$10 at Whole Foods. Too tart and unpleasant. Couldn’t finish bottle and ended up using it as cooking wine.\n",
      "\n",
      "I'd put it on par with a box of franzia. Paid 8 dollars and I paid too much.\n",
      "\n",
      "Now tried the ‘15 alongside some Tasmanian Pinots from Coal creek. Pinots less than half the price ( which was part of the challenge). Dry. Long tannic taste though not unpleasant. More earth and dark fruits than leather and tobacco. For the price >€80 it was blown away by the Tasmanian Pinots which had a wider flavour profile and longer taste. But as long as people buy French and Italian wines at these exorbitant prices they will continue to charge them.\n",
      "\n",
      "Not worth $70\n",
      "\n",
      "Marques de Murrieta | Reserva | 2009. . \"Aromas of tobacco, black cassis, vanilla, red fruit, cocoa and hint of smoky oak. On the palate, soft tannins, light mixed fruits, smooth both, and silky, clean finish.\" . . WC 88 Points | Reviewed: 6.18.15 | Drink now through 2021 | $29 | 14% | Tempranillo | Plaza Cellars\n",
      "\n",
      "Reserve my harse ! Tired of Being taken around by flashy marketing and they are so poor !!! A $5 wine\n",
      "\n",
      "Apollo $30/20. Wine spectator 95. DBA\n",
      "\n",
      "Ok wine. Will not blow you away. Just ok. Can drink easy if around €15\n",
      "\n",
      "Castillo Ygay????? für 29 € ????\n",
      "\n",
      "42 EUR as indicated (1 Star then) out of range - available for <<20 EUR ....2010 not to be stored longer\n",
      "\n",
      "I found this lacked the silky tannins I expect from a reserva rioja. It also lacked fruit. I clearly overpaid at nearly £17. Disappointing\n",
      "\n",
      "Intense red colour. On the nose vanilla, cassis, some dark spices and leather. Tasting of spices, blackberries . Round, low tannins. High acidity, not perfectlyf balanced. A bit course, quite long aftertaste. Excellent value for 7 euros. Could cellar for a few more years\n",
      "\n",
      "2,0⭐️. 2016 Caro, Mendoza, Argentina. Cabernet Sauvignon & Malbec, Catena & Rothschild together we expected a nice wine.. But Something was wrong here.. not typical corked but tasted as a wine a 5 $.. Disappointment🤷‍♂️\n",
      "\n",
      "$65...?. WTF. I have another bottle... Maybe this one was traumatized..\n",
      "\n",
      "Ugh. Sorry. Don t see the point in this wine. $7 maybe.\n",
      "\n",
      "Overpriced. Not as good as the $35 brunello. A bit bitter\n",
      "\n",
      "Really wasn't impressed as I hoped to be. I have drunk superior £10-15/bottle bordeaux wines, just too 'thin' for my liking at the price point.\n",
      "\n",
      "2011 was a difficult year characterised by lower alcohol and higher tannin, this wine seems to have bucked the trend, 14%alc and rick black currant with light tannins. I'm an avid drinker of Cabernet franc and this wine taste flips all my drinking on its head, then again Parker thinks it's great, enough said about that. But it might explain the almost forced manipulated taste and overripe overbearing level of fruit, won't drink this wine again. To synthetic for my liking, but that's just my opinion.\n",
      "\n",
      "Over priced wine. LIDL, 19.99€. No legs not sexy at all.\n",
      "\n",
      "Rustic and grainy, with dried plum and black cherry. No wood, which could have added depth to this Sangiovese + Merlot blend out of Tuscany. Still, a great value at $15 US Retail. Paired with Carpaccio di Manzo at the \"Il Corso\" on 55th St in NYC.\n",
      "\n",
      "Nose - light on the nose, some raspberry. . Taste - oaky, red fruit, bland wine. Nothing standing out or making this worth drinking. . Inoffensive but slightly below average, not worth the £10.95 I paid and definitely not worth the £15 currently being asked on here.\n",
      "\n",
      "It was ok / liked it. Probably wouldn’t buy again for £16. Nose lovely. A bit weak on the palate.\n",
      "\n",
      "Purchased at Costco for less than $20. Served with lasagna. Didn’t love. Nose of leather smoke some spice; was missing the dried fruit component that I enjoy in this style of wine.\n",
      "\n",
      "Nice subtle rose but very over priced. Not worth the extra money when Tescos Italian blush tastes very similar at £3.99.\n",
      "\n",
      "Was not terribly impressed...it was fine, but not worth $28 IMHO! Lightly fruity, but much dryer than expected\n",
      "\n",
      "Going against the popularity grain here. It’s not great value for £17 (uk prices). Looks refreshing with its light (pretty) colour but medium in the mouth and doesn’t seem to go with sweet or salty foods. I wouldn’t drink it on its own...flummoxed! . Have to give 2 stars as don’t even want to finish the bottle...\n",
      "\n",
      "Highly rated rose from Provence in France , near the Med. . Unfortunately not my cup of tea due to high acid and dryness, would imagine a big winner for dry fans. . On the nose lovely floral perfume bouquet of rose blossom and hint of peach . . Big acid and citrus hit on the mouth , green apples and grapefruit with pleasant aftertaste mainly citrus . Very refreshing but over priced at £18\n",
      "\n",
      "First thing you have to ask yourself is, is it worth its £20 average price tag? No! This wine is overpriced by about £10. At £10 I would of given it a higher rating because it is nice with lovely aromatic floral notes, soft white peach and light red fruits on the nose. The palate isn't very smooth and the wine fails to excite my taste buds like I would expect from a £20 rose. Its good but with Chateau de Berne at around £11 and better than this, why would you buy Whispering Angel?\n",
      "\n",
      "Look - it’s a rose; if I’d bought it for £6 from Aldi I’d being be saying … yep it’s okay . Quite acidic. It’s heavy at 13% for a rose too . But ! No way is it a £20 bottle of rose . Stick to any Spanish garnacha based roses.\n",
      "\n",
      "Pleasant. Drinkable. Very light in aroma and flavor. Not a lot of substance. Wine did not hold well and 24 hours after opening, the taste had soured. There are much better rosés at this price point, thus my poor rating. Especially disappointed because we bought this wine after seeing it on The Wine Show. $25 at World Market, but now Trader Joe’s is carrying it for $20.\n",
      "\n",
      "Sorry, this wine is very average. Typical low-key French with no guts and not worth the $18 I paid. I prefer a $10 Mulderbosch.\n",
      "\n",
      "This is a fairly standard and bland rose. It meets the expectations of southern france: dry, flavorful, and lower acidity. Floral and strawberry notes blah blah blah is the feel of this wine. . Classic fun water. It's worth 10 or so, anything more is over rated. Much better rose can be found at 15 plus\n",
      "\n",
      "Smells fresh and fruity. On tasting it is dry, very bitter, unforgiving, and almost unpalatable. I don’t get what all the fuss is about? I wouldn’t pay £10 for a bottle, let alone drink it again.\n",
      "\n",
      "Good wine, very mineral and tends to be acidic. I put 2 stars for the price. You can get a better côte de Provence for less than 10 euros. Overrated\n",
      "\n",
      "1.5 L $70 . Over priced.\n",
      "\n",
      "Purchased it at Globus, they had it marked down. I understand why, now. CHF 25 is too much for this wine.\n",
      "\n",
      "Compared to the 2015, I'm disappointed with this years vintage. This rose lacked any real complexity or substance. It was almost as if it was watered down. I think that the mass popularity of this wine is making it hard for the producers to keep up with demand, ultimately negatively impacting the quality of the wine. It still has the general characteristics of a French rose, dry with slight grapefruit, but definitely not worth $20, and that's if you're finding it on sale.\n",
      "\n"
     ]
    }
   ],
   "source": [
    "for s in dneg['reviews'][0:100]:\n",
    "    print(s + '\\n')"
   ]
  },
  {
   "cell_type": "code",
   "execution_count": null,
   "id": "293b56bc",
   "metadata": {},
   "outputs": [],
   "source": []
  },
  {
   "cell_type": "code",
   "execution_count": 126,
   "id": "d50c9606",
   "metadata": {
    "ExecuteTime": {
     "end_time": "2023-01-21T07:02:15.826014Z",
     "start_time": "2023-01-21T07:02:15.813887Z"
    }
   },
   "outputs": [
    {
     "data": {
      "text/plain": [
       "80662"
      ]
     },
     "execution_count": 126,
     "metadata": {},
     "output_type": "execute_result"
    }
   ],
   "source": [
    "len(money_reviews)"
   ]
  },
  {
   "cell_type": "code",
   "execution_count": 127,
   "id": "017ebf19",
   "metadata": {
    "ExecuteTime": {
     "end_time": "2023-01-21T07:02:15.841020Z",
     "start_time": "2023-01-21T07:02:15.829015Z"
    }
   },
   "outputs": [],
   "source": [
    "import random"
   ]
  },
  {
   "cell_type": "code",
   "execution_count": 128,
   "id": "96b7f90a",
   "metadata": {
    "ExecuteTime": {
     "end_time": "2023-01-21T07:02:15.917741Z",
     "start_time": "2023-01-21T07:02:15.843925Z"
    },
    "scrolled": true
   },
   "outputs": [
    {
     "name": "stdout",
     "output_type": "stream",
     "text": [
      "Super Chianti Classico, we like a lot. Esp when paying £35 in a restaurant!\n",
      "\n",
      "This wine is fine. It's drinkable like 25-$28 dollar Pinot.\n",
      "\n",
      "Good, but not remarkable. As others have noted, a wine I’ll probably pull out for non-wine enthusiast guests. Dark purple, and medium bodied. Plum, sage and pepper on the nose, cherry on the pallet. Nice and round with medium tannins and medium / low acidity. Ends with a medium / long finish with similar profile. Aged in French oak 20 months, but it doesn’t come through very strong for me. Good enough wine for $19.\n",
      "\n",
      "Nice Cab for sale price of $10 CDN\n",
      "\n",
      "Not fruity, medium flavor, good value. $14 at Pearson’s. .\n",
      "\n",
      "Light, fruit-forward yet still good balance for $15\n",
      "\n",
      "Very good wine, red fruits and delicate tannins are present. I bought the magnum, which is good value (50€)\n",
      "\n",
      "Great value for $10.\n",
      "\n",
      "Velvet smooth, sophisticated wine for $28. I loved it!\n",
      "\n",
      "Reduced to £30.00 when I tried it. Very. nice rich. Open for at least 5 hours before drinking\n",
      "\n",
      "Smooth with body. Can be bought at $12 or less which makes it a 4*.\n",
      "\n",
      "3.6 - C: Garnet; N: Cherry, Plum, Strawberry, Black Forest Fruits, Tobacco; P: Blackberry, Cherry, Cranberry, Cassis & Peppercorn. Needs lots of time to breathe. Think 4+ hours in the decanter. Too young to be opened tbh. Give it another 8yrs. Med Body. Med Length. Was a little bit disappointed but mainly my fault because it is too young to be opened. I wasn't blown away by this Barolo opened in 2022. Would I buy it again at $70/btl if I did open it up in 8yrs. I don't think so. Was nice not great.\n",
      "\n",
      "First US Pinot I have ever tried, impressed with colour and depth. Also sustainable vineyard :) on special at my local Fresh Choice nz $19.99 .\n",
      "\n",
      "Good flavor and mouth feel, a bit pricey for the quality. At $65 it only gets a 68 on my QPR scale. Slainte ☘️\n",
      "\n",
      "Nice rounded haut Medoc 2005 - a. It light but balanced and a great value for price paid. In Hong Kong this around HKG dollars 200 - a good value at large\n",
      "\n",
      "A Great standby for a steal at only $11.97 / bottle @ total wine! Thanks for bringing some good things at great prices!\n",
      "\n",
      "3.7 A decent Rioja and well priced at £9.99 in the Waitrose 25 percent off offer. Vanilla and spice on the nose followed by strawberry, oak and soft tannins on the palate. A touch of spice to finish. Very smooth but a little one dimensional.\n",
      "\n",
      "Good buy for 16 bucks. Pretty oaky and tastes like a light chianti\n",
      "\n",
      "expected better one for €10 bought in Malaga\n",
      "\n",
      "LCBO TORONTO stated on special at $11.45.\n",
      "\n",
      "Saint bris 2020. €7.10 light acidic citrus very dry finish 72/100. . At the underground ex quarry winery unique atmosphere\n",
      "\n",
      "Great smoky, dry wine. The nose reminds me of mushroom and forest floor with a peppery undertone. The initial flavor is a mild stone and raspberry, yielding to a heavy (very heavy!) strawberry at first. That all dissipates after an hour or so, leaving a core of stone, forest floor, and tannic raspberry. It’s got a lot more body than most Pinot Noirs, with a long, super super dry finish. It’s a little pricy for what it is — I’d prefer $15-16– but its structure and the way it breathes is very well handled.\n",
      "\n",
      "Slightly unripe cherries, dark cherries and a hint of dark fruits mix nicely with cedar, chocolate, earth, minerals and light spice notes on the palate. Medium-minus body, mild-plus tannins, fair acidity and fair balance. An enjoyable wine. Went well with smoked pulled pork. . 3.4 stars. Fair QPR at $15.\n",
      "\n",
      "Under 15 bucks! Unbelievable deal. Perfect amount of sweet big wine\n",
      "\n",
      "This is a wonderful example of a Sonoma Cab. Woodsy nose like sticking your face in an evergreen hedge. Perfectly balanced with 13.9% abv and a caramel like finish so the oak does not overpower the senses. Light fruit flavors, more citrus notes, so this is more medium than full bodied. Great price point when I found for under $20 per bottle.\n",
      "\n",
      "Found this bottle at Binny's for $29. Was very pleasantly surprised for the price. Full bodied, a little smokey and dark purple pour. Definitely something to keep stocked in the cellar.\n",
      "\n",
      "This is a bold full bodied wine with nice dark berry fruits and my scale @55/100 tannins. We like the light leather, fruit ant tobacco nose. This is a great wine for $14-15 and worth the ~$20 you’ll pay in regular liquor stores. oak blackberry cherry leather tobacco\n",
      "\n",
      "Hmmm...a gift from my current and significant other as Jimmy might say. Light and fruity, bouncy, as I'd expect from a pinot. Cherry nose, slight bit of smoke, ripeness. The wine flavor is cherry with ripe overtones, raisons, maybe plum. The fluid texture is light and almost like 2 fluids, blended. Apple sauce, apple vinegar, but just a tad. Some wood that adds flavor texture. The color is a purple garnet. For 4 bucks, super good. At room temp, almost a creamy nature. Like the juice from a can of peaches.\n",
      "\n",
      "Very easy to drink, light, and fruity. Bought at Kroger, tag said $14.99 bought for $10.99\n",
      "\n",
      "Decent Merlot. Smooth enough. Pleasant but not memorable or good enough for me to buy again. £14 for a Merlot I expect to be wowed. I was not.\n",
      "\n"
     ]
    }
   ],
   "source": [
    "random.shuffle(money_reviews)\n",
    "for s in money_reviews[0:30]:\n",
    "    print(s + '\\n')"
   ]
  },
  {
   "cell_type": "code",
   "execution_count": 129,
   "id": "ab9b91f4",
   "metadata": {
    "ExecuteTime": {
     "end_time": "2023-01-21T07:02:26.185735Z",
     "start_time": "2023-01-21T07:02:15.920276Z"
    },
    "scrolled": true
   },
   "outputs": [
    {
     "name": "stderr",
     "output_type": "stream",
     "text": [
      "100%|██████████| 24/24 [00:10<00:00,  2.34it/s]\n"
     ]
    }
   ],
   "source": [
    "money_reviews_dict = dict(zip(money_words, [[] for _ in money_words]))\n",
    "for key in tqdm(money_reviews_dict.keys()):\n",
    "    for s in reviews:\n",
    "        if key.lower() in s.lower():\n",
    "            money_reviews_dict[key].append(s)"
   ]
  },
  {
   "cell_type": "code",
   "execution_count": 130,
   "id": "81c6da9d",
   "metadata": {
    "ExecuteTime": {
     "end_time": "2023-01-21T07:02:26.200741Z",
     "start_time": "2023-01-21T07:02:26.187737Z"
    },
    "scrolled": true
   },
   "outputs": [
    {
     "name": "stdout",
     "output_type": "stream",
     "text": [
      "symbol count\n",
      "$ 59490\n",
      "USD 1123\n",
      "CAD 3245\n",
      "AUD 855\n",
      "NZD 30\n",
      "EUR 4845\n",
      "dollar 1841\n",
      "buck 3460\n",
      "€ 4809\n",
      "euro 2751\n",
      "£ 7502\n",
      "pound 329\n",
      "GBP 80\n",
      "¥ 178\n",
      "円 8\n",
      "Yen 181\n",
      "JPY 57\n",
      "₣ 0\n",
      "franc 6145\n",
      "CHF 219\n",
      "₹ 0\n",
      "rupee 2\n",
      "₽ 112\n",
      "ruble 17\n"
     ]
    }
   ],
   "source": [
    "print('symbol', 'count')\n",
    "for k, v in money_reviews_dict.items():\n",
    "    print(k, len(v))"
   ]
  },
  {
   "cell_type": "code",
   "execution_count": 131,
   "id": "866f8b16",
   "metadata": {
    "ExecuteTime": {
     "end_time": "2023-01-21T07:02:26.215737Z",
     "start_time": "2023-01-21T07:02:26.203739Z"
    }
   },
   "outputs": [
    {
     "name": "stdout",
     "output_type": "stream",
     "text": [
      "59490 out of 80662 reviews with moneys have $\n",
      "73 %\n",
      "59490 out of 467949 reviews with numbers have $\n",
      "12 %\n"
     ]
    }
   ],
   "source": [
    "print(len(money_reviews_dict['$']), 'out of', len(money_reviews),\n",
    "      'reviews with moneys have $')\n",
    "print(int(len(money_reviews_dict['$']) / len(money_reviews) * 100), '%')\n",
    "print(len(money_reviews_dict['$']), 'out of', len(reviews),\n",
    "      'reviews with numbers have $')\n",
    "print(int(len(money_reviews_dict['$']) / len(reviews) * 100), '%')"
   ]
  },
  {
   "cell_type": "markdown",
   "id": "4cd24a0e",
   "metadata": {},
   "source": [
    "## Find reviews with duplicate money_words. Likely they are comparing their purchase to regular prices. "
   ]
  },
  {
   "cell_type": "code",
   "execution_count": 132,
   "id": "9faa6e9e",
   "metadata": {
    "ExecuteTime": {
     "end_time": "2023-01-21T07:02:28.596666Z",
     "start_time": "2023-01-21T07:02:26.217738Z"
    }
   },
   "outputs": [
    {
     "name": "stderr",
     "output_type": "stream",
     "text": [
      "80662it [00:02, 35321.86it/s]\n"
     ]
    }
   ],
   "source": [
    "money_words_freq_in_reviews = [0 for _ in money_reviews]\n",
    "for i, s in tqdm(enumerate(money_reviews)):\n",
    "    money_words_freq = [0 for _ in range(len(money_words))]\n",
    "    keys_found = []\n",
    "    for j, key in enumerate(money_words):\n",
    "        money_words_freq[j] = s.lower().count(key.lower())\n",
    "        if money_words_freq[j] > 0:\n",
    "            keys_found.append(key.lower())\n",
    "\n",
    "    money_words_freq_in_reviews[i] = [sum(money_words_freq), s, keys_found]"
   ]
  },
  {
   "cell_type": "code",
   "execution_count": 133,
   "id": "6320439f",
   "metadata": {
    "ExecuteTime": {
     "end_time": "2023-01-21T07:02:28.628669Z",
     "start_time": "2023-01-21T07:02:28.598669Z"
    },
    "scrolled": true
   },
   "outputs": [
    {
     "name": "stdout",
     "output_type": "stream",
     "text": [
      "Duplicates: 11905 out of 80662\n",
      "14 %\n"
     ]
    }
   ],
   "source": [
    "num_reviews_multiple_money_words = 0\n",
    "for row in money_words_freq_in_reviews:\n",
    "    if row[0] > 1:\n",
    "        num_reviews_multiple_money_words += 1\n",
    "\n",
    "print('Duplicates:', num_reviews_multiple_money_words, 'out of',\n",
    "      len(money_words_freq_in_reviews))\n",
    "print(\n",
    "    int(num_reviews_multiple_money_words * 100. /\n",
    "        len(money_words_freq_in_reviews)), '%')"
   ]
  },
  {
   "cell_type": "code",
   "execution_count": 134,
   "id": "5191431c",
   "metadata": {
    "ExecuteTime": {
     "end_time": "2023-01-21T07:02:28.815034Z",
     "start_time": "2023-01-21T07:02:28.630667Z"
    }
   },
   "outputs": [
    {
     "name": "stderr",
     "output_type": "stream",
     "text": [
      "80662it [00:00, 470706.10it/s]"
     ]
    },
    {
     "name": "stdout",
     "output_type": "stream",
     "text": [
      "Single $: 53888 out of 59490\n",
      "90 %\n",
      "Duplicate $: 5602 out of 59490\n",
      "9 %\n"
     ]
    },
    {
     "name": "stderr",
     "output_type": "stream",
     "text": [
      "\n"
     ]
    }
   ],
   "source": [
    "multi_dollarsign_reviews = []\n",
    "single_dollarsign_reviews = []\n",
    "for i, s in tqdm(enumerate(money_reviews)):\n",
    "    if s.lower().count('$') > 1:\n",
    "        multi_dollarsign_reviews.append(s)\n",
    "    elif s.lower().count('$') == 1:\n",
    "        single_dollarsign_reviews.append(s)\n",
    "\n",
    "print('Single $:', len(single_dollarsign_reviews), 'out of',\n",
    "      len(money_reviews_dict['$']))\n",
    "print(\n",
    "    int(len(single_dollarsign_reviews) * 100. / len(money_reviews_dict['$'])),\n",
    "    '%')\n",
    "\n",
    "print('Duplicate $:', len(multi_dollarsign_reviews), 'out of',\n",
    "      len(money_reviews_dict['$']))\n",
    "print(int(len(multi_dollarsign_reviews) * 100. / len(money_reviews_dict['$'])),\n",
    "      '%')"
   ]
  },
  {
   "cell_type": "code",
   "execution_count": 135,
   "id": "0dfd7310",
   "metadata": {
    "ExecuteTime": {
     "end_time": "2023-01-21T07:02:28.863040Z",
     "start_time": "2023-01-21T07:02:28.817037Z"
    },
    "scrolled": false
   },
   "outputs": [
    {
     "name": "stdout",
     "output_type": "stream",
     "text": [
      "One of our go-to wines. Less than $10 grab the nice Tempranillo. Cheers! 😍🍷\n",
      "\n",
      "Even below $10 per bottle, I was not impressed. Don't waste your money.\n",
      "\n",
      "For an $18 bottle, this sauvage is amazing. Very fruit forward with hints of toasted walnut. Really nice budget zero dosage.\n",
      "\n",
      "I think this may be my best under $20 Shiraz! What a regal wine, especially the French oak notes that sing through the whole taste experience. This Shiraz is produced from organic, low yielding vineyards in the McLaren Vale with minimal intervention. Halliday gave it 95. The nose and palate sync beautifully as rich dark berries, sage, salty hoy sin sauce, smoked dried meats and fine pepper and spices fill the senses. The palate is med-bodied, smooth, lifting and slightly drying at the end. A 95/100 (4.2).\n",
      "\n",
      "Good table wine Chianti, although over priced in the $20+ range. Well balanced and free of exception or complexity, easy to drink and pair.\n",
      "\n",
      "What an amazing Zin! It is even more amazing considering it is $19.99. Beautiful, smooth aromas of dark fruits, vanilla, light spice all meld together with soft tannins to produce a finish that lasts for days. All of the \"hotness\" seems to be gone after 3 years though we did decant the wine for 2 hours and enjoyed it very slowly. Beautiful! I have already purchased more :)\n",
      "\n",
      "Smells like rosewater. Tastes of cinnamon, bay leaf, raspberry, chocolate, pepper, smoke. An okay wine at $20/bottle but not worth more than that.\n",
      "\n",
      "Can’t add to other reviews about nose, flavors and color. Enjoyable wine with food, good value on sale at $9.99.\n",
      "\n",
      "Excellent big shiraz from the Barossa. Smoky, liqourice and leather comes through on the nose. Bargain at $20\n",
      "\n",
      "Not the best over $20 bottle I’ve had, but it’s good. Very bold, dark and blackberry ish. The blackberry stands out like me in college when everyone else had IPhones. So if that tickles your fancy, you will be happy!\n",
      "\n"
     ]
    }
   ],
   "source": [
    "import random\n",
    "\n",
    "random.shuffle(single_dollarsign_reviews)\n",
    "for s in single_dollarsign_reviews[0:10]:\n",
    "    print(s + '\\n')"
   ]
  },
  {
   "cell_type": "code",
   "execution_count": 136,
   "id": "58e0a07c",
   "metadata": {
    "ExecuteTime": {
     "end_time": "2023-01-21T07:02:28.878035Z",
     "start_time": "2023-01-21T07:02:28.866037Z"
    }
   },
   "outputs": [
    {
     "ename": "SyntaxError",
     "evalue": "invalid syntax (2494350585.py, line 1)",
     "output_type": "error",
     "traceback": [
      "\u001b[1;36m  File \u001b[1;32m\"C:\\Users\\steph\\AppData\\Local\\Temp\\ipykernel_5684\\2494350585.py\"\u001b[1;36m, line \u001b[1;32m1\u001b[0m\n\u001b[1;33m    import\u001b[0m\n\u001b[1;37m           ^\u001b[0m\n\u001b[1;31mSyntaxError\u001b[0m\u001b[1;31m:\u001b[0m invalid syntax\n"
     ]
    }
   ],
   "source": [
    "import"
   ]
  },
  {
   "cell_type": "code",
   "execution_count": null,
   "id": "fb8366ac",
   "metadata": {},
   "outputs": [],
   "source": []
  },
  {
   "cell_type": "code",
   "execution_count": null,
   "id": "7b74f808",
   "metadata": {},
   "outputs": [],
   "source": []
  },
  {
   "cell_type": "code",
   "execution_count": null,
   "id": "273a57fb",
   "metadata": {},
   "outputs": [],
   "source": []
  },
  {
   "cell_type": "code",
   "execution_count": null,
   "id": "f6b35c4c",
   "metadata": {},
   "outputs": [],
   "source": []
  },
  {
   "cell_type": "code",
   "execution_count": null,
   "id": "9a43e6df",
   "metadata": {},
   "outputs": [],
   "source": []
  },
  {
   "cell_type": "code",
   "execution_count": null,
   "id": "c4a88ddb",
   "metadata": {},
   "outputs": [],
   "source": []
  },
  {
   "cell_type": "code",
   "execution_count": null,
   "id": "8ae475b8",
   "metadata": {},
   "outputs": [],
   "source": []
  },
  {
   "cell_type": "code",
   "execution_count": null,
   "id": "79648c0e",
   "metadata": {},
   "outputs": [],
   "source": []
  },
  {
   "cell_type": "code",
   "execution_count": null,
   "id": "b4d6ce4e",
   "metadata": {},
   "outputs": [],
   "source": []
  },
  {
   "cell_type": "code",
   "execution_count": null,
   "id": "dbd7ea66",
   "metadata": {},
   "outputs": [],
   "source": []
  },
  {
   "cell_type": "code",
   "execution_count": null,
   "id": "b6b0bb6b",
   "metadata": {},
   "outputs": [],
   "source": []
  },
  {
   "cell_type": "code",
   "execution_count": null,
   "id": "b4c9d7e2",
   "metadata": {},
   "outputs": [],
   "source": []
  },
  {
   "cell_type": "code",
   "execution_count": null,
   "id": "45b89cc5",
   "metadata": {},
   "outputs": [],
   "source": []
  },
  {
   "cell_type": "code",
   "execution_count": null,
   "id": "4a5987fc",
   "metadata": {},
   "outputs": [],
   "source": []
  },
  {
   "cell_type": "code",
   "execution_count": null,
   "id": "3d906f34",
   "metadata": {},
   "outputs": [],
   "source": []
  },
  {
   "cell_type": "code",
   "execution_count": 9,
   "id": "72dac626",
   "metadata": {},
   "outputs": [],
   "source": [
    "import numpy as np"
   ]
  },
  {
   "cell_type": "code",
   "execution_count": 10,
   "id": "a099df89",
   "metadata": {},
   "outputs": [],
   "source": [
    "df = pd.read_csv(folder_vivino+'vivino_1163903.csv')\n",
    "#df = pd.read_csv(folder_vivino + 'vivino_1163903.csv')"
   ]
  },
  {
   "cell_type": "code",
   "execution_count": 11,
   "id": "1adedef6",
   "metadata": {
    "scrolled": false
   },
   "outputs": [
    {
     "name": "stdout",
     "output_type": "stream",
     "text": [
      "[]\n",
      "[22386, 8854, 7148, 8257]\n"
     ]
    },
    {
     "data": {
      "image/png": "[encoded data removed]",
      "text/plain": [
       "<Figure size 1280x960 with 1 Axes>"
      ]
     },
     "metadata": {},
     "output_type": "display_data"
    }
   ],
   "source": [
    "dr = df['user.reviews_count']\n",
    "print(np.log10([]))\n",
    "d1 = df[(dr <= 30)]['rating']\n",
    "d2 = df[(dr > 30) & (dr <= 100)]['rating']\n",
    "d3 = df[(dr > 100) & (dr <= 300)]['rating']\n",
    "d4 = df[(dr > 300)]['rating']\n",
    "#d5 = df[(dr>1000)]['rating']\n",
    "dd = [d1, d2, d3, d4]\n",
    "#dd = [d1,d2,d3,d4,d5]\n",
    "\n",
    "print([len(d) for d in dd])\n",
    "\n",
    "plt.figure(dpi=200)\n",
    "plt.boxplot(dd)\n",
    "plt.show()"
   ]
  },
  {
   "cell_type": "code",
   "execution_count": 12,
   "id": "85a8b763",
   "metadata": {},
   "outputs": [
    {
     "data": {
      "text/plain": [
       "<AxesSubplot: >"
      ]
     },
     "execution_count": 12,
     "metadata": {},
     "output_type": "execute_result"
    },
    {
     "data": {
      "image/png": "[encoded data removed]",
      "text/plain": [
       "<Figure size 640x480 with 1 Axes>"
      ]
     },
     "metadata": {},
     "output_type": "display_data"
    }
   ],
   "source": [
    "df.boxplot('rating')"
   ]
  },
  {
   "cell_type": "code",
   "execution_count": 13,
   "id": "8a4b7a37",
   "metadata": {},
   "outputs": [
    {
     "name": "stdout",
     "output_type": "stream",
     "text": [
      "[22386, 8854, 7148, 8257]\n"
     ]
    }
   ],
   "source": [
    "print([len(d) for d in dd])"
   ]
  },
  {
   "cell_type": "code",
   "execution_count": 14,
   "id": "7ff3a399",
   "metadata": {},
   "outputs": [
    {
     "data": {
      "text/plain": [
       "<matplotlib.legend.Legend at 0x12f94b23940>"
      ]
     },
     "execution_count": 14,
     "metadata": {},
     "output_type": "execute_result"
    },
    {
     "data": {
      "image/png": "[encoded data removed]",
      "text/plain": [
       "<Figure size 640x480 with 1 Axes>"
      ]
     },
     "metadata": {},
     "output_type": "display_data"
    }
   ],
   "source": [
    "plt.hist(dd, label=[1, 2, 3, 4], bins=20)\n",
    "plt.legend()"
   ]
  },
  {
   "cell_type": "code",
   "execution_count": null,
   "id": "0f80808b",
   "metadata": {},
   "outputs": [],
   "source": []
  },
  {
   "cell_type": "code",
   "execution_count": null,
   "id": "b2ccb33d",
   "metadata": {},
   "outputs": [],
   "source": []
  },
  {
   "cell_type": "code",
   "execution_count": 15,
   "id": "854b0325",
   "metadata": {},
   "outputs": [
    {
     "name": "stdout",
     "output_type": "stream",
     "text": [
      "4 stars.....earthy, with woody taste, smooth yet full bodied....a delight to have on a saturday nite in....well worth the 20 euro price tag\n"
     ]
    }
   ],
   "source": [
    "print(df['review'][0])"
   ]
  },
  {
   "cell_type": "code",
   "execution_count": 16,
   "id": "b1a4d243",
   "metadata": {},
   "outputs": [
    {
     "data": {
      "text/plain": [
       "0        4 stars.....earthy, with woody taste, smooth y...\n",
       "1        medium bodied rioja. dark red with a brownish ...\n",
       "2        not quite as good as i remembered it from my f...\n",
       "3        this is a rioja staple. as classic as it gets!...\n",
       "4        very good easy to drink wine. med+ tannins. oa...\n",
       "                               ...                        \n",
       "46641                 다시사진않을듯?. 원래49000원짜리 셋트로샀음. 맥마니스가 최고\n",
       "46642    litt for besk for min smak. ikke noe jeg kjøpe...\n",
       "46643            sem comentários, simplesmente sensacional\n",
       "46644                               sauer und unausgewogen\n",
       "46645    91/100. . 진함. . 익은 체리. 템프라니오에서 오는 향. . 코코넛. 초콜...\n",
       "Name: review, Length: 46646, dtype: object"
      ]
     },
     "execution_count": 16,
     "metadata": {},
     "output_type": "execute_result"
    }
   ],
   "source": [
    "money_reviews = df['review'].str.lower()\n",
    "\n",
    "money_reviews"
   ]
  },
  {
   "cell_type": "code",
   "execution_count": 17,
   "id": "d21bb730",
   "metadata": {},
   "outputs": [
    {
     "data": {
      "text/plain": [
       "'no comments, simply sensational'"
      ]
     },
     "execution_count": 17,
     "metadata": {},
     "output_type": "execute_result"
    }
   ],
   "source": [
    "from deep_translator import GoogleTranslator\n",
    "to_translate = 'sem comentários, simplesmente sensacional'\n",
    "translated = GoogleTranslator(\n",
    "    source='auto', target='en').translate(to_translate)\n",
    "translated\n",
    "# outpout -> Ich möchte diesen Text übersetzen"
   ]
  },
  {
   "cell_type": "code",
   "execution_count": 18,
   "id": "ef290e39",
   "metadata": {},
   "outputs": [
    {
     "data": {
      "text/plain": [
       "<function matplotlib.pyplot.scatter(x, y, s=None, c=None, marker=None, cmap=None, norm=None, vmin=None, vmax=None, alpha=None, linewidths=None, *, edgecolors=None, plotnonfinite=False, data=None, **kwargs)>"
      ]
     },
     "execution_count": 18,
     "metadata": {},
     "output_type": "execute_result"
    }
   ],
   "source": [
    "plt.scatter"
   ]
  },
  {
   "cell_type": "code",
   "execution_count": 19,
   "id": "edfd14fd",
   "metadata": {},
   "outputs": [],
   "source": [
    "import numpy as np"
   ]
  },
  {
   "cell_type": "code",
   "execution_count": 20,
   "id": "060177d4",
   "metadata": {},
   "outputs": [],
   "source": [
    "df = pd.read_csv(folder_vivino + 'vivino_1163903.csv')"
   ]
  },
  {
   "cell_type": "code",
   "execution_count": 21,
   "id": "1961b5a2",
   "metadata": {},
   "outputs": [
    {
     "data": {
      "text/plain": [
       "Index(['Unnamed: 0', 'rating', 'review', 'language', 'time', 'user.id',\n",
       "       'user.user', 'user.name', 'user.followers_count',\n",
       "       'user.followings_count', 'user.ratings_count', 'user.ratings_sum',\n",
       "       'user.reviews_count', 'vintage.id', 'vintage.seo', 'vintage.name',\n",
       "       'vintage.status', 'vintage.image', 'wine.name', 'wine.region',\n",
       "       'wine.country', 'winery.name', 'winery.ratings_count',\n",
       "       'winery.ratings_average', 'winery.labels_count', 'winery.wines_count',\n",
       "       'flavours', 'likes_count', 'comments_count', 'vintage.year'],\n",
       "      dtype='object')"
      ]
     },
     "execution_count": 21,
     "metadata": {},
     "output_type": "execute_result"
    }
   ],
   "source": [
    "df.columns"
   ]
  },
  {
   "cell_type": "code",
   "execution_count": 22,
   "id": "701a9645",
   "metadata": {},
   "outputs": [
    {
     "name": "stderr",
     "output_type": "stream",
     "text": [
      "C:\\Users\\steph\\anaconda3\\lib\\site-packages\\pandas\\core\\arraylike.py:397: RuntimeWarning: divide by zero encountered in log10\n",
      "  result = getattr(ufunc, method)(*inputs, **kwargs)\n"
     ]
    },
    {
     "data": {
      "text/plain": [
       "<matplotlib.collections.PathCollection at 0x12fba74a3a0>"
      ]
     },
     "execution_count": 22,
     "metadata": {},
     "output_type": "execute_result"
    },
    {
     "data": {
      "image/png": "[encoded data removed]",
      "text/plain": [
       "<Figure size 1280x960 with 1 Axes>"
      ]
     },
     "metadata": {},
     "output_type": "display_data"
    }
   ],
   "source": [
    "plt.figure(dpi=200)\n",
    "plt.scatter(df['rating'], np.log10(df['user.ratings_count']),\n",
    "            marker='s', s=5, alpha=0.1)\n",
    "#plt.scatter(df['rating'],df['user.ratings_count'],  marker='s',s = 5, alpha=0.1)"
   ]
  },
  {
   "cell_type": "code",
   "execution_count": 23,
   "id": "40b2584c",
   "metadata": {
    "scrolled": true
   },
   "outputs": [
    {
     "name": "stdout",
     "output_type": "stream",
     "text": [
      "[]\n",
      "[13895, 17345, 12785, 2620]\n"
     ]
    },
    {
     "data": {
      "image/png": "[encoded data removed]",
      "text/plain": [
       "<Figure size 1280x960 with 1 Axes>"
      ]
     },
     "metadata": {},
     "output_type": "display_data"
    }
   ],
   "source": [
    "dr = df['user.reviews_count']\n",
    "print(np.log10([]))\n",
    "d1 = df[(dr <= 10)]['rating']\n",
    "d2 = df[(dr > 10) & (dr <= 100)]['rating']\n",
    "d3 = df[(dr > 100) & (dr <= 1000)]['rating']\n",
    "d4 = df[(dr > 1000)]['rating']\n",
    "#d5 = df[(dr>1000)]['rating']\n",
    "dd = [d1, d2, d3, d4]\n",
    "#dd = [d1,d2,d3,d4,d5]\n",
    "\n",
    "print([len(d) for d in dd])\n",
    "\n",
    "plt.figure(dpi=200)\n",
    "plt.boxplot(dd)\n",
    "plt.show()"
   ]
  },
  {
   "cell_type": "code",
   "execution_count": 24,
   "id": "61618f6c",
   "metadata": {},
   "outputs": [],
   "source": [
    "import seaborn as sns\n",
    "sns.set()"
   ]
  },
  {
   "cell_type": "code",
   "execution_count": 25,
   "id": "21ca6e32",
   "metadata": {},
   "outputs": [
    {
     "data": {
      "image/png": "[encoded data removed]",
      "text/plain": [
       "<Figure size 640x480 with 1 Axes>"
      ]
     },
     "metadata": {},
     "output_type": "display_data"
    }
   ],
   "source": [
    "sns.violinplot(data=dd)\n",
    "\n",
    "plt.tight_layout()"
   ]
  },
  {
   "cell_type": "code",
   "execution_count": 26,
   "id": "ac6ccef2",
   "metadata": {
    "scrolled": true
   },
   "outputs": [
    {
     "data": {
      "text/plain": [
       "0                                     ['earthy']\n",
       "1                                       ['plum']\n",
       "2                   ['cherry', 'oak', 'vanilla']\n",
       "3                         ['tobacco', 'vanilla']\n",
       "4        ['jam', 'oak', 'strawberry', 'vanilla']\n",
       "                          ...                   \n",
       "46641                                         []\n",
       "46642                                         []\n",
       "46643                                         []\n",
       "46644                                         []\n",
       "46645                                         []\n",
       "Name: flavours, Length: 46646, dtype: object"
      ]
     },
     "execution_count": 26,
     "metadata": {},
     "output_type": "execute_result"
    }
   ],
   "source": [
    "df['flavours']"
   ]
  },
  {
   "cell_type": "code",
   "execution_count": 27,
   "id": "56091718",
   "metadata": {
    "scrolled": false
   },
   "outputs": [],
   "source": [
    "import itertools\n",
    "flavour = [f.strip('[]').replace('\\'', '').split(',') for f in df['flavours']]\n",
    "flavour = [f.strip() for f in list(itertools.chain(*flavour))]"
   ]
  },
  {
   "cell_type": "code",
   "execution_count": 28,
   "id": "8cec3839",
   "metadata": {
    "scrolled": true
   },
   "outputs": [
    {
     "data": {
      "text/plain": [
       "[('oak', 2351),\n",
       " ('vanilla', 1756),\n",
       " ('cherry', 1286),\n",
       " ('leather', 1281),\n",
       " ('tobacco', 1087),\n",
       " ('plum', 895),\n",
       " ('earthy', 800),\n",
       " ('blackberry', 545),\n",
       " ('pepper', 486),\n",
       " ('oaky', 447),\n",
       " ('chocolate', 436),\n",
       " ('dark fruit', 416),\n",
       " ('red fruit', 396),\n",
       " ('smoke', 295),\n",
       " ('cheese', 238),\n",
       " ('licorice', 222),\n",
       " ('cedar', 220),\n",
       " ('balsamic', 204),\n",
       " ('black cherry', 196),\n",
       " ('raspberry', 175),\n",
       " ('black fruit', 172),\n",
       " ('strawberry', 163),\n",
       " ('cinnamon', 143),\n",
       " ('blackberries', 140),\n",
       " ('smoky', 139),\n",
       " ('blueberry', 135),\n",
       " ('blackcurrant', 93),\n",
       " ('black fruits', 86),\n",
       " ('coconut', 83),\n",
       " ('coffee', 82),\n",
       " ('black currant', 82),\n",
       " ('dark chocolate', 82),\n",
       " ('mushroom', 80),\n",
       " ('red cherry', 72),\n",
       " ('leathery', 68),\n",
       " ('cassis', 68),\n",
       " ('cocoa', 67),\n",
       " ('prune', 65),\n",
       " ('dill', 65),\n",
       " ('jam', 62),\n",
       " ('fig', 57),\n",
       " ('creamy', 57),\n",
       " ('caramel', 54),\n",
       " ('cigar box', 50),\n",
       " ('cigar', 49),\n",
       " ('savory', 46),\n",
       " ('prunes', 46),\n",
       " ('butter', 43),\n",
       " ('anise', 42),\n",
       " ('clove', 42),\n",
       " ('buttery', 41),\n",
       " ('forest floor', 40),\n",
       " ('citrus', 39),\n",
       " ('cranberry', 39),\n",
       " ('toast', 38),\n",
       " ('black cherries', 38),\n",
       " ('raisins', 38),\n",
       " ('raisin', 36),\n",
       " ('dried fruit', 36),\n",
       " ('red currant', 35),\n",
       " ('mint', 34),\n",
       " ('violet', 34),\n",
       " ('tomato', 34),\n",
       " ('cream', 33),\n",
       " ('minerals', 32),\n",
       " ('red plum', 31),\n",
       " ('stone', 31),\n",
       " ('raspberries', 31),\n",
       " ('black plum', 30),\n",
       " ('strawberries', 30),\n",
       " ('mushrooms', 30),\n",
       " ('blueberries', 29),\n",
       " ('orange', 27),\n",
       " ('cloves', 26),\n",
       " ('sour cherry', 26),\n",
       " ('game', 26),\n",
       " ('nutmeg', 25),\n",
       " ('toasty', 25),\n",
       " ('tar', 24),\n",
       " ('baking spices', 22),\n",
       " ('cola', 21),\n",
       " ('white pepper', 21),\n",
       " ('nutty', 21),\n",
       " ('pomegranate', 20),\n",
       " ('baking spice', 18),\n",
       " ('red cherries', 18),\n",
       " ('grass', 17),\n",
       " ('perfume', 17),\n",
       " ('minerality', 17),\n",
       " ('grilled meat', 17),\n",
       " ('eucalyptus', 17),\n",
       " ('apple', 17),\n",
       " ('dried herbs', 17),\n",
       " ('bramble', 15),\n",
       " ('rosemary', 15),\n",
       " ('almond', 15),\n",
       " ('menthol', 14),\n",
       " ('thyme', 14),\n",
       " ('ash', 14),\n",
       " ('honey', 14),\n",
       " ('mocha', 14),\n",
       " ('sweet tobacco', 13),\n",
       " ('stone fruit', 13),\n",
       " ('toffee', 12),\n",
       " ('graphite', 12),\n",
       " ('rhubarb', 12),\n",
       " ('slate', 11),\n",
       " ('orange peel', 11),\n",
       " ('blackcurrants', 11),\n",
       " ('black currants', 11),\n",
       " ('pencil shavings', 11),\n",
       " ('butterscotch', 11),\n",
       " ('sandalwood', 11),\n",
       " ('apricot', 11),\n",
       " ('brown sugar', 10),\n",
       " ('dried fig', 10),\n",
       " ('pear', 10),\n",
       " ('molasses', 9),\n",
       " ('salt', 9),\n",
       " ('asparagus', 9),\n",
       " ('tomato leaf', 9),\n",
       " ('cranberries', 9),\n",
       " ('black olive', 9),\n",
       " ('black plums', 9),\n",
       " ('musk', 8),\n",
       " ('tobacco leaf', 8),\n",
       " ('mulberry', 8),\n",
       " ('sour cherries', 8),\n",
       " ('lemon', 8),\n",
       " ('green apple', 8),\n",
       " ('oil', 8),\n",
       " ('black olives', 8),\n",
       " ('oily', 7),\n",
       " ('tomatoes', 7),\n",
       " ('banana', 7),\n",
       " ('milk chocolate', 7),\n",
       " ('bay leaf', 7),\n",
       " ('black licorice', 7),\n",
       " ('iron', 7),\n",
       " ('truffles', 7),\n",
       " ('sage', 7),\n",
       " ('peach', 7),\n",
       " ('green herbs', 7),\n",
       " ('cured meat', 7),\n",
       " ('almonds', 7),\n",
       " ('black raisin', 7),\n",
       " ('hazelnut', 6),\n",
       " ('potpourri', 6),\n",
       " ('blackberry jam', 6),\n",
       " ('red currants', 6),\n",
       " ('cherry cola', 6),\n",
       " ('espresso', 6),\n",
       " ('bell pepper', 6),\n",
       " ('vanilla bean', 5),\n",
       " ('lavender', 5),\n",
       " ('dried rose', 5),\n",
       " ('grapefruit', 5),\n",
       " ('cigars', 5),\n",
       " ('berry jam', 5),\n",
       " ('dried flowers', 4),\n",
       " ('black raspberry', 4),\n",
       " ('new leather', 4),\n",
       " ('gooseberry', 4),\n",
       " ('mulberries', 4),\n",
       " ('pencil lead', 4),\n",
       " ('dried cranberries', 4),\n",
       " ('red licorice', 4),\n",
       " ('plastic', 4),\n",
       " ('ripe blackberry', 4),\n",
       " ('dried cranberry', 4),\n",
       " ('campfire', 4),\n",
       " ('chalk', 4),\n",
       " ('ripe blackberries', 4),\n",
       " ('aniseed', 4),\n",
       " ('charcoal', 4),\n",
       " ('fennel', 4),\n",
       " ('acai berry', 4),\n",
       " ('dried strawberry', 3),\n",
       " ('bing cherry', 3),\n",
       " ('spiced plum', 3),\n",
       " ('acacia', 3),\n",
       " ('marzipan', 3),\n",
       " ('dried figs', 3),\n",
       " ('maraschino cherry', 3),\n",
       " ('star anise', 3),\n",
       " ('rose petal', 3),\n",
       " ('dried leaves', 3),\n",
       " ('lime', 3),\n",
       " ('oregano', 3),\n",
       " ('brambles', 3),\n",
       " ('hay', 3),\n",
       " ('bacon fat', 3),\n",
       " ('bell peppers', 3),\n",
       " ('apples', 3),\n",
       " ('celery', 3),\n",
       " ('blood orange', 3),\n",
       " ('wood smoke', 3),\n",
       " ('melon', 3),\n",
       " ('green bell pepper', 3),\n",
       " ('straw', 3),\n",
       " ('yeast', 3),\n",
       " ('dried strawberries', 3),\n",
       " ('red plums', 3),\n",
       " ('fruit cup', 3),\n",
       " ('rubber', 3),\n",
       " ('allspice', 3),\n",
       " ('citrus zest', 3),\n",
       " ('aniseeds', 3),\n",
       " ('ripe strawberry', 2),\n",
       " ('boysenberry', 2),\n",
       " ('incense', 2),\n",
       " ('lemon peel', 2),\n",
       " ('walnut', 2),\n",
       " ('coriander', 2),\n",
       " ('cherry syrup', 2),\n",
       " ('pastry', 2),\n",
       " ('walnuts', 2),\n",
       " ('fresh bread', 2),\n",
       " ('sourdough', 2),\n",
       " ('roasted tomato', 2),\n",
       " ('strawberry sauce', 2),\n",
       " ('lily', 2),\n",
       " ('jasmine', 2),\n",
       " ('pipe tobacco', 2),\n",
       " ('arugula', 2),\n",
       " ('dried blueberry', 2),\n",
       " ('clay dust', 2),\n",
       " ('quince', 2),\n",
       " ('potting soil', 2),\n",
       " ('oranges', 2),\n",
       " ('wax', 2),\n",
       " ('brioche', 2),\n",
       " ('truffle', 2),\n",
       " ('red berry jam', 2),\n",
       " ('chard', 2),\n",
       " ('apple blossoms', 2),\n",
       " ('lemon grass', 2),\n",
       " ('passion fruit', 2),\n",
       " ('lilac', 2),\n",
       " ('hoisin', 1),\n",
       " ('toasted almond', 1),\n",
       " ('maple syrup', 1),\n",
       " ('teriyaki', 1),\n",
       " ('coconuts', 1),\n",
       " ('apricots', 1),\n",
       " ('black raspberries', 1),\n",
       " ('peanuts', 1),\n",
       " ('geranium', 1),\n",
       " ('dragon fruit', 1),\n",
       " ('kalamata olive', 1),\n",
       " ('mission fig', 1),\n",
       " ('dried roses', 1),\n",
       " ('flint', 1),\n",
       " ('beef broth', 1),\n",
       " ('orange zest', 1),\n",
       " ('crushed gravel', 1),\n",
       " ('roasted meat', 1),\n",
       " ('beeswax', 1),\n",
       " ('marmalade', 1),\n",
       " ('hibiscus', 1),\n",
       " ('wild strawberries', 1),\n",
       " ('peach preserves', 1),\n",
       " ('szechuan peppercorn', 1),\n",
       " ('fennel seed', 1),\n",
       " ('elderflower', 1),\n",
       " ('rose hip', 1),\n",
       " ('boysenberries', 1),\n",
       " ('toasted almonds', 1),\n",
       " ('dried blackberry', 1),\n",
       " ('barbecue smoke', 1),\n",
       " ('bilberry', 1),\n",
       " ('buttered popcorn', 1),\n",
       " ('hazelnuts', 1),\n",
       " ('ginger', 1),\n",
       " ('cotton candy', 1),\n",
       " ('wet concrete', 1),\n",
       " ('orange rind', 1),\n",
       " ('quinine', 1),\n",
       " ('clay pot', 1),\n",
       " ('5-spice powder', 1),\n",
       " ('roasted hazelnuts', 1),\n",
       " ('toasted nuts', 1),\n",
       " ('lilies', 1),\n",
       " ('kiwi', 1),\n",
       " ('burnt caramel', 1),\n",
       " ('chestnuts', 1),\n",
       " ('coconut oil', 1),\n",
       " ('black currant jam', 1),\n",
       " ('juniper', 1),\n",
       " ('sugarplum', 1),\n",
       " ('volcanic rock', 1),\n",
       " ('mustard seed', 1),\n",
       " ('lemon zest', 1),\n",
       " ('green almond', 1),\n",
       " ('cat pee', 1),\n",
       " ('fresh strawberries', 1),\n",
       " ('bananas', 1),\n",
       " ('smoked meats', 1),\n",
       " ('chewing tobacco', 1),\n",
       " ('fresh coconut', 1),\n",
       " ('yogurt', 1),\n",
       " ('rose water', 1),\n",
       " ('apple blossom', 1),\n",
       " ('bread yeast', 1),\n",
       " ('black raisins', 1),\n",
       " ('biscuit', 1),\n",
       " ('gingerbread', 1),\n",
       " ('caramels', 1),\n",
       " ('baking chocolate', 1),\n",
       " ('bitter almonds', 1),\n",
       " ('marjoram', 1),\n",
       " ('honeysuckle', 1),\n",
       " ('black truffle', 1),\n",
       " ('peony', 1),\n",
       " ('wood ear', 1),\n",
       " ('cheesy', 1),\n",
       " ('fruit punch', 1),\n",
       " ('kerosene', 1),\n",
       " ('aleppo pepper', 1),\n",
       " ('peanut', 1),\n",
       " ('tree bark', 1),\n",
       " ('wet asphalt', 1),\n",
       " ('golden raisin', 1),\n",
       " ('cherry cough syrup', 1)]"
      ]
     },
     "execution_count": 28,
     "metadata": {},
     "output_type": "execute_result"
    }
   ],
   "source": [
    "from collections import Counter\n",
    "b = Counter(flavour).most_common()[1:]\n",
    "b"
   ]
  },
  {
   "cell_type": "code",
   "execution_count": 29,
   "id": "9fc651db",
   "metadata": {},
   "outputs": [
    {
     "data": {
      "text/plain": [
       "0        True\n",
       "1        True\n",
       "2        True\n",
       "3        True\n",
       "4        True\n",
       "         ... \n",
       "46641    True\n",
       "46642    True\n",
       "46643    True\n",
       "46644    True\n",
       "46645    True\n",
       "Name: review, Length: 46646, dtype: object"
      ]
     },
     "execution_count": 29,
     "metadata": {},
     "output_type": "execute_result"
    }
   ],
   "source": [
    "reviews = df['review'].str.lower()\n",
    "reviews.str.contains('$|£|€|dollar|euro|price|bucks|money')"
   ]
  },
  {
   "cell_type": "code",
   "execution_count": 31,
   "id": "a8e1e041",
   "metadata": {
    "scrolled": true
   },
   "outputs": [
    {
     "name": "stdout",
     "output_type": "stream",
     "text": [
      "(260) Richard Leaper:   Medium ruby. Nice level of American oak on the nose. Dry, elegant, medium tannins, good acidity, great balance, medium/long finish. Very good structure and appealing notes of vanilla and cedar. Classic Rioja. Definite rebuy. . 14.5% ABV. 96/4 Tempranillo/Graciano. $20 at Specs.\n",
      "\n",
      "(206) Jay McCarron:   3.9 or 4.0. Very nice for $15. Lots of tobacco and earthy tones, I got more red fruit than dark. Also a hint of pepper on the finish. Stood up to spicy food well. Good acidity and medium tannins, medium bodied. Medium finish.\n",
      "\n",
      "(66) Clay Cannaday:   For qpr it’s the best rioja I’ve enjoyed. Unreal complexity for the price point. Red fruit, leather, oak on the palate. Very happy to spend $15 on this.\n",
      "\n",
      "(630) Oenophiliac:   3.5 stars. Pretty good wine, but too high a price point at $20 in my humble opinion. Nose: very dark fruit, oak, blackberry and perfume. Taste: very sharp tannins with dark fruit, plum skin, dark raisin, and salt. Very acidic.\n",
      "\n",
      "(10) Tom Gorrell:   Great value. Can be found for under $20 at Costco. Nice light vanilla flavor, nice berry hints without being too sweet.\n",
      "\n",
      "(914) The Frugal Vinophile:   The last red of our Spanish wine tasting. Had a bit of an odd taste and aroma that a more experienced taster identified as band aid. Supposedly from a bacterial flaw. Not real strong but made for many down votes. Also this was the most expensive on our price sheet at $25. Nope.\n",
      "\n",
      "(25) Darren J:   Got it for $16 in Brooklyn. Nice but not that differentiated. Can't remember the taste...\n",
      "\n",
      "(6) Andres Goyanes:   My go-to wine for an enjoyable glass or two reflecting on a great week or accomplishment. Truly among the best Rioja red wines you can buy for under $20.\n",
      "\n",
      "(10) Nrs Nrs:   The best under $20. Strong and full of body!\n",
      "\n",
      "(22) Mohamed Amine:   I think it is waste of money for 27 cad $ i think there is better for this price range .2016 wine\n",
      "\n",
      "(3925) Rock and Roll Wino:   Always reliable Rioja for $30 that delivers every time. Lovely red & black fruit, vanilla, cedar, earth, tobacco leaves . . Rioja seems to be my summer jam for red wine . . Can’t go wrong with this\n",
      "\n",
      "(454) Matt Pulisic:   On the 👃🏼, vanilla, chocolate, almond. On the 👅, acidic, palate cleansing, marginally sweet. One of my all time fav Rioja’s under $20\n",
      "\n",
      "(154) Edward Rizk:   Great soft nose. Lots a fruit and spice in this medium body. Picked it up under $20. What a wine for the money. Will buy again and again.\n",
      "\n",
      "(2231) 3WineGuys-Scott:   B (excellent value at $20, for a tough vintage...an extremely drinkable/enjoyable Rioja!)\n",
      "\n",
      "(121) Vivino User:   Blackberry jam, black cherry, sour cherry, and cigar box up front, with am after taste of bay leaf, brown sugar, and molasses. Amazing value for $20.\n",
      "\n",
      "(2687) In Musica Veritas:   What a beautiful wine. Outstanding fruitful nose, solid nose, sound finish. I had given 3.5/5 for 2008 vintage but this is better. Such a precious buy under $20.\n",
      "\n",
      "(350) Alyssa Nadeau:   One of my very favorites! So drinkable - fruit forward with cherry and plum, slight vanilla and oak as well. Love it alone or with pasta or meat. Great value at $14!\n",
      "\n",
      "(610) Scot Diaz:   What a value. This wine should be one of the top 10 under $20. I am glad that it is a hidden gem. Great nose with jammy tones. Lots of legs and a smooth finish.\n",
      "\n",
      "(1471) Mike S:   Yup for $13 hard to beat. Smells great, like a much more expensive wine. Color is deep and taste is smooth and velvety. Finish is nice, lingers on your tongue.\n",
      "\n",
      "(170) Kelly Morrison:   Had it at the tapas and Rioja wine event at willow park with Sue March 3, 2020! Love this. This has been a fav for a while. 2 years in American oak barrels. $29.99\n",
      "\n",
      "(492) Marino Maronati:   I had a bargain all worth it for a $20 correct pricing ... just to reshape my palate before indulging the superior Italian crus (not the blending of everything of the French ones!!)\n",
      "\n",
      "(740) Jay MacRaild:   Elegant is the first word that comes to mind. Big vanilla & oak with balanced tannin, makes for a really smooth sipper. This would cost $75 if it was from France or Italy, great value here.\n",
      "\n",
      "(602) Patrick Matarazzo:   Tried this baby when on sale at Costco for about $12. It’s that price often and worth the try at the price point. It’s good and meets characteristics of a Spanish rioja. Would buy again\n",
      "\n",
      "(2035) Elliott Pickering:   This is one of my favorite go-to Spanish wines for the price. I've tried vintages from 2004-2008 and they are all very consistent in the palate and consistency. This wine could sell for as high as $27 a bottle but it's a bargain under $20. Cedar & Spice, dark fruits, smooth tannins.\n",
      "\n",
      "(204) Harout Balian:   Well balanced Spanish rioja; balanced fruit vs. earthiness; medium plus acidity, medium minus tannins, medium body, and medium finish. Very good overall given the $12-$15 price point at Costco. Will buy again.\n",
      "\n",
      "(263) Louise Knight:   A great full flavored rioja with that European flavor you don’t find in CA wines. A great weekday wine for only $15 a bottle. Went great with a pasta dish with sausage, onion, garlic, broccoli rabe and Romano cheese.\n",
      "\n",
      "(270) Alona Mattvey:   What a-not-too-shabby choice as welcome back bottle to share! Impressed at the $$ … 🧀 and 🍷 in the sunshine ☀️ (we weren’t too sure about the ‘outfit’ it was decked out in though 🤔 , I mean whatever floats your boat right?! 🤩. . Cedar on the 👃 certainly. Solidly structured. Full bodied. Beautiful ripe black fruits. Smooth and sweet (just enough), even the tannins (my favourite kind) 👌\n",
      "\n",
      "(1055) Mike S:   I was impressed with the body and structure, and as we got the last pour from the bottle it had a couple hours of air on it and was showing well. Classic Rioja, dusty with a large frame and silky tannins, which is what allowed it to slip past my better half so well! The Crianza was appealing. Why do i only pay $4 US for this here??\n",
      "\n",
      "(2220) Oleg K:   3.9 Deep inky ruby. On the nose bitter herbs, mushrooms, wet forrest and crushed blackberries. The palate is on the dry side, with astringent rowanberries wrapped in robust tannins. Notes of salty pomegranate kernels and black mulberry. Full- body with medium peppery finish. Good, especially for fruit bomb haters, richly herbal Rioja. Oh, and excellent QPR at $13.99 from Costco.\n",
      "\n",
      "(531) Ricco Cayman:   After seven years of aging this Spanish Bordeaux is expressing very well with a mixture of dark fruit, sour cherry, and red currant on the palate. Hints of cinnamon, smoke and pepper tickle the nose, then it finishes with a balsamic like acidity. Ready to drink out of the bottle but worth the wait of an hour decant. Very dry but well balanced, an excellent QPR under $20.\n",
      "\n",
      "(950) Kirill Fuchs:   On the nose black cherry, plum, chocolate, and vanilla. On the palate blackberry, black cherry, plum, vanilla, leather, sweet tobacco, and cedar. . Medium+ body, full of dark fruit that integrates well. All around well balanced, truely an enjoyable wine. An absolute steal for $19.\n",
      "\n",
      "(557) Kiong Fung:   Pre-pandemic review: I opened this for the Wilder vs. Fury rematch. This is an underrated wine. You can find this almost anywhere for less than $20 and it never dissapoints. I had this with argentinian sausage and chimichurri.\n",
      "\n",
      "(193) Enrique Osuna:   A very good Rioja Reserva. The great thing about Spanish wines is they are so simple to understand. Riojas are Crianza $, Reserva $$, Gram Reserva $$$. I drink a Reserva slightly chilled (54 F) with Tapas, on a Friday evening, after a long work week. The perfect way to unwind for a start of a wonderful weekend. Cheers 🍷\n",
      "\n",
      "(199) Tom Dafnos:   This is a Reserva Rioja, the teenager of the Riojas. Crianza is the adolescent while gran reserves are the adults....all based upon the length of the aging process. The Reserva is aged in Oak for 2+ years. This is predominately Tempranillo, blended with Graciano and Mazuelo. It is spicy from inception with balance coming in the long finish. Our favorites are still the great Gran Reservas, but this will do for $20!\n",
      "\n",
      "(1376) Jared Anderson:   Nose of ripe cherry, floral notes and smooth oak. The palate has lots of spicy, red and blue wild berry notes and a bit of tilled soil and tobacco. Not overly tannic and a bit dry. Easy drinking and could pair with anything. Great buy at $18!\n",
      "\n",
      "(1179) Buck:   4🌟 Rioja and great QPR!! Just under $20. . Spending a few days in sunny San Diego 🌞. Not a bad pick up at the local grocery store👍🏻. . Easy pop and pour—drinking very well. Dusty cherries, old leather, earth, spice and vanilla notes. Palate is a tad thin but it all works. Tannins chillaxed with a spicy, licorice finish. . . Reliable and delivers all the trademark Rioja goods 😎. Paired with grilled NY strips overlooking the Pacific ocean 🌊🍷👌🏻🥩.\n",
      "\n",
      "(174) Mary Murphy:   Lovely oak notes and solid fruit gloves - currant, blackberry. Warm plum color., smooth body - heavy but not too. Slightly tannic finish. We really enjoyed this with gourmet pizza, would readily buy again to have in stock for a goto choice. And we apparently got a fab bargain - rare in PA - $16.99!\n",
      "\n",
      "(584) Maximilian Roher:   This was one of my favorite bottles in college. $10 a bottle then, $17 now. Medium ruby, with a very winning nose of cranberry, dried red cherry, dried flowers and tobacco leaves. Taste is a balance of fruit and earth, with a mocha finish. Medium acid, tannin, body, alcohol - basically medium everything. Is this the recipe for success? Or is this the zero which other red wines are based on? Neutral. Paired with a steak that was cooked too much...\n",
      "\n",
      "(510) Tracy K:   Pretty amazing that I was able to scoop up a delicious 2009 Rioja at Trader Joe's for just $16. While the alcohol still does come on a bit strong and it needs a little bit of decanting to take the edge off, the tannins have actually come together very nicely. Smoky raspberry, red cherry, plum mingle with wet stone and a mushroom/meat aroma that would make this fantastic with food.\n",
      "\n",
      "(303) Alyssa:   Earthy Rioja featuring black fruit, clove cigarettes and white pepper on the nose. Medium bodied and full of flavor. Excellent QPR-my sister in law got this at Costco for $10. Drinks like a $30 wine.\n",
      "\n",
      "(325) Dan Fortin:   My intro to this producer/wine was 2006, which I thought was maybe the best wine I'd ever drank. I feel like nothing compares still, but it was a special occasion and with my special girl, but this is still one of our favs. Not as earthy, leathery, smokey as 2006, but nice. More floral, less vanilla and spice at finish, but still special under $20.\n",
      "\n",
      "(734) Richard Bruno:   This is a Tempranillo with a 10% blend of Graciano and Mazuelo from the Rioja area of Spain, from a truly amazing winery, Riscal. A visit here should be on all wine lovers bucket list, a beautiful winery, hotel, restaurant and spa. Great home base when visiting Rioja. And yes, their wines are incredible. This 2011 Reserva is dark, rich and loaded with black fruit. The wine spends two years on oak and one year in the bottle before release. A lovely wine with an elegant price tag for me, under $20!\n",
      "\n",
      "(1375) Stefan Sancin:   Musk, vanilla, raspberry, cherry slight blackberry, caramel. Spanish wine is incredible QPR, this was $31. The fruit is a little hard to find amongst the oak but the warm climate still delivers strong red fruit flavour.\n",
      "\n",
      "(162) Tuanis Tico:   4.0 The always reliable and widely available Marqués is the Spanish undisputed best value champion. At around $15, it brings you the delicious old world taste of Rioja. It is deep dark purple in the glass, with aromas of dark fruits and wood. The palate is smooth and elegant with a nice balance of fruit and wood. Aftertaste is medium silky smooth with more of the same. The problem with this wine is that you will comparing it to wines under $20, thinking this is not as good, I should have bought Riscal\n",
      "\n",
      "(536) Keri Mihalco:   A beautiful Rioja blend of Tempranillo, Graciano and Mazuelo. Very ripe yet soft fruit and well developed tannins. Great after opening but got even better 24 hours later. A ripper for the $20 price tag!\n",
      "\n",
      "(1679) Reberti:   Reliable throughout time, it’s probably the best known Rioja. Setting aside the wine description, What I find most curious is that in Madrid it’s a 13,50€ wine. In the US it’s around $18 (perhaps more) and in Vienna.... 10,90€ (Spar pronto, Mitte). Buy it in Vienna , if you can!\n",
      "\n",
      "(678) Justin K:   $30 and worth every penny, this was just another really nice, well balanced red from the Rioja region of Spain. Blackberry, fig, toasted oak with a hint of black cherry and anise in the finish. Tannins are present but not overbearing, and generally goes down smooth. Reservas are nice because they offer a nice middle ground between the fruity Crianzas and the often heavily oaked Gran Reserves, so it's like the best of both worlds. Santé mes amis!\n",
      "\n",
      "(627) Jim Tremblay:   Inky purple tinto with lots of cedar and spice. Full bodied Rhone-like wine from the Alava region of Rioja that was aged 26 months in oak casks. This was a favorite of mine back in the 70's when Riojas were routinely aged over 3 years in oak casks. A complex and delicious wine, nicely priced at $25\n",
      "\n",
      "(329) Derrick Ellis:   Needs a minimum hour decant. Tempranillo Tuesday! Been waiting to try this for awhile now. This was one of the best wines I’ve had for $15z Oak and red fruit on the nose. Huge cherry on the palate. Lengthy finish lingering of dried fruit, hints of dark chocolate, white pepper and vanilla. Great balance. Does need some time to breathe to soften tannins and reduce acidity. I’ll be adding this to one of my go to wines. 92/100 Cheers 🍷\n",
      "\n",
      "(690) Layla Yang:   2014 vintage update: aroma like 荔枝皮 lingering on the cork. Dry fruit 龙眼 my childhood memories <3 and dry flower... WoW! 4.2. My favorite under the $20 weekdays wine. Wood, leather, medium body, earthy. Beautiful and enjoy each time. 4.1 for consistency and value\n",
      "\n",
      "(241) Wayne Baxendale:   I’d like to point out that this is less than $20 and completely worth every penny oak cherry tobacco leather earthy plum blackberry chocolate pepper and just fills the mouth completely, shorter finish compared to a grand reserve but I’d buy this again and again\n",
      "\n",
      "(231) Tyler Merrihew:   Burgundy in color with brine, oak, blackberry, and strawberry on the nose. Up front is apple, peach preserves, bing cherry, tobacco, fresh raspberry, dark chocolate, clam(?), cocoa, and a hint of olive. Medium body with strong tannins and bright, but lovely acidity. The finish is fennel seed, celery, Szechuan peppercorn, dill, and raisin. For sub $20 I’d buy this any day. Enjoying with @[1|10032598|Toni Merrihew], @[1|39036386|Katie Merrihew], and @[1|62345765|Jeffrey Campbell] on our ⛷️ trip.\n",
      "\n",
      "(1360) Joshua Doss:   Grabbed this for $17.99. Great buy. I've had the 2008 a few times, but the 2006 is much more mellow. Far less oak than it's 08 counterpart. Good red and black fruit, a slight touch of vanilla, nice long finish.\n",
      "\n",
      "(120) Matthew Lekstutis:   A delicious mouth of currants and berries with a little smokiness and a finish that lingers and evolves on the palette. A tremendous value at under $20 a bottle!\n",
      "\n",
      "(989) Benjamin Prince:   Fleshy, burnt rubber nose. Complex, long-finishing palate. A quality Rioja at $30 from Dan's. (4.2 stars)\n",
      "\n",
      "(432) Tyler Smith:   Shows a bit of age in color but still has excellent fruit and a nice earthy flavor. Great wine for $18\n",
      "\n",
      "(161) Paul Brown:   Dry, med-full bodied, earthy,deep red fruit notes, some cinnamon. Rich and smooth. Incredible for the price ($18)\n",
      "\n",
      "(105) Let them eat bread:   Youthful tannery on the nose. Mild tannins on the tongue. Packs a plummy, cherry vanilla punch. Really satisfying to just chew on and chill. I'll be looking for a better deal though us$30+ in Hong Kong, in spite of the zero tax on wine... Maybe it's the first class ticket on Iberia to get here...\n",
      "\n",
      "(104) Charles Malloy:   Vanilla, oak and cherry nose. Very soft on the palate, with cherry and mild tannins. Medium to light body. Decent finish. Great value at $13.\n",
      "\n",
      "(140) A Johnson:   A US bargain bin winner!! $8 US in bin end. Super nice Rioja.\n",
      "\n",
      "(471) Sebastien B:   $16 excellent with oxoa and iberico cheese\n",
      "\n",
      "(975) Shaun McGregor:   Extremely nice everyday table type wine under 15$ at local. Has a nice floral/fruit nose. Taste is bright, light, cherry like. Very easygoing.\n",
      "\n",
      "(125) Steven Dunn:   Paid $32 - A good bottle that mimics classic old Bordeaux.\n",
      "\n",
      "(395) Mark Concannon:   Solid and amazing under $20!\n",
      "\n",
      "(135) Graeme Kelly:   Dry on the mouth oak earthy with nice tannic aftertaste. Great $20 wine\n",
      "\n",
      "(1059) Mr. M:   Not bad for the price of under $25. Has good lasting dark berry tones and decent amount of tannins.\n",
      "\n",
      "(328) Yoshi Uppervalley:   Drunk at my place on 11/2020. Bought at Ralphs for around $15\n",
      "\n",
      "(3850) Scorewine:   A lovely Rioja and a great value, my last bottle out this vintage and still drinking beautiful at the age of 12 , paid for it about 11$ back then, not too many wines offer such an amazing value. My score 87, drink to 2020\n",
      "\n",
      "(351) Michael S:   On the nose there are prominent tobacco and smoke over some dark fruit notes. On the palate there are red fruit. Good buy at Costco for less than $15.\n",
      "\n",
      "(248) Jason Braswell:   Nose dark fruit blackberry and blueberry leather Smokey ash Flavor blueberrry blackberry espresso balanced tanin. Abc$15 Personal rating8.4. Buy again\n",
      "\n",
      "(108) Matthew Birdsall:   Not as rich as some Rioja reserva. Easy drinking and great value Earthy, oak, baking spice, cherry. I think I paid $11.99 which is an absolute steal.\n",
      "\n",
      "(723) David Kitzmiller:   Very interesting Rioja, and outstanding value at $17. Real gravitas here, great depth and character. Needs additional air to open up, although already substantially aged at 6 years.\n",
      "\n",
      "(131) Yuri Juárez:   Affordable price. Since is from Rioja is good anyway. Rioja is an emblemathic place for the most finest wines from Spain. Smoked , spicy and tasty. I got one bottle for $11. Great deal.\n",
      "\n",
      "(268) Adrian Digby:   deep purple rich Rioja, with a slightly cigar smoke and plum nose. Leather and pencil shavings overtones to a rich long plummy finish. Excellent Rioja and for less than $15\n",
      "\n",
      "(131) Z Song:   Typical red fruits you can expect from a fruit-forward Rioja. Not complex. But it’s just under $20. What more you can expect?!\n",
      "\n",
      "(5910) Randy Maurer:   Paid $42 for this at a hotel bar in punta Cana, so not a great value but did like the wine. Some cherry and a bit of spice. Overall a good wine\n",
      "\n",
      "(45) N M:   Bold, dry tannins with a nice mineral chalk/granite finish. About $14 at local store which I think is decent value. Would serve this one again!\n",
      "\n",
      "(2702) Rick Halprin:   An average rioja with little to write home about.For a few $$ more- go with the Muga. This one is Not a re-purchase item for me.\n",
      "\n",
      "(94) Doug Meikle:   Earthy and long in the mouth. Full of flavor. A Rioja that is worth buying at $15 a glass in Smith and Woll.\n",
      "\n",
      "(864) Anders Carlos:   Decant 2 hours. Dark brick garnet. Widely spaced, thick legs. Tar, leather, etoh, earth, dark berry, plum, hint of woody vanilla on nose. Med body, tannin finish, acid and bright tart cherry, red currant fruit in front. A little cocoa in end. Etoh heat a little out of balance for 14%. A solid wine. Had with pork ragu. Excellent pairing. 4.1 is about right. Gets better as it opens in glass. Great QPR. Got at Fred’s for $18. . With time, more of a fig, cherry cola nose.\n",
      "\n",
      "(996) JonWilliams:   Perhaps it’s because we’re planning our first ever trip to visit Rioja next month… but this 2015 Reserva from Marques de Riscal was excellent tonight, and what an great QPR for around $20 a bottle! Delicious nose of dark fruit, vanilla,. tobacco and leather… seriously I couldn’t stop smelling this wine after opening. It turned a bit more earthy after it warmed up, full bodied, but nicely balanced fruit, oak and acid. Still plenty of tannins but not too aggressive… definitely recommended!\n",
      "\n",
      "(1141) Spice:   4.0 ~ 90% ($26.95). 2016 Marques de Riscal Rioja Reserva. Pioneering winery ~ and a quality bottle. Dark, ripe berries, vss asnilla, oak, dry (3 gs/14% abv) ~ nice wine, and a fishnet leggin’ bottle 😙 . Recommended ~ but wait for a sale 😉. 🎥 Paired to belatedly celebrate Timothy Carey’s 🎈BD 🎈 with the noir classic The Killing (1956) 🍿\n",
      "\n",
      "(474) Static:   I’ve had this several times, but I can honestly say that for $13 this is just an incredible wine. So great and balanced. It’s relatively light, lots of cherry and vanilla on the nose and palate. Super fruity they the oak finish. Just a lovely wine. 5 star on QPR!\n",
      "\n",
      "(4573) Red:   3.9⭐ Deep ruby color. . Black cherry, black raspberry, black plum, leather, vanilla, toast and smoke. Rich earthiness to this wine. Full body, high acidity. . Really good balance and structure. . Great for under $20. Rioja #55 & Iberury #️⃣1️⃣7️⃣\n",
      "\n",
      "(3760) Bernard Shen:   A night in Burgundy. . David’s 40th with #vivinosydney. @annata_sydney 9/11/18. . Not quite a Burgundy but we knw there was going to be an outlier!. . Had this blind I I did guess Rioja😝🍷A $20-$30 Wine kept for 40 years and drinking well!\n",
      "\n",
      "(171) B Cunning:   A classic Rioja standard, honestly found at Euro gas station for $20, and worth every cent. Rich on the nose with licorice, cherry, and touch of spice. Very tanning on the palate, but beautifully balanced...with a distinct follow through that is strong and right...for a Rioja.\n",
      "\n",
      "(370) Jeff I:   4.2 - Wow! I did not expect this wine to be this good for the price I paid ($AU29). I bought this bottle on a whim because it was on sale at my local. After a few sips I was absolutely bowled over by how good this was especially for the price paid. It punched well above its price point. I had not had a lot of experience tasting Spanish Rioja's but I'd remember if the ones I had tasted if they were as good as this. Beautiful red fruit floral bouquet with smooth dark red fruit flavours. Balanced and complex.\n",
      "\n",
      "(267) gospodine brap:   $18 Sembawang NEX. 14.5% ABV. Happy to see these bottles in the fish net leggings show up again on the shelf. 2015! Great year for us. And this is a nice red. I'll go look for properties in Spain's wine country again now. 😉\n",
      "\n",
      "(532) Morten Damgaard:   Smoky, earthy aromas and flavors, including cedar, cigar smoke, dried flowers, and dusty cherry flavors. Dry, medium body, silky smooth mouthfeel. Long delicious aftertaste. What a bargain for just $12 at Costco!\n",
      "\n",
      "(254) Matt Knight:   I think 4.2... really like it, and bang for the buck! Got at the Gull for $30. It’s been a while that I’ve drank Spain. Leathery, oaky, touch of vanilla is what is dominates at first. Melts into pepper -ish, some dark fruit. Drank with steak and chimichurri potato arugula salad, and stood up perfectly.\n",
      "\n",
      "(1517) Ragnar ss:   Ruby. Medium intense nose, raspberries, strawberries, blackberries, anise, lots of oaky aromas, some spices. . Good acidity, feels very balanced. . Medium-full bodied, lots of fruit, raspberries, strawberries, cherries, red plums, blackberries, blackcurrant. Lots of oaky notes, vanilla, tobacco, some spices. High levels of tannin, a little sandy but they are well integrated. Needs aeration to calm down the pronounced oak, decanted for 3h. Great wine for the money! 23$ . 88-89p\n",
      "\n",
      "(358) JD:   4.3 QPV @ $19! 🤑🎯 Pour, ready to drink! 👃🏻and👅: nice treat of flavors hit different parts of palate when drinking solo vs pairing, and as you decant. ❤️ it! 😋! Buy and share! Super, smooth mix of berries, cherry tobacco, mixed spice, oak, cedar / vanilla. Medium tannins grip, + nice light 🧈 on finish. Later it will dry upper palate, w 🤏🏻 stone. 🤑🙌🏻! A lot going on as it opens - start solo, pair w/ diverse foods! Day 2: more oak & vanilla, v. nice!😋 Happily surprised by the super QPV! Cheers friends! 🍷😋\n",
      "\n",
      "(1211) Matt H:   I picked this up seeing a classic rioja, and I’m very glad I did—smooth dark fruit (plum and black cherry) leads, and it’s well balanced by solid tannins. Slightly sweet. I’m giving it an extra half star for value—this is a really nice wine for under $20.\n",
      "\n",
      "(304) Andrew S:   Color: ruby, medium to full bodied . Nose: smoky, charred oak. Spiced black cherry. Earthy notes of clay . Taste: Great earthy and smoky core wrapped by baked plum and cherry notes. Lots going on, notes of black pepper and blackberry. Big time oak. Dry, quick finish, softer but present fruit tannins. Really good, decent value at $15\n",
      "\n",
      "(2150) Michael Nigro:   Fabulous bouquet and just the right amount of spice with enough acid on the finish to know that this will be a good food wine. Nice price point ($23).\n",
      "\n",
      "(1645) LA:   Dark fruit. Whiffs of oak and licorice. Slightly spicy on finish, which is decent. Reasonably bold, dry, and delicious. 🍷👍 Snagged for c. $20. Good QPR, no doubt.\n",
      "\n",
      "(21) E A:   $22.99 USD. Amazing bargain for a very nice, balanced bottle. Tastes like $80-100. Almost case worthy but can put into my top 20, under $30 bottles.\n",
      "\n",
      "(435) Jaymes Ngoy:   Stupid good! Let it breathe for 45mins. At TJs for 15$.\n",
      "\n",
      "(35) Steve Cox:   Really good for the price (~$15 at supermarket). Great nose, medium acidity, very smooth drinking. I’d definitely recommend it.\n",
      "\n",
      "(17) R Rosti:   Great value. Love Tempranillo. Smooth, medium body, soft tannin from the bottle. Not overly acidic. Medium dark fruit. Hard to beat for $20.\n",
      "\n",
      "(20) Kieran Danenberg:   Very dry wine fairly high in tannins. Its a full bodied wine with a noticeable hint of spice. Quality sub $20 bottle of wine.\n",
      "\n",
      "(17) Joel Eagle:   I bought a bottle years ago for $17.00, and I just cracked it open 14 years after bottling. It is delicious, very soft with lots of berry taste.\n",
      "\n",
      "(34) Joe Ha:   A delightful surprise. On sale for $11.99 at CostCo. Full and wonderful with a very dry aftertaste. I will be buying more of this tomorrow!\n",
      "\n",
      "(200) Haute Momma:   $19.99 (30.99). Medium bodied, very smooth. Goes well with carbs and blue cheese. Would buy again at this price.\n",
      "\n",
      "(89) The JMS:   It’s a very good wine-has a Bordeaux type taste and for under $20 it’s a steal.\n",
      "\n",
      "(184) Bo Krul:   You can immediately smell the oak aging, and more so the American oak aging. Typical old-school style of Rioja, with subtle fruit, lots of oak, soft tannins, and high alcohol. Very nice for $20.\n",
      "\n",
      "(94) Mike Perdue:   One of the best Reserve Riojas I’ve had. Especially under $20. Go buy this and enjoy. Put a very slight chill on the bottle before you decant or drink. Maybe 30 minutes in the fridge before opening, this will release more of the fruit. Very aromatic. Very flavorful. Very delicious. I’m buying more.\n",
      "\n",
      "(96) Brian Taylor:   Hard to accurately rate this since the cork broke off in the bottle and created some drama. Definitely pick up the licorice on the nose, dark cherry with red cherry. Agree with other people who said that it’s not as full bodied as some wines but would be a really good companion to any pasta or pizza. For a Rioja under $20, definitely a really good value.\n",
      "\n",
      "(128) George Hodges:   Great buy for $19\n",
      "\n",
      "(1400) Robert White:   $16. Leather licorice cream tobacco\n",
      "\n",
      "(99) Ryan Gourley:   3.75 for taste, 4.0 for the value. Dry rioja with leathery notes and darker berry notes. Not a bad table wine, but not exceptional. Would drink under $20\n",
      "\n",
      "(763) Mike Bor:   3,8-3,9💫. Not my type. I never liked Spanish 🍷 wine so much and this one is not an exclusion...Priorats much better 2me. Maybe i should buy n taste quite expensive Tempranillo for 150-200€ to understand Spanish wine enjoyment. . Normal wine n nothing more. . Overpriced even for 1700₽/25$...\n",
      "\n",
      "(446) Tim R:   89/100 $15 It is refreshing to taste a classic-style Rioja, all smoke and acid. I say that because the trend appears to be fruitwards, a direction this glass overtly avoids. And yet there's nothing missing. Smoke, leather, spice, dark fruit on the nose, dry earthy acids and tannins out the tapas in the mouth make this a savoury wine food-pairers dream. Anything fatty and porcine would be ideal, because those acids would cut right through. Resisting fashion is impressive; selling this style is more so.\n",
      "\n",
      "(269) George Slocum:   Soft earthy nose with hints of smoky oak and leather. Smooth mouth feel with a nice light bite of spice on finish. Paired well with homemade spicy beef and cheese enchiladas with fresh guacamole. Great buy at $15.\n",
      "\n",
      "(316) DH:   The cork started disintegrating when I opened, so definitely can there is some age on this one. Color is pale ruby with some brick around the rim. I get licorice allspice cranberry raspberry on the nose. Medium acidity, medium tannins. Pretty good overall, I got this for $11.50 at Costco which is pretty insane for the quality here\n",
      "\n",
      "(319) Sam Valmassoi:   Very deep in color, earthy nose with raspberry and plum prominent. Secondary mint, damp mushroom and barnyard aromas. Medium body with lots of tannin and a long finish. Good wine but it is still very young and the tannins need time to soften. Good value for $20 though.\n",
      "\n",
      "(6292) Clinton Marks:   Al lot of power but I’m not sure. Dark red colour. Blueberries, spicy, coconut on the nose. THe palate is on the aggressive side. Although it did settle. Grainy tannin. Plum. Rated 3.7. At $35.\n",
      "\n",
      "(1512) Junior M:   Notes of mostly cherries are accompanied by faint aromas of oak, spice, herbs and initially vanilla. The palate is smooth with mild tannins, flavors of cherry liqueur and touches of oak, a well integrated acidity, and a medium body. Enjoy! . p.s. For only $10, consider it a steal.\n",
      "\n",
      "(2093) Cs Runner:   Cool, rainy July day calls for RED😸! 2 hour decant cuz I got no Vspin😂. Seemed to do the trick. On opening, the👃was pure barnyard but post O2 lovely aromas of sugarplum, cocoa, tobacco & dried leaves👍! Dry, med-full body, smooth acidity & pliant tannins showing good balance. Smooth & subtle palate of sour cherry & strawberry sauce with mid palate hints of dried fig, cedar & tobacco w/ a medium finish of volcanic rock & black peppa. Good QPR @ $17. Lacking a little intensity on the palate for me; 3.65🌟\n",
      "\n",
      "(129) Cenador Gonzalez:   Locally here in Miami this wine can be purchased at a much much LOWER price than even in Spain . . This is a traditional well know rioja reserva . But that does not make it a great wine. . It's a middle of the road rioja that is living off its name . . If you pick the right year (i.e. 2005, 2010 or 2011 as this one is) it becomes attractive at the price . . But stay away from other years. . Purchased a case after trying a bottle at $11.99 per bottle and it is a good wine for the price for daily consumption\n",
      "\n",
      "(2820) ! Plinio Ricardo !:   Rioja com notas elevadas aqui no Vivino, mas para mim e minha esposa não chega a empolgar. Aromas de frutas maduras, corpo médio, acidez M+, notas balsâmicas, final médio. Pelo preço de R$200 no Brasil precisa oferecer mais. . Rioja with high marks here at Vivino, but for me and my wife it’s not really exciting. Ripe fruit aromas, medium bodied, M+ acidity, balsamic notes, medium finish. For the price of U$ 40 in Brazil he needs to offer more.\n",
      "\n",
      "(217) W D:   Very nice drinking wine . For under $20 nothing comes close from California ! Have to go over $30 and then very selective . Dry with minimal tabun , full fruit almost black cherry without being too fruity . Slight oak back from aging , and slightly more sophisticated than most crianza . Not the best reserva rioja but , if you find for $15-&18 a great purchase\n",
      "\n",
      "(3406) Dr. T and his wines:   Quite nice. Cherry, dark cherry and a hint of black raspberry combined with earth, tobacco, coffee, and spice notes on the palate. Medium body, moderate (-) integrated tannins, good acidity and good balance. Pretty smooth. Decent medium (-) thick mouthfeel and texture. Should continue to age well. . 3.65 stars. Fair QPR at $18.\n",
      "\n",
      "(55) Tim Wills:   For $14 this is insanely good. Smoke, tobacco, blackberry, currant on the nose. Tannins have a dark chocolate, smokey flavor. Slight sage, blackberry. Fairly bold without being overwhelming. Moderate berry finish!\n",
      "\n",
      "(47) Zach Chamberlain:   I’m going to concur with the rating of 4.0. . Incredibly smooth Rioja. Very nice dark fruits, beautiful round tannins, and a nice big hit of leathery, vanilla, and influences of the oak aging in this Reserve. . Medium minus acidity, nice finish, just a nice balance between the blackberries and blueberries and the earthy notes. . Worth $25- $30 per bottle all day long, but as always, don’t expect to spend that much because Spain offers such great value.\n",
      "\n",
      "(107) Paul Gratton:   Wow. Picked these up for about 25$ at the saq. Wasn’t expecting this much. Nice medium to dark garnet colour. Blackcurrant, mushrooms, raspberries on the nose. Medium to high tannins and acidity. Full bodied and well balanced wine with notes of vanilla and oak. Very smooth.\n",
      "\n",
      "(37) Matt Ramey:   Best bottle under $20 we’ve had to date. Classic Tempranillo, with a nice sparkling acidic finish. This is my new favorite grocery store wine. earthy balsamic minerals oak plum black cherry\n",
      "\n",
      "(53) Babette Riedmueller:   Good spice, not heavy but good. Costco $15\n",
      "\n",
      "(81) Simon Mariner:   $30 Rioja that drinks like a $60 Aussie...\\nSeriously we''re getting so badly ripped off!\n",
      "\n",
      "(59) Tom Callahan:   Best Spanish Rioja 2009 Reserva under $20!. Try it, you'll love it!\n",
      "\n",
      "(12) Rascal Man:   Bought at my local grocery store on sale $18.99. Listed at $25.99. What a find at this price! Rich, creamy smooth blend with a delicious easy finish. Must buy again if I can still find it at this price!\n",
      "\n",
      "(2) Logan Hall:   Delicious, definitely would get again, so I can update this review lol. I don’t remember tasting notes, but $18 and it’s a great Spanish wine. I tend to always have good luck with ‘13 and ‘14 vintages. . I’m a fan of Spanish wines, since I feel they are generally not overly bold. the taste does not control your attention but it is easy to both sip or drink. Pairs well I feel with most grilled meats. Nothing too acidic or fishy. Probably pretty good with the heavier fish steaks.\n",
      "\n",
      "(31) Mark Flores:   Wonderful, robust traditional Rioja. Very inviting nose teasing dark fruit, oak and sweet hints of Vanilla. Round, balanced, velvety body, structured, with dark fruit, spice and pleasant tannins. Delightful medium to long finish begging for another sip. Versatile wine good for rich foods, hearty veggies or even charcuterie...excellent price point ($20>) drink now or cellar 5-7 years. Why wait, life is short!\n",
      "\n",
      "(46) Tiffany Perry:   Love this wine! This may sound weird, but it looks really great in the glass lol. It's a beautiful ruby color and has legs for days when you swirl it around the glass it take a sip. It has a great fruity smell with smell. You can get a feel for the dryness of the wine when you put your nose in the glass. And don't even get me started on the taste! The fruit comes through on the palette along with an amazing caramel flavor. Dry, but not too dry. And to top it off, it's only $12! This is a great buy!\n",
      "\n",
      "(30) Chris:   Oaky, good nose, plum, black currant, dark cherry, nice long finish. Medium acidicity. Let it air for a few minutes or decanter and enjoy! Good with any baked or grilled meat or salmon or a nice cheese platter. For me this is a 90 points wine. I’d buy it for up to $20 USD. Found in Florida at Costco for $18.\n",
      "\n",
      "(20) Eddy Louis Cop:   A new rating after 6 months in the cellar. The wine develloped very nice with strong aromatic expressions : Cherry, blackberry, prune/plum, mushrooms, oak, leather, earthiness. On the palate is added : cinnamon, liquorice, vanilla and chocolat. Well structured, balanced and complex. This Rioja Reserva is top in his category. No wonder it's in 3rd place of wines +90 which cost less than 20$. My first rating was 4.1, I have to adjust this to 4.3. What a steal this Marques de Riscal !\n",
      "\n",
      "(76) John Prudente:   This wine is very exquisite! The taste is a light-medium flavor. The slight hints of vanilla, plum, and oak are very well balanced. The wine ends on the pallet nicely with little aftertaste. My price was more than the listed here ($28) but it was worth the price for this nice wine. But next time I'll purchase for a more special event.\n",
      "\n",
      "(253) Holly Culbreth:   I’ve enjoyed this wine for years. Costco had it for $11.35- with the rebate discount today. What a deal! It’s just a smooth and mellow wine with that lingering complexity.\n",
      "\n",
      "(490) Fernando Amaya:   Nice wine! Must buy under $20\n",
      "\n",
      "(146) Mikael Witte:   Fantastic value at Costco price $13.99\n",
      "\n",
      "(63) Greg Genders:   For 25$ easy 4.5! Bold, smooth and tasty with a nice nose. Excellent Rioja\n",
      "\n",
      "(1156) Charlie Rivera:   Great buy at $18\n",
      "\n",
      "(127) Eric Garnier:   A little softer that the 2012. Great wine for the price. Currently $11.89 at Costco\n",
      "\n",
      "(226) Ray C:   Surprisingly good and a great deal at $15\n",
      "\n",
      "(37) Glilthlingsroy Roy , MS:   Strong oak, leather, and plum notes. One of the best wines I’ve tried under $20. Complex and a joy to drink\n",
      "\n",
      "(36) Gabriella Katia:   First tried this wine in Mexico. Very fresh and enjoyable wine. Great value! I got a bottle at Publix in Florida for $20\n",
      "\n",
      "(15) Vivino User:   Paired this wine with a Paella, very flavorful! I gave it 4.5 stars because it’s a great wine under $20. Highly recommend\n",
      "\n",
      "(91) Matt Hensel:   Great example of Spanish value. $15 for a well balanced red. Fruits hang in there on a long finish with good acid.\n",
      "\n",
      "(23) Ado Milo:   Wouldn’t pay more than $30, with that said it delivers all you expect for a reserve Rioja. Decent drop.\n",
      "\n",
      "(96) Jeri Cavagnaro:   Very enjoyable. Smooth, dark fruit finish, not too dry. 14.5%. Paid $15.00\n",
      "\n",
      "(132) Chris Sanders:   Great QPR at $17 a bottle.\n",
      "\n",
      "(109) G Mulley:   Delicious Tempranillo at the restaurant it’s $45\n",
      "\n",
      "(1554) Jrôme:   This was a Dans special for $27 and for sub 30 I'm pretty happy with it but not sure I'd pay any more. Its a bit simple but it's still very young and closed even on day 2, it needs more rest!. . Vibrant ruby in the glass. A nose of unripe red plum and cherry, baking spice and oaky vanilla. Palate is well structured, medium bodied, high acid and mouth coating tannin on a medium finish. I'd like to try again in 5 years.\n",
      "\n",
      "(6) Kevin Liebrock:   The best rioja under $20.\n",
      "\n",
      "(32) Jordan Davidson:   Really good wine for $20. You can taste the oak. Will definitely buy again.\n",
      "\n",
      "(20) Rob Erickson:   Great table wine for $15\n",
      "\n",
      "(2) Jaun Bagel:   4 stars for the value. Deep red color. Deep intense nose. Super woody. Very impressed for $15.\n",
      "\n",
      "(111) Drew Sundholm:   I found my new favorite for under $20.\n",
      "\n",
      "(16) David Neves:   Quite nice, great with red meats, Publix has it on sale at $8.99!!!\n",
      "\n",
      "(59) Steven Schultz:   Dry, spicy, good tannins . $14.89 Costco W. H. 4/11/21\n",
      "\n",
      "(28) Baja Rusty:   Very nice Rioja, ripe fruit with lots of body. A good bargain for under$20\n",
      "\n",
      "(21) Cecille T. Santiago:   Lesson on Rioja part 1. The nose is light. Wine is dry and JAMMY. Definitely dried fruit, vanilla. Light on Tannin. At $16.99 great value\n",
      "\n",
      "(21) Carlos Jimenez Carrasquillo:   Great value wine (under $20) with leather and pepper hints. Smooth and easy drinking - does get better with decanting / aerating.\n",
      "\n",
      "(18) R B:   Seriously good wine. Oaky, complex, chocolate and deep fruit. Punches well above its $30 price tag. Tell everyone this wine rocks.\n",
      "\n",
      "(1) Ray Fernandez:   Excellent wine at a great price. $16.99 at Costco\n",
      "\n",
      "(4) Scott Hodge:   One of the best Riojas I've found for under $20.\n",
      "\n",
      "(330) Ryan S:   Great for 10$ at Costco.\n",
      "\n",
      "(32) Susan Barnhart:   We liked. Jenny bought at Total Wine for $20.49 on 2/12/22.\n",
      "\n",
      "(3) Carl Ole Haakenstad:   Quality vs price, one of the best buys. Trader Joe $ 15, same as Spain in euro! Carl Ole\n",
      "\n",
      "(23) Charles Gabriel:   One of my standard house wines...a solid rioja for the price.. $14-15 at Trader Joe's in RPV!\n",
      "\n",
      "(5) Bob McNeice:   A nice complex red for under $20. What's not to like?\n",
      "\n",
      "(27) Tim Morris:   Great for $15.\n",
      "\n",
      "(2) Sara Tasch:   Great value. A relative complex wine for less than $20/bottle. Will definitely buy again.\n",
      "\n",
      "(11) Heather McMann:   Bought at Butcher Boy $16.99\n",
      "\n",
      "(14) Bruno Quaresma:   Good smooth rioja, great value. best around below $20\n",
      "\n",
      "(27) James Young:   Smooth as glass! Soft tannins, great little Rioja! 408 pesos/$32, nice wine!\n",
      "\n",
      "(15) Harmony Lazore:   Love this wine. Bought in Germany at the military base for ~$22 and it has become one of my favorites...even among German wine . Not too sweet, full bodied, very good\n",
      "\n",
      "(92) Cindy Cavanagh:   Nice wine at a good price point under $26 Spicy finish , peppery , with some dark berries\n",
      "\n",
      "(163) L M:   Drinks like a $50 bottle. Nice\n",
      "\n",
      "(153) Anna Randak:   Leather, barnyard, and spice. Single note wine. Not worth $18.\n",
      "\n",
      "(144) Okely Cruz:   Absolute delicious! Notes of blackberry, plum, cedar, and spice. Very well balanced medium+ body, acid, and tannins. Flavorful with a long finish. Recommended by Fran in Amsterdam was about 25 €... found it at Costco for $14.71\n",
      "\n",
      "(170) Louann Miller:   Enjoyed this with Sandy Mahla in Atlanta, GA. Luciana's. $58 at the restaurant . Tempranillo\n",
      "\n",
      "(131) J John:   Beautiful wine. Bought this 2014 in 2020 for $22. Leather, black cherry , pepper. Good value overall\n",
      "\n",
      "(96) Donito:   This was my first Rioja and I was quite pleasantly impressed. Nice and fruity but with a bold taste. Purchased this for under $12 at Costco. Excellent finish. Can’t wait to pick up a few more bottles.\n",
      "\n",
      "(14) Peter Bass:   I have been drinking this wine for forty plus years and it has consistently been an extraordinary buy for the price then and now! Full bodied , mellow when aired for an hour and complex flavors ! Literally impossible to beat for $16 or so at Costco these years!\n",
      "\n",
      "(6) Philip Stack:   I have been drinking this since the mid 90s and it has never disappointed. For less than $20 you will be more than satisfied\n",
      "\n",
      "(12) jay rob:   Got it from Costco to try, impressive. peppery and robust, lingering exquisite finish! Great deal under $20!\n",
      "\n",
      "(40) Quinton McArthur:   Not bad. I could drink it again without complaints. Balanced, dry, a little sweetness, maybe cherrryish? Not my favorite rioja but for >$20 it’s a decent value. If you pay $15 or less, you’ll love this wine\n",
      "\n",
      "(28) Ceceily Drake:   Got licorice on my nose and palate immediately. Had tort it breath before I tried again. A little spice and cherry along with oak and earthy notes. Very nice for a $20 bottle. .\n",
      "\n",
      "(79) Julianne Kirchner:   Well shit. We spent at least $59, if not $69 on this. And it wasn’t that fresh. This woman (long story, our notary for house closing) said it was her all time fav rioja. Idk why we thought she was qualified but we did. So we bought it. And now I’m wondering why. So many questions. So little answers. Why Rhonda, why.\n",
      "\n",
      "(25) Brian Goldstein:   Flandina wine! Tanta $52 bottle\n",
      "\n",
      "(8) JS Roy:   Fantastic balance and a steal under $30\n",
      "\n",
      "(35) Bill Yung:   Good value for $$\n",
      "\n",
      "(55) Fabio Della Santa:   Flavorful, dry, complete. Dollar$ for dollar$ one of my favorite Spanish wines.\n",
      "\n",
      "(1) David Gomez:   Great value for under $20. cherry vanilla oak .\n",
      "\n",
      "(142) Steve A:   👍🏽 $18 per bottle at restaurant .\n",
      "\n",
      "(1) Geo Mejia:   Amazing wine for the price. Costco had it on sale for $11\n",
      "\n",
      "(63) Joe Gulau:   One of the best sub $20 Spanish reds I’ve tried\n",
      "\n",
      "(6) Bart Hollobaugh:   Very nice...$10 at BJs\n",
      "\n",
      "(35) Xavier Curet:   Oaky and earthy. Excellent wine based on its price ($12.50)\n",
      "\n",
      "(3) Leo P:   Absolutely amazing ... one of the best wines I’ve had for under $20... highly recommend\n",
      "\n",
      "(51) Frankie Sarajzadeh Fiedler:   Old world taste. Vintage taste. Tastes like $100\n",
      "\n",
      "(119) Mauricio Duarte:   Vinho Com aromas de frutas vermelhas, equilibrado na acidez e álcool e com madeira presente, esse vinho ficou excessivamente caro e não entrega o preço de R$ 320,00 cobrado.\n",
      "\n",
      "(56) Alex Thomas:   Another great wine from Rioja. Fresh blackberries with hints of earthy French oak this wine is definitely one to add to the collection. Although this is a relatively young wine with medium tannins it will age well and compete with a $40 bottle in a few years. Drink a bottle, save a bottle, and enjoy.\n",
      "\n",
      "(67) Elena Mesa:   Round 2 from my motherland! Good find for $20 at Luekens. Recommend by their staff and glad we jumped out of the US. #Salud\n",
      "\n",
      "(6) Dan Antalics:   I had this wine at Le Salbuen with MM, byob. Stellar. Tastes way better than a $20 bottle. But, I had it with a really good duck.\n",
      "\n",
      "(22) Enio Tersigni:   Very disappointed. Wine was light not much aroma no body. I've had better $7 wines. Maybe it got too old and passed it's prime.??\n",
      "\n",
      "(5) Bill S:   It was reasonable. I have had better wines for less money. I probably would not purchase it again for the $21 I paid at fresh market.\n",
      "\n",
      "(252) @ForknCorkguy:   Can't find it for $7.00 now. It had age very well. Exceptional wine.\n",
      "\n",
      "(67) KevinandRonette Duhe:   Very nice choice for everyday drinking. Hearty wine from good vintage. A bargain at $18 from Costco.\n",
      "\n",
      "(532) Brendan McGuire:   Taste like inexpensive wine. We paid $19. Too much.\n",
      "\n",
      "(22) Jess Martin:   Someone recommended this wine... said it “tasted like a $100 bottle of cab for a fraction of the price.” We tried it, nope. It’s not good, yuck! .\n",
      "\n",
      "(33) John Jay:   Good. Dry. Maybe more like 3.7 or 3.8. A little over-rated, but not bad. Pay << $20.\n",
      "\n",
      "(31) Sue Contostavlos:   Deep interesting, $20 Costco red\n",
      "\n",
      "(30) Manish Patel:   Earthy. I would buy it again for $16 at World Market.\n",
      "\n",
      "(29) Michael McGarrah:   Smooth, fruity, subtle. Not really worth $20...\n",
      "\n",
      "(35) Will Hiebert:   Not great for the price ($22).\n",
      "\n",
      "(39) Vivino User:   Great go to under $20. Fruity, smokey and smooth. Lingers on your tongue... But in a good way!\n",
      "\n",
      "(92) Susan Martinez:   Ok not worth $20 should be $10\n",
      "\n",
      "(4) Justin Snyder:   For the $ 12.50 at my local Target being discontinued it can’t be beat. It’s absolutely delicious when served correctly. This drinks like a $40+ wine all day and I am going to go back and buy the rest up tomorrow! Buy and drink now!\n",
      "\n",
      "(14) Ricky Alcaraz:   Wow, very impressed by this Spanish Bordeaux. Very good, semi dry with dark cherry flavors. Great staying in at home with friends wine, would definitely recommend trying and stocking if on sale. Got it for $11.00 at Costco, will stock up for sure.\n",
      "\n",
      "(14) Charlie Ferguson:   I was going to wait until I sobered up to rate this wine. But no way. It's pretty awesome. It's a quick punch in the mouth and a little dry on your first taste. But no more than 9.5 minutes later a more - sweet tartness saturates the taste. It's pleasant. I'm having it with pizza and its complementary (especially for under $20).\n",
      "\n",
      "(40) Jachym Rudolf:   Fantastic. Bought in BC Liquor Store for C$27, great value.\n",
      "\n",
      "(34) Andrew Eckert:   Not the best use of $18. Not bad but the money can be better spent. Sexy fishnet leggings\n",
      "\n",
      "(5) Ed Harris:   Great value, bold & dry, $12 assay Costco\n",
      "\n",
      "(210) Samson Li:   Very smooth! Paid Canadian $63 at fine dining Teahouse at Vancouver! Value for money!\n",
      "\n",
      "(5) C OA:   Formidable. Think of a $30-40 wine.\n",
      "\n"
     ]
    },
    {
     "ename": "TypeError",
     "evalue": "argument of type 'float' is not iterable",
     "output_type": "error",
     "traceback": [
      "\u001b[1;31m---------------------------------------------------------------------------\u001b[0m",
      "\u001b[1;31mTypeError\u001b[0m                                 Traceback (most recent call last)",
      "\u001b[1;32m~\\AppData\\Local\\Temp\\ipykernel_3936\\44486309.py\u001b[0m in \u001b[0;36m<module>\u001b[1;34m\u001b[0m\n\u001b[0;32m      1\u001b[0m \u001b[1;32mfor\u001b[0m \u001b[0mi\u001b[0m\u001b[1;33m,\u001b[0m\u001b[0mr\u001b[0m \u001b[1;32min\u001b[0m \u001b[0menumerate\u001b[0m\u001b[1;33m(\u001b[0m\u001b[0mdf\u001b[0m\u001b[1;33m[\u001b[0m\u001b[1;34m'review'\u001b[0m\u001b[1;33m]\u001b[0m\u001b[1;33m)\u001b[0m\u001b[1;33m:\u001b[0m\u001b[1;33m\u001b[0m\u001b[1;33m\u001b[0m\u001b[0m\n\u001b[1;32m----> 2\u001b[1;33m     \u001b[1;32mif\u001b[0m \u001b[1;34m'$'\u001b[0m \u001b[1;32min\u001b[0m \u001b[0mr\u001b[0m\u001b[1;33m:\u001b[0m\u001b[1;33m\u001b[0m\u001b[1;33m\u001b[0m\u001b[0m\n\u001b[0m\u001b[0;32m      3\u001b[0m         \u001b[0mprint\u001b[0m\u001b[1;33m(\u001b[0m \u001b[1;34mf'({int(df[\"user.ratings_count\"][i])}) {df[\"user.name\"][i]}:  '\u001b[0m\u001b[1;33m,\u001b[0m \u001b[0mr\u001b[0m\u001b[1;33m+\u001b[0m\u001b[1;34m'\\n'\u001b[0m\u001b[1;33m)\u001b[0m\u001b[1;33m\u001b[0m\u001b[1;33m\u001b[0m\u001b[0m\n",
      "\u001b[1;31mTypeError\u001b[0m: argument of type 'float' is not iterable"
     ]
    }
   ],
   "source": [
    "for i, r in enumerate(df['review']):\n",
    "    if '$' in r:\n",
    "        print(\n",
    "            f'({int(df[\"user.ratings_count\"][i])}) {df[\"user.name\"][i]}:  ', r+'\\n')"
   ]
  },
  {
   "cell_type": "code",
   "execution_count": 6,
   "id": "1eff4ef9",
   "metadata": {},
   "outputs": [],
   "source": [
    "import requests"
   ]
  },
  {
   "cell_type": "code",
   "execution_count": 39,
   "id": "c9bbe75a",
   "metadata": {},
   "outputs": [],
   "source": [
    "r = requests.post('http://127.0.0.2:5000/translate',\n",
    "                  params={\n",
    "                      \"q\": \"Nez d agrumes, bouche très simple.\",\n",
    "                      \"source\": \"fr\",\n",
    "                      \"target\": \"en\",\n",
    "                      \"format\": \"text\",\n",
    "                      \"api_key\": \"\",\n",
    "\n",
    "                  }\n",
    "\n",
    "\n",
    "\n",
    "                  )"
   ]
  },
  {
   "cell_type": "code",
   "execution_count": 40,
   "id": "b7f20d89",
   "metadata": {},
   "outputs": [
    {
     "data": {
      "text/plain": [
       "{'translatedText': 'Nose of citrus, very simple mouth.'}"
      ]
     },
     "execution_count": 40,
     "metadata": {},
     "output_type": "execute_result"
    }
   ],
   "source": [
    "r.json()"
   ]
  },
  {
   "cell_type": "code",
   "execution_count": null,
   "id": "b568dfdd",
   "metadata": {},
   "outputs": [],
   "source": []
  },
  {
   "cell_type": "code",
   "execution_count": null,
   "id": "3c921954",
   "metadata": {},
   "outputs": [],
   "source": []
  },
  {
   "cell_type": "code",
   "execution_count": null,
   "id": "0ac49e2c",
   "metadata": {},
   "outputs": [],
   "source": []
  },
  {
   "cell_type": "code",
   "execution_count": null,
   "id": "e72c22c4",
   "metadata": {},
   "outputs": [],
   "source": []
  },
  {
   "cell_type": "code",
   "execution_count": null,
   "id": "73e3f91d",
   "metadata": {},
   "outputs": [],
   "source": []
  },
  {
   "cell_type": "code",
   "execution_count": null,
   "id": "2e8e8c59",
   "metadata": {},
   "outputs": [],
   "source": []
  },
  {
   "cell_type": "code",
   "execution_count": 100,
   "id": "56b9da7b",
   "metadata": {},
   "outputs": [],
   "source": [
    "import os\n",
    "import random\n",
    "from pyspark import SparkContext, SparkConf\n",
    "import pyspark"
   ]
  },
  {
   "cell_type": "code",
   "execution_count": 101,
   "id": "cf6356ec",
   "metadata": {},
   "outputs": [
    {
     "data": {
      "text/plain": [
       "'3.2.1'"
      ]
     },
     "execution_count": 101,
     "metadata": {},
     "output_type": "execute_result"
    }
   ],
   "source": [
    "pyspark.__version__"
   ]
  },
  {
   "cell_type": "code",
   "execution_count": 102,
   "id": "f0a00a7d",
   "metadata": {
    "scrolled": false
   },
   "outputs": [
    {
     "ename": "Py4JJavaError",
     "evalue": "An error occurred while calling None.org.apache.spark.api.java.JavaSparkContext.\n: java.lang.NoClassDefFoundError: Could not initialize class org.apache.spark.storage.StorageUtils$\r\n\tat org.apache.spark.storage.BlockManagerMasterEndpoint.<init>(BlockManagerMasterEndpoint.scala:110)\r\n\tat org.apache.spark.SparkEnv$.$anonfun$create$9(SparkEnv.scala:348)\r\n\tat org.apache.spark.SparkEnv$.registerOrLookupEndpoint$1(SparkEnv.scala:287)\r\n\tat org.apache.spark.SparkEnv$.create(SparkEnv.scala:336)\r\n\tat org.apache.spark.SparkEnv$.createDriverEnv(SparkEnv.scala:191)\r\n\tat org.apache.spark.SparkContext.createSparkEnv(SparkContext.scala:277)\r\n\tat org.apache.spark.SparkContext.<init>(SparkContext.scala:460)\r\n\tat org.apache.spark.api.java.JavaSparkContext.<init>(JavaSparkContext.scala:58)\r\n\tat java.base/jdk.internal.reflect.NativeConstructorAccessorImpl.newInstance0(Native Method)\r\n\tat java.base/jdk.internal.reflect.NativeConstructorAccessorImpl.newInstance(NativeConstructorAccessorImpl.java:77)\r\n\tat java.base/jdk.internal.reflect.DelegatingConstructorAccessorImpl.newInstance(DelegatingConstructorAccessorImpl.java:45)\r\n\tat java.base/java.lang.reflect.Constructor.newInstanceWithCaller(Constructor.java:499)\r\n\tat java.base/java.lang.reflect.Constructor.newInstance(Constructor.java:480)\r\n\tat py4j.reflection.MethodInvoker.invoke(MethodInvoker.java:247)\r\n\tat py4j.reflection.ReflectionEngine.invoke(ReflectionEngine.java:357)\r\n\tat py4j.Gateway.invoke(Gateway.java:238)\r\n\tat py4j.commands.ConstructorCommand.invokeConstructor(ConstructorCommand.java:80)\r\n\tat py4j.commands.ConstructorCommand.execute(ConstructorCommand.java:69)\r\n\tat py4j.ClientServerConnection.waitForCommands(ClientServerConnection.java:182)\r\n\tat py4j.ClientServerConnection.run(ClientServerConnection.java:106)\r\n\tat java.base/java.lang.Thread.run(Thread.java:833)\r\n",
     "output_type": "error",
     "traceback": [
      "\u001b[1;31m---------------------------------------------------------------------------\u001b[0m",
      "\u001b[1;31mPy4JJavaError\u001b[0m                             Traceback (most recent call last)",
      "\u001b[1;32m~\\AppData\\Local\\Temp\\ipykernel_5684\\1135826093.py\u001b[0m in \u001b[0;36m<module>\u001b[1;34m\u001b[0m\n\u001b[0;32m      3\u001b[0m \u001b[1;32mfrom\u001b[0m \u001b[0mpyspark\u001b[0m \u001b[1;32mimport\u001b[0m \u001b[0mSparkContext\u001b[0m\u001b[1;33m,\u001b[0m \u001b[0mSparkConf\u001b[0m\u001b[1;33m\u001b[0m\u001b[1;33m\u001b[0m\u001b[0m\n\u001b[0;32m      4\u001b[0m \u001b[1;33m\u001b[0m\u001b[0m\n\u001b[1;32m----> 5\u001b[1;33m \u001b[0msc\u001b[0m \u001b[1;33m=\u001b[0m \u001b[0mSparkContext\u001b[0m\u001b[1;33m(\u001b[0m\u001b[1;34m'local[*]'\u001b[0m\u001b[1;33m,\u001b[0m \u001b[1;34m'pyspark_df'\u001b[0m\u001b[1;33m)\u001b[0m\u001b[1;33m\u001b[0m\u001b[1;33m\u001b[0m\u001b[0m\n\u001b[0m\u001b[0;32m      6\u001b[0m \u001b[0mprint\u001b[0m\u001b[1;33m(\u001b[0m\u001b[0msc\u001b[0m\u001b[1;33m.\u001b[0m\u001b[0mversion\u001b[0m\u001b[1;33m)\u001b[0m\u001b[1;33m\u001b[0m\u001b[1;33m\u001b[0m\u001b[0m\n\u001b[0;32m      7\u001b[0m \u001b[1;33m\u001b[0m\u001b[0m\n",
      "\u001b[1;32m~\\anaconda3\\lib\\site-packages\\pyspark\\context.py\u001b[0m in \u001b[0;36m__init__\u001b[1;34m(self, master, appName, sparkHome, pyFiles, environment, batchSize, serializer, conf, gateway, jsc, profiler_cls)\u001b[0m\n\u001b[0;32m    144\u001b[0m         \u001b[0mSparkContext\u001b[0m\u001b[1;33m.\u001b[0m\u001b[0m_ensure_initialized\u001b[0m\u001b[1;33m(\u001b[0m\u001b[0mself\u001b[0m\u001b[1;33m,\u001b[0m \u001b[0mgateway\u001b[0m\u001b[1;33m=\u001b[0m\u001b[0mgateway\u001b[0m\u001b[1;33m,\u001b[0m \u001b[0mconf\u001b[0m\u001b[1;33m=\u001b[0m\u001b[0mconf\u001b[0m\u001b[1;33m)\u001b[0m\u001b[1;33m\u001b[0m\u001b[1;33m\u001b[0m\u001b[0m\n\u001b[0;32m    145\u001b[0m         \u001b[1;32mtry\u001b[0m\u001b[1;33m:\u001b[0m\u001b[1;33m\u001b[0m\u001b[1;33m\u001b[0m\u001b[0m\n\u001b[1;32m--> 146\u001b[1;33m             self._do_init(master, appName, sparkHome, pyFiles, environment, batchSize, serializer,\n\u001b[0m\u001b[0;32m    147\u001b[0m                           conf, jsc, profiler_cls)\n\u001b[0;32m    148\u001b[0m         \u001b[1;32mexcept\u001b[0m\u001b[1;33m:\u001b[0m\u001b[1;33m\u001b[0m\u001b[1;33m\u001b[0m\u001b[0m\n",
      "\u001b[1;32m~\\anaconda3\\lib\\site-packages\\pyspark\\context.py\u001b[0m in \u001b[0;36m_do_init\u001b[1;34m(self, master, appName, sparkHome, pyFiles, environment, batchSize, serializer, conf, jsc, profiler_cls)\u001b[0m\n\u001b[0;32m    207\u001b[0m \u001b[1;33m\u001b[0m\u001b[0m\n\u001b[0;32m    208\u001b[0m         \u001b[1;31m# Create the Java SparkContext through Py4J\u001b[0m\u001b[1;33m\u001b[0m\u001b[1;33m\u001b[0m\u001b[0m\n\u001b[1;32m--> 209\u001b[1;33m         \u001b[0mself\u001b[0m\u001b[1;33m.\u001b[0m\u001b[0m_jsc\u001b[0m \u001b[1;33m=\u001b[0m \u001b[0mjsc\u001b[0m \u001b[1;32mor\u001b[0m \u001b[0mself\u001b[0m\u001b[1;33m.\u001b[0m\u001b[0m_initialize_context\u001b[0m\u001b[1;33m(\u001b[0m\u001b[0mself\u001b[0m\u001b[1;33m.\u001b[0m\u001b[0m_conf\u001b[0m\u001b[1;33m.\u001b[0m\u001b[0m_jconf\u001b[0m\u001b[1;33m)\u001b[0m\u001b[1;33m\u001b[0m\u001b[1;33m\u001b[0m\u001b[0m\n\u001b[0m\u001b[0;32m    210\u001b[0m         \u001b[1;31m# Reset the SparkConf to the one actually used by the SparkContext in JVM.\u001b[0m\u001b[1;33m\u001b[0m\u001b[1;33m\u001b[0m\u001b[0m\n\u001b[0;32m    211\u001b[0m         \u001b[0mself\u001b[0m\u001b[1;33m.\u001b[0m\u001b[0m_conf\u001b[0m \u001b[1;33m=\u001b[0m \u001b[0mSparkConf\u001b[0m\u001b[1;33m(\u001b[0m\u001b[0m_jconf\u001b[0m\u001b[1;33m=\u001b[0m\u001b[0mself\u001b[0m\u001b[1;33m.\u001b[0m\u001b[0m_jsc\u001b[0m\u001b[1;33m.\u001b[0m\u001b[0msc\u001b[0m\u001b[1;33m(\u001b[0m\u001b[1;33m)\u001b[0m\u001b[1;33m.\u001b[0m\u001b[0mconf\u001b[0m\u001b[1;33m(\u001b[0m\u001b[1;33m)\u001b[0m\u001b[1;33m)\u001b[0m\u001b[1;33m\u001b[0m\u001b[1;33m\u001b[0m\u001b[0m\n",
      "\u001b[1;32m~\\anaconda3\\lib\\site-packages\\pyspark\\context.py\u001b[0m in \u001b[0;36m_initialize_context\u001b[1;34m(self, jconf)\u001b[0m\n\u001b[0;32m    327\u001b[0m         \u001b[0mInitialize\u001b[0m \u001b[0mSparkContext\u001b[0m \u001b[1;32min\u001b[0m \u001b[0mfunction\u001b[0m \u001b[0mto\u001b[0m \u001b[0mallow\u001b[0m \u001b[0msubclass\u001b[0m \u001b[0mspecific\u001b[0m \u001b[0minitialization\u001b[0m\u001b[1;33m\u001b[0m\u001b[1;33m\u001b[0m\u001b[0m\n\u001b[0;32m    328\u001b[0m         \"\"\"\n\u001b[1;32m--> 329\u001b[1;33m         \u001b[1;32mreturn\u001b[0m \u001b[0mself\u001b[0m\u001b[1;33m.\u001b[0m\u001b[0m_jvm\u001b[0m\u001b[1;33m.\u001b[0m\u001b[0mJavaSparkContext\u001b[0m\u001b[1;33m(\u001b[0m\u001b[0mjconf\u001b[0m\u001b[1;33m)\u001b[0m\u001b[1;33m\u001b[0m\u001b[1;33m\u001b[0m\u001b[0m\n\u001b[0m\u001b[0;32m    330\u001b[0m \u001b[1;33m\u001b[0m\u001b[0m\n\u001b[0;32m    331\u001b[0m     \u001b[1;33m@\u001b[0m\u001b[0mclassmethod\u001b[0m\u001b[1;33m\u001b[0m\u001b[1;33m\u001b[0m\u001b[0m\n",
      "\u001b[1;32m~\\anaconda3\\lib\\site-packages\\py4j\\java_gateway.py\u001b[0m in \u001b[0;36m__call__\u001b[1;34m(self, *args)\u001b[0m\n\u001b[0;32m   1583\u001b[0m \u001b[1;33m\u001b[0m\u001b[0m\n\u001b[0;32m   1584\u001b[0m         \u001b[0manswer\u001b[0m \u001b[1;33m=\u001b[0m \u001b[0mself\u001b[0m\u001b[1;33m.\u001b[0m\u001b[0m_gateway_client\u001b[0m\u001b[1;33m.\u001b[0m\u001b[0msend_command\u001b[0m\u001b[1;33m(\u001b[0m\u001b[0mcommand\u001b[0m\u001b[1;33m)\u001b[0m\u001b[1;33m\u001b[0m\u001b[1;33m\u001b[0m\u001b[0m\n\u001b[1;32m-> 1585\u001b[1;33m         return_value = get_return_value(\n\u001b[0m\u001b[0;32m   1586\u001b[0m             answer, self._gateway_client, None, self._fqn)\n\u001b[0;32m   1587\u001b[0m \u001b[1;33m\u001b[0m\u001b[0m\n",
      "\u001b[1;32m~\\anaconda3\\lib\\site-packages\\py4j\\protocol.py\u001b[0m in \u001b[0;36mget_return_value\u001b[1;34m(answer, gateway_client, target_id, name)\u001b[0m\n\u001b[0;32m    324\u001b[0m             \u001b[0mvalue\u001b[0m \u001b[1;33m=\u001b[0m \u001b[0mOUTPUT_CONVERTER\u001b[0m\u001b[1;33m[\u001b[0m\u001b[0mtype\u001b[0m\u001b[1;33m]\u001b[0m\u001b[1;33m(\u001b[0m\u001b[0manswer\u001b[0m\u001b[1;33m[\u001b[0m\u001b[1;36m2\u001b[0m\u001b[1;33m:\u001b[0m\u001b[1;33m]\u001b[0m\u001b[1;33m,\u001b[0m \u001b[0mgateway_client\u001b[0m\u001b[1;33m)\u001b[0m\u001b[1;33m\u001b[0m\u001b[1;33m\u001b[0m\u001b[0m\n\u001b[0;32m    325\u001b[0m             \u001b[1;32mif\u001b[0m \u001b[0manswer\u001b[0m\u001b[1;33m[\u001b[0m\u001b[1;36m1\u001b[0m\u001b[1;33m]\u001b[0m \u001b[1;33m==\u001b[0m \u001b[0mREFERENCE_TYPE\u001b[0m\u001b[1;33m:\u001b[0m\u001b[1;33m\u001b[0m\u001b[1;33m\u001b[0m\u001b[0m\n\u001b[1;32m--> 326\u001b[1;33m                 raise Py4JJavaError(\n\u001b[0m\u001b[0;32m    327\u001b[0m                     \u001b[1;34m\"An error occurred while calling {0}{1}{2}.\\n\"\u001b[0m\u001b[1;33m.\u001b[0m\u001b[1;33m\u001b[0m\u001b[1;33m\u001b[0m\u001b[0m\n\u001b[0;32m    328\u001b[0m                     format(target_id, \".\", name), value)\n",
      "\u001b[1;31mPy4JJavaError\u001b[0m: An error occurred while calling None.org.apache.spark.api.java.JavaSparkContext.\n: java.lang.NoClassDefFoundError: Could not initialize class org.apache.spark.storage.StorageUtils$\r\n\tat org.apache.spark.storage.BlockManagerMasterEndpoint.<init>(BlockManagerMasterEndpoint.scala:110)\r\n\tat org.apache.spark.SparkEnv$.$anonfun$create$9(SparkEnv.scala:348)\r\n\tat org.apache.spark.SparkEnv$.registerOrLookupEndpoint$1(SparkEnv.scala:287)\r\n\tat org.apache.spark.SparkEnv$.create(SparkEnv.scala:336)\r\n\tat org.apache.spark.SparkEnv$.createDriverEnv(SparkEnv.scala:191)\r\n\tat org.apache.spark.SparkContext.createSparkEnv(SparkContext.scala:277)\r\n\tat org.apache.spark.SparkContext.<init>(SparkContext.scala:460)\r\n\tat org.apache.spark.api.java.JavaSparkContext.<init>(JavaSparkContext.scala:58)\r\n\tat java.base/jdk.internal.reflect.NativeConstructorAccessorImpl.newInstance0(Native Method)\r\n\tat java.base/jdk.internal.reflect.NativeConstructorAccessorImpl.newInstance(NativeConstructorAccessorImpl.java:77)\r\n\tat java.base/jdk.internal.reflect.DelegatingConstructorAccessorImpl.newInstance(DelegatingConstructorAccessorImpl.java:45)\r\n\tat java.base/java.lang.reflect.Constructor.newInstanceWithCaller(Constructor.java:499)\r\n\tat java.base/java.lang.reflect.Constructor.newInstance(Constructor.java:480)\r\n\tat py4j.reflection.MethodInvoker.invoke(MethodInvoker.java:247)\r\n\tat py4j.reflection.ReflectionEngine.invoke(ReflectionEngine.java:357)\r\n\tat py4j.Gateway.invoke(Gateway.java:238)\r\n\tat py4j.commands.ConstructorCommand.invokeConstructor(ConstructorCommand.java:80)\r\n\tat py4j.commands.ConstructorCommand.execute(ConstructorCommand.java:69)\r\n\tat py4j.ClientServerConnection.waitForCommands(ClientServerConnection.java:182)\r\n\tat py4j.ClientServerConnection.run(ClientServerConnection.java:106)\r\n\tat java.base/java.lang.Thread.run(Thread.java:833)\r\n"
     ]
    }
   ],
   "source": [
    "from pyspark.sql import SQLContext\n",
    "import os\n",
    "import random\n",
    "from pyspark import SparkContext, SparkConf\n",
    "\n",
    "sc = SparkContext('local[*]', 'pyspark_df')\n",
    "print(sc.version)\n",
    "\n",
    "# Alternatively...\n",
    "# conf = SparkConf().setAppName('pyspark_df').setMaster('local[*]')\n",
    "# sc = SparkContext(conf=conf)\n",
    "# needed to convert RDDs into DataFrames\n",
    "sqlContext = SQLContext(sc)"
   ]
  },
  {
   "cell_type": "code",
   "execution_count": null,
   "id": "8fbf6104",
   "metadata": {},
   "outputs": [],
   "source": []
  },
  {
   "cell_type": "code",
   "execution_count": 257,
   "id": "65cd766c",
   "metadata": {},
   "outputs": [],
   "source": [
    "from lingua import LanguageDetectorBuilder, Language, IsoCode639_1, IsoCode639_3\n",
    "\n",
    "# Include all languages available in the library.\n",
    "detector = LanguageDetectorBuilder.from_all_languages().with_low_accuracy_mode().build()"
   ]
  },
  {
   "cell_type": "code",
   "execution_count": 258,
   "id": "127a84d7",
   "metadata": {},
   "outputs": [
    {
     "data": {
      "text/plain": [
       "Language.ENGLISH"
      ]
     },
     "execution_count": 258,
     "metadata": {},
     "output_type": "execute_result"
    }
   ],
   "source": [
    "detector.detect_language_of(\n",
    "    \"hello, my name is stephen ro and I am happy to see you.\")"
   ]
  },
  {
   "cell_type": "code",
   "execution_count": null,
   "id": "cac76e9a",
   "metadata": {},
   "outputs": [],
   "source": [
    "detector.detect_language_of(\n",
    "    \"hello, my name is stephen ro and I am happy to see you.\")"
   ]
  },
  {
   "cell_type": "code",
   "execution_count": 276,
   "id": "1ec0d11d",
   "metadata": {
    "scrolled": true
   },
   "outputs": [
    {
     "ename": "AttributeError",
     "evalue": "'NoneType' object has no attribute 'name'",
     "output_type": "error",
     "traceback": [
      "\u001b[1;31m---------------------------------------------------------------------------\u001b[0m",
      "\u001b[1;31mAttributeError\u001b[0m                            Traceback (most recent call last)",
      "\u001b[1;32m~\\AppData\\Local\\Temp\\ipykernel_14184\\2913262072.py\u001b[0m in \u001b[0;36m<module>\u001b[1;34m\u001b[0m\n\u001b[1;32m----> 1\u001b[1;33m \u001b[0mdf\u001b[0m\u001b[1;33m[\u001b[0m\u001b[1;34m'reviews'\u001b[0m\u001b[1;33m]\u001b[0m\u001b[1;33m.\u001b[0m\u001b[0mapply\u001b[0m\u001b[1;33m(\u001b[0m\u001b[1;32mlambda\u001b[0m \u001b[0mx\u001b[0m\u001b[1;33m:\u001b[0m \u001b[0mdetector\u001b[0m\u001b[1;33m.\u001b[0m\u001b[0mdetect_language_of\u001b[0m\u001b[1;33m(\u001b[0m\u001b[0mx\u001b[0m\u001b[1;33m)\u001b[0m\u001b[1;33m.\u001b[0m\u001b[0mname\u001b[0m\u001b[1;33m)\u001b[0m\u001b[1;33m\u001b[0m\u001b[1;33m\u001b[0m\u001b[0m\n\u001b[0m",
      "\u001b[1;32m~\\anaconda3\\lib\\site-packages\\pandas\\core\\series.py\u001b[0m in \u001b[0;36mapply\u001b[1;34m(self, func, convert_dtype, args, **kwargs)\u001b[0m\n\u001b[0;32m   4431\u001b[0m         \u001b[0mdtype\u001b[0m\u001b[1;33m:\u001b[0m \u001b[0mfloat64\u001b[0m\u001b[1;33m\u001b[0m\u001b[1;33m\u001b[0m\u001b[0m\n\u001b[0;32m   4432\u001b[0m         \"\"\"\n\u001b[1;32m-> 4433\u001b[1;33m         \u001b[1;32mreturn\u001b[0m \u001b[0mSeriesApply\u001b[0m\u001b[1;33m(\u001b[0m\u001b[0mself\u001b[0m\u001b[1;33m,\u001b[0m \u001b[0mfunc\u001b[0m\u001b[1;33m,\u001b[0m \u001b[0mconvert_dtype\u001b[0m\u001b[1;33m,\u001b[0m \u001b[0margs\u001b[0m\u001b[1;33m,\u001b[0m \u001b[0mkwargs\u001b[0m\u001b[1;33m)\u001b[0m\u001b[1;33m.\u001b[0m\u001b[0mapply\u001b[0m\u001b[1;33m(\u001b[0m\u001b[1;33m)\u001b[0m\u001b[1;33m\u001b[0m\u001b[1;33m\u001b[0m\u001b[0m\n\u001b[0m\u001b[0;32m   4434\u001b[0m \u001b[1;33m\u001b[0m\u001b[0m\n\u001b[0;32m   4435\u001b[0m     def _reduce(\n",
      "\u001b[1;32m~\\anaconda3\\lib\\site-packages\\pandas\\core\\apply.py\u001b[0m in \u001b[0;36mapply\u001b[1;34m(self)\u001b[0m\n\u001b[0;32m   1086\u001b[0m             \u001b[1;32mreturn\u001b[0m \u001b[0mself\u001b[0m\u001b[1;33m.\u001b[0m\u001b[0mapply_str\u001b[0m\u001b[1;33m(\u001b[0m\u001b[1;33m)\u001b[0m\u001b[1;33m\u001b[0m\u001b[1;33m\u001b[0m\u001b[0m\n\u001b[0;32m   1087\u001b[0m \u001b[1;33m\u001b[0m\u001b[0m\n\u001b[1;32m-> 1088\u001b[1;33m         \u001b[1;32mreturn\u001b[0m \u001b[0mself\u001b[0m\u001b[1;33m.\u001b[0m\u001b[0mapply_standard\u001b[0m\u001b[1;33m(\u001b[0m\u001b[1;33m)\u001b[0m\u001b[1;33m\u001b[0m\u001b[1;33m\u001b[0m\u001b[0m\n\u001b[0m\u001b[0;32m   1089\u001b[0m \u001b[1;33m\u001b[0m\u001b[0m\n\u001b[0;32m   1090\u001b[0m     \u001b[1;32mdef\u001b[0m \u001b[0magg\u001b[0m\u001b[1;33m(\u001b[0m\u001b[0mself\u001b[0m\u001b[1;33m)\u001b[0m\u001b[1;33m:\u001b[0m\u001b[1;33m\u001b[0m\u001b[1;33m\u001b[0m\u001b[0m\n",
      "\u001b[1;32m~\\anaconda3\\lib\\site-packages\\pandas\\core\\apply.py\u001b[0m in \u001b[0;36mapply_standard\u001b[1;34m(self)\u001b[0m\n\u001b[0;32m   1141\u001b[0m                 \u001b[1;31m# List[Union[Callable[..., Any], str]]]]]\"; expected\u001b[0m\u001b[1;33m\u001b[0m\u001b[1;33m\u001b[0m\u001b[0m\n\u001b[0;32m   1142\u001b[0m                 \u001b[1;31m# \"Callable[[Any], Any]\"\u001b[0m\u001b[1;33m\u001b[0m\u001b[1;33m\u001b[0m\u001b[0m\n\u001b[1;32m-> 1143\u001b[1;33m                 mapped = lib.map_infer(\n\u001b[0m\u001b[0;32m   1144\u001b[0m                     \u001b[0mvalues\u001b[0m\u001b[1;33m,\u001b[0m\u001b[1;33m\u001b[0m\u001b[1;33m\u001b[0m\u001b[0m\n\u001b[0;32m   1145\u001b[0m                     \u001b[0mf\u001b[0m\u001b[1;33m,\u001b[0m  \u001b[1;31m# type: ignore[arg-type]\u001b[0m\u001b[1;33m\u001b[0m\u001b[1;33m\u001b[0m\u001b[0m\n",
      "\u001b[1;32m~\\anaconda3\\lib\\site-packages\\pandas\\_libs\\lib.pyx\u001b[0m in \u001b[0;36mpandas._libs.lib.map_infer\u001b[1;34m()\u001b[0m\n",
      "\u001b[1;32m~\\AppData\\Local\\Temp\\ipykernel_14184\\2913262072.py\u001b[0m in \u001b[0;36m<lambda>\u001b[1;34m(x)\u001b[0m\n\u001b[1;32m----> 1\u001b[1;33m \u001b[0mdf\u001b[0m\u001b[1;33m[\u001b[0m\u001b[1;34m'reviews'\u001b[0m\u001b[1;33m]\u001b[0m\u001b[1;33m.\u001b[0m\u001b[0mapply\u001b[0m\u001b[1;33m(\u001b[0m\u001b[1;32mlambda\u001b[0m \u001b[0mx\u001b[0m\u001b[1;33m:\u001b[0m \u001b[0mdetector\u001b[0m\u001b[1;33m.\u001b[0m\u001b[0mdetect_language_of\u001b[0m\u001b[1;33m(\u001b[0m\u001b[0mx\u001b[0m\u001b[1;33m)\u001b[0m\u001b[1;33m.\u001b[0m\u001b[0mname\u001b[0m\u001b[1;33m)\u001b[0m\u001b[1;33m\u001b[0m\u001b[1;33m\u001b[0m\u001b[0m\n\u001b[0m",
      "\u001b[1;31mAttributeError\u001b[0m: 'NoneType' object has no attribute 'name'"
     ]
    }
   ],
   "source": [
    "df['reviews'].apply(lambda x: detector.detect_language_of(x).name)"
   ]
  },
  {
   "cell_type": "code",
   "execution_count": 279,
   "id": "87f3297f",
   "metadata": {
    "scrolled": true
   },
   "outputs": [
    {
     "name": "stdout",
     "output_type": "stream",
     "text": [
      "3.8\n",
      "None\n",
      "3\n",
      "None\n",
      "9,1 PM\n",
      "None\n",
      "@92\n",
      "None\n",
      "4.3\n",
      "None\n",
      "4.3\n",
      "None\n",
      "4,3\n",
      "None\n",
      "4.4\n",
      "None\n",
      "4.2\n",
      "None\n",
      "8,0/10\n",
      "None\n",
      "91/100\n",
      "None\n",
      "4.3\n",
      "None\n",
      "4.1. 🍷🍷🍷🍷\n",
      "None\n",
      "3.9\n",
      "None\n",
      "3,8🌟\n",
      "None\n",
      "87\n",
      "None\n",
      "4,1\n",
      "None\n",
      "4,2\n",
      "None\n",
      "4.2\n",
      "None\n",
      "4.1\n",
      "None\n",
      "4,3\n",
      "None\n",
      "4.1\n",
      "None\n",
      "3.8\n",
      "None\n",
      "4.2🌟\n",
      "None\n",
      "3.5+\n",
      "None\n",
      "93\n",
      "None\n",
      "4.2\n",
      "None\n",
      "4.1\n",
      "None\n",
      "17.0/20\n",
      "None\n",
      "PN 86. FI.\n",
      "None\n",
      "4.1\n",
      "None\n",
      "91 😊😊😊😊\n",
      "None\n",
      "4.2\n",
      "None\n",
      "3.9\n",
      "None\n",
      "91/100\n",
      "None\n",
      "4,2\n",
      "None\n",
      "8.9 PM\n",
      "None\n",
      "4,2\n",
      "None\n",
      "3,7\n",
      "None\n",
      "4,2\n",
      "None\n",
      "4.1\n",
      "None\n",
      "4,2\n",
      "None\n",
      "4,1 140 VH\n",
      "None\n",
      "(4.0)\n",
      "None\n",
      "3\n",
      "None\n",
      "3,9\n",
      "None\n",
      "3,3\n",
      "None\n",
      "4,3\n",
      "None\n",
      "4.1\n",
      "None\n",
      "4.1\n",
      "None\n",
      "18/20\n",
      "None\n",
      "4.1\n",
      "None\n",
      "3.7\n",
      "None\n",
      "22\n",
      "None\n",
      "4.5\n",
      "None\n",
      "3.8\n",
      "None\n"
     ]
    }
   ],
   "source": [
    "for r in df['reviews']:\n",
    "    try:\n",
    "        detector.detect_language_of(r).name\n",
    "    except:\n",
    "        print(r)\n",
    "        p = detector.detect_language_of(r)\n",
    "        print(detector.detect_language_of(r))"
   ]
  },
  {
   "cell_type": "code",
   "execution_count": 283,
   "id": "b1581ef4",
   "metadata": {},
   "outputs": [
    {
     "data": {
      "text/plain": [
       "NoneType"
      ]
     },
     "execution_count": 283,
     "metadata": {},
     "output_type": "execute_result"
    }
   ],
   "source": [
    "type(p)"
   ]
  },
  {
   "cell_type": "code",
   "execution_count": 284,
   "id": "fdd02179",
   "metadata": {},
   "outputs": [
    {
     "data": {
      "text/plain": [
       "NoneType"
      ]
     },
     "execution_count": 284,
     "metadata": {},
     "output_type": "execute_result"
    }
   ],
   "source": [
    "type(None)"
   ]
  },
  {
   "cell_type": "code",
   "execution_count": 285,
   "id": "23f5f18e",
   "metadata": {},
   "outputs": [],
   "source": [
    "test = df.copy(deep=True)"
   ]
  },
  {
   "cell_type": "code",
   "execution_count": 290,
   "id": "f2bf58c6",
   "metadata": {},
   "outputs": [
    {
     "name": "stdout",
     "output_type": "stream",
     "text": [
      "91/100 Aroma had dark berries and vanilla. Flavor had dark lack currant, black cherries, spices, oak and vanilla. Nice balance and depth.\n",
      "None\n"
     ]
    },
    {
     "name": "stderr",
     "output_type": "stream",
     "text": [
      "C:\\Users\\steph\\AppData\\Local\\Temp\\ipykernel_14184\\2036168479.py:2: SettingWithCopyWarning: \n",
      "A value is trying to be set on a copy of a slice from a DataFrame\n",
      "\n",
      "See the caveats in the documentation: https://pandas.pydata.org/pandas-docs/stable/user_guide/indexing.html#returning-a-view-versus-a-copy\n",
      "  test['reviews'][0] = None\n"
     ]
    }
   ],
   "source": [
    "print(test['reviews'][0])\n",
    "test['reviews'][0] = None\n",
    "print(test['reviews'][0])"
   ]
  },
  {
   "cell_type": "code",
   "execution_count": null,
   "id": "c3897818",
   "metadata": {},
   "outputs": [],
   "source": []
  },
  {
   "cell_type": "code",
   "execution_count": null,
   "id": "1e37fb0a",
   "metadata": {},
   "outputs": [],
   "source": []
  },
  {
   "cell_type": "code",
   "execution_count": null,
   "id": "d158f5b2",
   "metadata": {},
   "outputs": [],
   "source": []
  },
  {
   "cell_type": "code",
   "execution_count": null,
   "id": "35c422b4",
   "metadata": {},
   "outputs": [],
   "source": []
  },
  {
   "cell_type": "code",
   "execution_count": null,
   "id": "154d02c3",
   "metadata": {},
   "outputs": [],
   "source": []
  },
  {
   "cell_type": "code",
   "execution_count": 9,
   "id": "98a74ffa",
   "metadata": {
    "ExecuteTime": {
     "end_time": "2023-02-20T01:40:01.129741Z",
     "start_time": "2023-02-20T01:40:01.115319Z"
    }
   },
   "outputs": [
    {
     "data": {
      "text/plain": [
       "'10,000,000'"
      ]
     },
     "execution_count": 9,
     "metadata": {},
     "output_type": "execute_result"
    }
   ],
   "source": [
    "value = 10000000\n",
    "f\"{value:,}\""
   ]
  },
  {
   "cell_type": "code",
   "execution_count": null,
   "id": "d4230890",
   "metadata": {},
   "outputs": [],
   "source": []
  },
  {
   "cell_type": "code",
   "execution_count": null,
   "id": "7102e64d",
   "metadata": {},
   "outputs": [],
   "source": []
  },
  {
   "cell_type": "code",
   "execution_count": null,
   "id": "a333ba13",
   "metadata": {},
   "outputs": [],
   "source": []
  },
  {
   "cell_type": "code",
   "execution_count": null,
   "id": "547f7090",
   "metadata": {},
   "outputs": [],
   "source": []
  }
 ],
 "metadata": {
  "kernelspec": {
   "display_name": "Python 3 (ipykernel)",
   "language": "python",
   "name": "python3"
  },
  "language_info": {
   "codemirror_mode": {
    "name": "ipython",
    "version": 3
   },
   "file_extension": ".py",
   "mimetype": "text/x-python",
   "name": "python",
   "nbconvert_exporter": "python",
   "pygments_lexer": "ipython3",
   "version": "3.9.15"
  },
  "toc": {
   "base_numbering": 1,
   "nav_menu": {
    "height": "270px",
    "width": "526px"
   },
   "number_sections": true,
   "sideBar": true,
   "skip_h1_title": false,
   "title_cell": "Table of Contents",
   "title_sidebar": "Contents",
   "toc_cell": false,
   "toc_position": {
    "height": "calc(100% - 180px)",
    "left": "10px",
    "top": "150px",
    "width": "384px"
   },
   "toc_section_display": true,
   "toc_window_display": true
  }
 },
 "nbformat": 4,
 "nbformat_minor": 5
}
